{
  "nbformat": 4,
  "nbformat_minor": 0,
  "metadata": {
    "colab": {
      "provenance": [],
      "collapsed_sections": []
    },
    "kernelspec": {
      "name": "python3",
      "display_name": "Python 3"
    },
    "language_info": {
      "name": "python"
    }
  },
  "cells": [
    {
      "cell_type": "markdown",
      "source": [
        "# Regressão Linear simples do Zero \n",
        "### Laboratório da disciplina Aprendizagem de Máquina ministrada pelo professor Leandro Balby\n",
        "### Aluno: Carlos Vinicius Alves Minervino"
      ],
      "metadata": {
        "id": "FkIgHu5iAGC1"
      }
    },
    {
      "cell_type": "markdown",
      "source": [
        "### Referências:\n",
        "\n",
        "[Link da Atividade de laboratório](https://canvas.instructure.com/courses/5142637/assignments/31711946)\n",
        "\n",
        "[Vídeo: How to Do Linear Regression using Gradient Descent](https://www.youtube.com/watch?v=XdM6ER7zTLk)\n",
        "\n",
        "[Repositório no GitHub de Siraj Raval](https://github.com/llSourcell/linear_regression_live)\n",
        "\n",
        "[Link do Dataset utilizado](https://canvas.instructure.com/courses/5142637/files/186498386?wrap=1)\n"
      ],
      "metadata": {
        "id": "nnJdXvtaAVIP"
      }
    },
    {
      "cell_type": "code",
      "source": [
        "import numpy as np"
      ],
      "metadata": {
        "id": "gAYFQW6ZAMMu"
      },
      "execution_count": 1,
      "outputs": []
    },
    {
      "cell_type": "code",
      "source": [
        "def compute_error_for_given_points(b, m, points):\n",
        "  totalError = 0\n",
        "  for i in range(0, len(points)):\n",
        "    x = points[i,0]\n",
        "    y = points[i,1]\n",
        "    totalError += (y - (m*x+b))**2\n",
        "  return  totalError / float(len(points))"
      ],
      "metadata": {
        "id": "7_w9hDw6DaiE"
      },
      "execution_count": 2,
      "outputs": []
    },
    {
      "cell_type": "code",
      "source": [
        "def step_gradient(b_current, m_current, points, learning_rate):\n",
        "  b_gradient = 0\n",
        "  m_gradient = 0\n",
        "  N = float(len(points))\n",
        "  for i in range(0, len(points) ):\n",
        "    x = points[i,0]\n",
        "    y = points[i,1]\n",
        "    b_gradient += (y-(m_current*x+b_current))\n",
        "    m_gradient += x*(y-(m_current*x+b_current))\n",
        "  b_gradient *= (-2/N)\n",
        "  m_gradient *= (-2/N)\n",
        "  new_b = b_current - learning_rate*b_gradient\n",
        "  new_m = m_current - learning_rate*m_gradient\n",
        "  return [new_b, new_m, compute_error_for_given_points(new_b, new_m, points)]"
      ],
      "metadata": {
        "id": "zzEJdIH1DHfu"
      },
      "execution_count": 3,
      "outputs": []
    },
    {
      "cell_type": "code",
      "source": [
        "def gradient_descent_runner(points, starting_b, starting_m, learning_rate, num_iterations, silent=True):\n",
        "  b = starting_b\n",
        "  m = starting_m\n",
        "  rss_list = []\n",
        "  for i in range(num_iterations):\n",
        "    b, m, rss = step_gradient(b, m, np.array(points), learning_rate)\n",
        "    rss_list.append(rss)\n",
        "    if silent is False and i%100==0:\n",
        "      print('Iteração {} - RSS: {}'.format(i+1, rss))\n",
        "  return [b, m, rss_list]"
      ],
      "metadata": {
        "id": "VxH89Q3bCmnx"
      },
      "execution_count": 4,
      "outputs": []
    },
    {
      "cell_type": "code",
      "source": [
        "points = np.genfromtxt('https://raw.githubusercontent.com/llSourcell/linear_regression_live/master/data.csv', delimiter=',')\n",
        "\n",
        "#hyperparameters\n",
        "learning_rate = 0.0001\n",
        "initial_b = 0\n",
        "initial_m = 0\n",
        "num_iterations = 1000\n",
        "[b, m, rss_list] = gradient_descent_runner(points, initial_b, initial_m, learning_rate, num_iterations)\n",
        "print('b =',b)\n",
        "print('m =',m)"
      ],
      "metadata": {
        "id": "zSkIt6cZBgLA",
        "colab": {
          "base_uri": "https://localhost:8080/"
        },
        "outputId": "fc28962b-3ff3-4864-dfaf-4c3a4349acc1"
      },
      "execution_count": 5,
      "outputs": [
        {
          "output_type": "stream",
          "name": "stdout",
          "text": [
            "b = 0.08893651993741343\n",
            "m = 1.4777440851894448\n"
          ]
        }
      ]
    },
    {
      "cell_type": "code",
      "source": [
        "points.shape"
      ],
      "metadata": {
        "colab": {
          "base_uri": "https://localhost:8080/"
        },
        "id": "8xKKRNMEs1Ly",
        "outputId": "4c5c4a06-d449-43e1-d47f-1b2ae37a675c"
      },
      "execution_count": 6,
      "outputs": [
        {
          "output_type": "execute_result",
          "data": {
            "text/plain": [
              "(100, 2)"
            ]
          },
          "metadata": {},
          "execution_count": 6
        }
      ]
    },
    {
      "cell_type": "code",
      "source": [
        "x_data = points[:,0]\n",
        "y_data = points[:,1]\n",
        "x0 = min(x_data)\n",
        "y0 = m*x0+b\n",
        "x1 = max(x_data)\n",
        "y1 = m*x1+b"
      ],
      "metadata": {
        "id": "2D5aq9sltIID"
      },
      "execution_count": 7,
      "outputs": []
    },
    {
      "cell_type": "code",
      "source": [
        "import matplotlib.pyplot as plt\n",
        "plt.scatter(x_data, y_data)\n",
        "plt.plot([x0,x1], [y0,y1], color='red')"
      ],
      "metadata": {
        "colab": {
          "base_uri": "https://localhost:8080/",
          "height": 282
        },
        "id": "XVLyA9NBskic",
        "outputId": "580c9a7d-54b7-489a-d531-63cfcc1c29c6"
      },
      "execution_count": 8,
      "outputs": [
        {
          "output_type": "execute_result",
          "data": {
            "text/plain": [
              "[<matplotlib.lines.Line2D at 0x7f2452bba190>]"
            ]
          },
          "metadata": {},
          "execution_count": 8
        },
        {
          "output_type": "display_data",
          "data": {
            "text/plain": [
              "<Figure size 432x288 with 1 Axes>"
            ],
            "image/png": "[encoded data removed]"
          },
          "metadata": {
            "needs_background": "light"
          }
        }
      ]
    },
    {
      "cell_type": "markdown",
      "source": [
        "### Agora faremos o mesmo processo com os dados de Anos de Escolaridade vs Salário"
      ],
      "metadata": {
        "id": "ccbmTxGevAqw"
      }
    },
    {
      "cell_type": "code",
      "source": [
        "dados_income = np.genfromtxt('https://raw.githubusercontent.com/viniciuscva/disciplinaAM/main/income.csv', delimiter=',')\n",
        "#hyperparameters\n",
        "learning_rate = 0.001\n",
        "initial_b = 0\n",
        "initial_m = 0\n",
        "num_iterations = 10000\n",
        "[b, m, rss_list] = gradient_descent_runner(dados_income, initial_b, initial_m, learning_rate, num_iterations)\n",
        "print('b =',b)\n",
        "print('m =',m)"
      ],
      "metadata": {
        "colab": {
          "base_uri": "https://localhost:8080/"
        },
        "id": "-wJJ9Ijps__C",
        "outputId": "3d88e7f5-2e10-45c6-d0f8-10fb2055cd00"
      },
      "execution_count": 9,
      "outputs": [
        {
          "output_type": "stream",
          "name": "stdout",
          "text": [
            "b = -24.133020015450974\n",
            "m = 4.687917174695901\n"
          ]
        }
      ]
    },
    {
      "cell_type": "code",
      "source": [
        "x_data = dados_income[:,0]\n",
        "y_data = dados_income[:,1]\n",
        "x0 = min(x_data)\n",
        "y0 = m*x0+b\n",
        "x1 = max(x_data)\n",
        "y1 = m*x1+b"
      ],
      "metadata": {
        "id": "vZvM90XhuyKO"
      },
      "execution_count": 10,
      "outputs": []
    },
    {
      "cell_type": "code",
      "source": [
        "plt.scatter(x_data, y_data)\n",
        "plt.plot([x0,x1], [y0,y1], color='red')"
      ],
      "metadata": {
        "colab": {
          "base_uri": "https://localhost:8080/",
          "height": 282
        },
        "id": "aMshPHKeu4_m",
        "outputId": "c96cdfe0-98df-465a-e1db-7f77e4662346"
      },
      "execution_count": 11,
      "outputs": [
        {
          "output_type": "execute_result",
          "data": {
            "text/plain": [
              "[<matplotlib.lines.Line2D at 0x7f2452665610>]"
            ]
          },
          "metadata": {},
          "execution_count": 11
        },
        {
          "output_type": "display_data",
          "data": {
            "text/plain": [
              "<Figure size 432x288 with 1 Axes>"
            ],
            "image/png": "[encoded data removed]"
          },
          "metadata": {
            "needs_background": "light"
          }
        }
      ]
    },
    {
      "cell_type": "markdown",
      "source": [
        "### Questão 1: Modifique o código original para imprimir o RSS a cada iteração do gradiente descendente. Gere um plot mostrando o RSS (eixo y) por iteração (eixo x)."
      ],
      "metadata": {
        "id": "T8Z4MJFjw_VV"
      }
    },
    {
      "cell_type": "code",
      "source": [
        "[b, m, rss_list] = gradient_descent_runner(dados_income, initial_b, initial_m, learning_rate, num_iterations, silent=False)\n",
        "\n",
        "plt.plot(range(len(rss_list)), rss_list)\n",
        "plt.ylabel('RSS')\n",
        "plt.xlabel('Iteração')"
      ],
      "metadata": {
        "colab": {
          "base_uri": "https://localhost:8080/",
          "height": 1000
        },
        "id": "Bqz-EADsu6r1",
        "outputId": "093671e1-093f-438a-dcac-0d659e21a028"
      },
      "execution_count": 12,
      "outputs": [
        {
          "output_type": "stream",
          "name": "stdout",
          "text": [
            "Iteração 1 - RSS: 707.2710165896411\n",
            "Iteração 101 - RSS: 103.38436997199538\n",
            "Iteração 201 - RSS: 101.99842142567645\n",
            "Iteração 301 - RSS: 100.63858720077194\n",
            "Iteração 401 - RSS: 99.3043752459825\n",
            "Iteração 501 - RSS: 97.99530278133861\n",
            "Iteração 601 - RSS: 96.71089612350794\n",
            "Iteração 701 - RSS: 95.45069051439468\n",
            "Iteração 801 - RSS: 94.21422995296885\n",
            "Iteração 901 - RSS: 93.00106703026348\n",
            "Iteração 1001 - RSS: 91.81076276748156\n",
            "Iteração 1101 - RSS: 90.64288645715266\n",
            "Iteração 1201 - RSS: 89.49701550728341\n",
            "Iteração 1301 - RSS: 88.37273528844361\n",
            "Iteração 1401 - RSS: 87.26963898373444\n",
            "Iteração 1501 - RSS: 86.1873274415829\n",
            "Iteração 1601 - RSS: 85.12540903131006\n",
            "Iteração 1701 - RSS: 84.08349950142133\n",
            "Iteração 1801 - RSS: 83.06122184056589\n",
            "Iteração 1901 - RSS: 82.05820614111681\n",
            "Iteração 2001 - RSS: 81.07408946532102\n",
            "Iteração 2101 - RSS: 80.10851571397158\n",
            "Iteração 2201 - RSS: 79.1611354975547\n",
            "Iteração 2301 - RSS: 78.23160600982384\n",
            "Iteração 2401 - RSS: 77.31959090375695\n",
            "Iteração 2501 - RSS: 76.42476016985002\n",
            "Iteração 2601 - RSS: 75.54679001670483\n",
            "Iteração 2701 - RSS: 74.68536275386573\n",
            "Iteração 2801 - RSS: 73.84016667686427\n",
            "Iteração 2901 - RSS: 73.01089595443081\n",
            "Iteração 3001 - RSS: 72.19725051782969\n",
            "Iteração 3101 - RSS: 71.39893595228091\n",
            "Iteração 3201 - RSS: 70.61566339042703\n",
            "Iteração 3301 - RSS: 69.8471494078072\n",
            "Iteração 3401 - RSS: 69.09311592030168\n",
            "Iteração 3501 - RSS: 68.35329008350755\n",
            "Iteração 3601 - RSS: 67.62740419401082\n",
            "Iteração 3701 - RSS: 66.91519559251944\n",
            "Iteração 3801 - RSS: 66.21640656882035\n",
            "Iteração 3901 - RSS: 65.53078426852825\n",
            "Iteração 4001 - RSS: 64.85808060159115\n",
            "Iteração 4101 - RSS: 64.19805215251964\n",
            "Iteração 4201 - RSS: 63.55046009230792\n",
            "Iteração 4301 - RSS: 62.91507009201444\n",
            "Iteração 4401 - RSS: 62.29165223797075\n",
            "Iteração 4501 - RSS: 61.67998094858787\n",
            "Iteração 4601 - RSS: 61.079834892730744\n",
            "Iteração 4701 - RSS: 60.49099690962991\n",
            "Iteração 4801 - RSS: 59.913253930302844\n",
            "Iteração 4901 - RSS: 59.34639690045575\n",
            "Iteração 5001 - RSS: 58.7902207048379\n",
            "Iteração 5101 - RSS: 58.24452409302129\n",
            "Iteração 5201 - RSS: 57.7091096065791\n",
            "Iteração 5301 - RSS: 57.183783507635916\n",
            "Iteração 5401 - RSS: 56.66835570876427\n",
            "Iteração 5501 - RSS: 56.16263970420229\n",
            "Iteração 5601 - RSS: 55.66645250236723\n",
            "Iteração 5701 - RSS: 55.17961455964058\n",
            "Iteração 5801 - RSS: 54.701949715400794\n",
            "Iteração 5901 - RSS: 54.233285128280244\n",
            "Iteração 6001 - RSS: 53.77345121362303\n",
            "Iteração 6101 - RSS: 53.322281582121576\n",
            "Iteração 6201 - RSS: 52.87961297960901\n",
            "Iteração 6301 - RSS: 52.4452852279865\n",
            "Iteração 6401 - RSS: 52.01914116726314\n",
            "Iteração 6501 - RSS: 51.60102659868797\n",
            "Iteração 6601 - RSS: 51.19079022895422\n",
            "Iteração 6701 - RSS: 50.78828361545386\n",
            "Iteração 6801 - RSS: 50.39336111256442\n",
            "Iteração 6901 - RSS: 50.00587981894763\n",
            "Iteração 7001 - RSS: 49.625699525840886\n",
            "Iteração 7101 - RSS: 49.25268266632335\n",
            "Iteração 7201 - RSS: 48.8866942655378\n",
            "Iteração 7301 - RSS: 48.52760189185038\n",
            "Iteração 7401 - RSS: 48.17527560893081\n",
            "Iteração 7501 - RSS: 47.82958792873524\n",
            "Iteração 7601 - RSS: 47.49041376537523\n",
            "Iteração 7701 - RSS: 47.157630389855726\n",
            "Iteração 7801 - RSS: 46.831117385666204\n",
            "Iteração 7901 - RSS: 46.51075660520829\n",
            "Iteração 8001 - RSS: 46.19643212704435\n",
            "Iteração 8101 - RSS: 45.88803021395184\n",
            "Iteração 8201 - RSS: 45.585439271767854\n",
            "Iteração 8301 - RSS: 45.28854980900902\n",
            "Iteração 8401 - RSS: 44.99725439725281\n",
            "Iteração 8501 - RSS: 44.71144763226438\n",
            "Iteração 8601 - RSS: 44.43102609585688\n",
            "Iteração 8701 - RSS: 44.1558883184697\n",
            "Iteração 8801 - RSS: 43.88593474245203\n",
            "Iteração 8901 - RSS: 43.62106768603845\n",
            "Iteração 9001 - RSS: 43.36119130800297\n",
            "Iteração 9101 - RSS: 43.1062115729793\n",
            "Iteração 9201 - RSS: 42.85603621743438\n",
            "Iteração 9301 - RSS: 42.61057471628326\n",
            "Iteração 9401 - RSS: 42.3697382501329\n",
            "Iteração 9501 - RSS: 42.13343967314305\n",
            "Iteração 9601 - RSS: 41.901593481492974\n",
            "Iteração 9701 - RSS: 41.67411578244205\n",
            "Iteração 9801 - RSS: 41.45092426397373\n",
            "Iteração 9901 - RSS: 41.231938165010845\n"
          ]
        },
        {
          "output_type": "execute_result",
          "data": {
            "text/plain": [
              "Text(0.5, 0, 'Iteração')"
            ]
          },
          "metadata": {},
          "execution_count": 12
        },
        {
          "output_type": "display_data",
          "data": {
            "text/plain": [
              "<Figure size 432x288 with 1 Axes>"
            ],
            "image/png": "[encoded data removed]"
          },
          "metadata": {
            "needs_background": "light"
          }
        }
      ]
    },
    {
      "cell_type": "markdown",
      "source": [
        "### Questão 2: Teste valores pequenos, médios e grandes de alpha (learning rate). O que acontece com o RSS durante as iterações em cada caso? Por que?\n",
        "\n",
        "Obs: Pelo código abaixo, e plots gerados, concluímos que se alpha é muito pequeno, leva-se muitas iterações para chegar no RSS mínimo, portanto deve-se aumentar alpha, porém se aumentar muito e passar do ponto, vemos que o gráfico não gera mais o RSS mínimo, pois o algoritmo diverge."
      ],
      "metadata": {
        "id": "ZeiHvfCax3Nu"
      }
    },
    {
      "cell_type": "code",
      "source": [
        "alpha_tries = [0.00001, 0.0001, 0.001, 0.01, 0.1, 1]\n",
        "plt.figure(figsize = (16, 12))\n",
        "plt.title('RSS x Iteração para diferentes valores alfa')\n",
        "for i,alpha in enumerate(alpha_tries):\n",
        "  [b, m, rss_list] = gradient_descent_runner(dados_income, initial_b, initial_m, alpha, num_iterations)\n",
        "  ax1 = plt.subplot(2,3,i+1)\n",
        "  ax1.plot(range(len(rss_list)), rss_list)\n",
        "  ax1.set_title('alpha = {}'.format(alpha))\n",
        "  ax1.set(xlabel='Iteração', ylabel='RSS')"
      ],
      "metadata": {
        "colab": {
          "base_uri": "https://localhost:8080/",
          "height": 904
        },
        "id": "_OcY8JMwx5ez",
        "outputId": "9a7d62f7-594b-430d-d026-d1c83a12a65b"
      },
      "execution_count": 13,
      "outputs": [
        {
          "output_type": "stream",
          "name": "stderr",
          "text": [
            "/usr/local/lib/python3.7/dist-packages/ipykernel_launcher.py:6: RuntimeWarning: overflow encountered in double_scalars\n",
            "  \n",
            "/usr/local/lib/python3.7/dist-packages/ipykernel_launcher.py:9: RuntimeWarning: overflow encountered in double_scalars\n",
            "  if __name__ == '__main__':\n",
            "/usr/local/lib/python3.7/dist-packages/ipykernel_launcher.py:13: RuntimeWarning: invalid value encountered in double_scalars\n",
            "  del sys.path[0]\n",
            "/usr/local/lib/python3.7/dist-packages/ipykernel_launcher.py:8: RuntimeWarning: overflow encountered in double_scalars\n",
            "  \n",
            "/usr/local/lib/python3.7/dist-packages/ipykernel_launcher.py:12: RuntimeWarning: invalid value encountered in double_scalars\n",
            "  if sys.path[0] == '':\n"
          ]
        },
        {
          "output_type": "display_data",
          "data": {
            "text/plain": [
              "<Figure size 1152x864 with 6 Axes>"
            ],
            "image/png": "[encoded data removed]"
          },
          "metadata": {
            "needs_background": "light"
          }
        }
      ]
    },
    {
      "cell_type": "markdown",
      "source": [
        "### Questão 3: Teste valores diferentes do número de iterações e alpha até que w0 e w1 sejam aproximadamente iguais a -39 e 5 respectivamente. Reporte os valores do número de iterações e learning_rate usados para atingir esses valores\n",
        "\n",
        "Consegui obter (b = -39.10519020198799, m = 5.579179883407752) . Com testes, consegui chegar próximo a esses valores usando alpha=0.001 e num_iterations=50000"
      ],
      "metadata": {
        "id": "mXygive2x8Je"
      }
    },
    {
      "cell_type": "code",
      "source": [
        "print('Valores que queremos obter são: b = -39 e m = 5\\n')\n",
        "\n",
        "alpha_tries = [  0.0001,  0.001, 0.01]\n",
        "num_iterations_tries = [10000, 50000]\n",
        "bm_list = []\n",
        "for i,alpha in enumerate(alpha_tries):\n",
        "  for j,num_iterations in enumerate(num_iterations_tries):\n",
        "    [b, m, rss_list] = gradient_descent_runner(dados_income, initial_b, initial_m, alpha, num_iterations)\n",
        "    print('For alpha={} and num_iterations={}: '.format(alpha, num_iterations), 'b =', b, '; m =', m)\n",
        "    bm_list.append((b,m))\n",
        "print('\\nMelhor parâmetros encontrados:',min(bm_list, key = lambda e: (e[0]+39)**2 + (e[1]-5)**2), '\\n')\n",
        "\n",
        "\n"
      ],
      "metadata": {
        "colab": {
          "base_uri": "https://localhost:8080/"
        },
        "id": "6x35ClRkx_qr",
        "outputId": "d6a691a7-1479-47cb-bf91-04263bb066ca"
      },
      "execution_count": 14,
      "outputs": [
        {
          "output_type": "stream",
          "name": "stdout",
          "text": [
            "Valores que queremos obter são: b = -39 e m = 5\n",
            "\n",
            "For alpha=0.0001 and num_iterations=10000:  b = -3.403329603440687 ; m = 3.453921047402366\n",
            "For alpha=0.0001 and num_iterations=50000:  b = -14.808320353168808 ; m = 4.132836850642201\n",
            "For alpha=0.001 and num_iterations=10000:  b = -24.133020015450974 ; m = 4.687917174695901\n",
            "For alpha=0.001 and num_iterations=50000:  b = -39.10519020198799 ; m = 5.579179883407752\n"
          ]
        },
        {
          "output_type": "stream",
          "name": "stderr",
          "text": [
            "/usr/local/lib/python3.7/dist-packages/ipykernel_launcher.py:6: RuntimeWarning: overflow encountered in double_scalars\n",
            "  \n",
            "/usr/local/lib/python3.7/dist-packages/ipykernel_launcher.py:9: RuntimeWarning: overflow encountered in double_scalars\n",
            "  if __name__ == '__main__':\n",
            "/usr/local/lib/python3.7/dist-packages/ipykernel_launcher.py:13: RuntimeWarning: invalid value encountered in double_scalars\n",
            "  del sys.path[0]\n"
          ]
        },
        {
          "output_type": "stream",
          "name": "stdout",
          "text": [
            "For alpha=0.01 and num_iterations=10000:  b = nan ; m = nan\n",
            "For alpha=0.01 and num_iterations=50000:  b = nan ; m = nan\n",
            "\n",
            "Melhor parâmetros encontrados: (-39.10519020198799, 5.579179883407752) \n",
            "\n"
          ]
        }
      ]
    },
    {
      "cell_type": "markdown",
      "source": [
        "### Questão 4: O algoritmo do vídeo usa o número de iterações como critério de parada. Mude o algoritmo para considerar um critério de tolerância que é comparado à norma do gradiente (como no algoritmo dos slides apresentados em sala). "
      ],
      "metadata": {
        "id": "XVuBAaVRyA7W"
      }
    },
    {
      "cell_type": "code",
      "source": [],
      "metadata": {
        "id": "taUUtcmrEXGa"
      },
      "execution_count": 14,
      "outputs": []
    },
    {
      "cell_type": "code",
      "source": [
        "def step_gradient2(b_current, m_current, points, learning_rate):\n",
        "  b_gradient = 0\n",
        "  m_gradient = 0\n",
        "  N = float(len(points))\n",
        "  for i in range(0, len(points) ):\n",
        "    x = points[i,0]\n",
        "    y = points[i,1]\n",
        "    b_gradient += (y-(m_current*x+b_current))\n",
        "    m_gradient += x*(y-(m_current*x+b_current))\n",
        "  b_gradient *= (-2/N)\n",
        "  m_gradient *= (-2/N)\n",
        "  new_b = b_current - learning_rate*b_gradient\n",
        "  new_m = m_current - learning_rate*m_gradient\n",
        "  norma_gradiente = (b_gradient**2 + m_gradient**2)**0.5\n",
        "  return [new_b, new_m, compute_error_for_given_points(new_b, new_m, points), norma_gradiente]\n",
        "\n",
        "def gradient_descent_runner2(points, starting_b, starting_m, learning_rate, max_iterations=10000, tolerancia=5, silent=True):\n",
        "  b = starting_b\n",
        "  m = starting_m\n",
        "  rss_list = []\n",
        "  i = 0\n",
        "  norma_gradiente = 1000\n",
        "  while norma_gradiente > tolerancia:\n",
        "    i += 1\n",
        "    if i>max_iterations:\n",
        "      break\n",
        "    b, m, rss, norma_gradiente = step_gradient2(b, m, np.array(points), learning_rate)\n",
        "    rss_list.append(rss)\n",
        "    if silent is False:\n",
        "      print('Iteração {} - RSS: {}'.format(i+1, rss))\n",
        "  print('Parou na iteração', i)\n",
        "  return [b, m, rss_list, norma_gradiente]\n",
        "\n",
        "b, m, rss_list, norma_gradiente = gradient_descent_runner2(dados_income, 0, 0, learning_rate=0.001, max_iterations=100000, tolerancia=0.1, silent=True)\n",
        "print('b =',b,'; m =',m,'; norma =',norma_gradiente)"
      ],
      "metadata": {
        "colab": {
          "base_uri": "https://localhost:8080/"
        },
        "id": "yo-5U14nyGWM",
        "outputId": "c95b41ed-8ad9-493f-95a0-12b6e444e916"
      },
      "execution_count": 15,
      "outputs": [
        {
          "output_type": "stream",
          "name": "stdout",
          "text": [
            "Parou na iteração 38183\n",
            "b = -38.396838748915414 ; m = 5.537013168301005 ; norma = 0.09999146137378152\n"
          ]
        }
      ]
    },
    {
      "cell_type": "markdown",
      "source": [
        "### Questão 5: Ache um valor de tolerância que se aproxime dos valores dos parâmetros do item 4 acima. Que valor foi esse?\n",
        "\n",
        "R= O valor de tolerância para norma do vetor, que permite encontrar os melhores parâmetros b,m foi em torno de Tolerância = 0.1"
      ],
      "metadata": {
        "id": "Km8-TXt9yJO3"
      }
    },
    {
      "cell_type": "code",
      "source": [
        "# R= O valor de tolerância para norma do vetor, que permite encontrar os melhores parâmetros b,m foi em torno de Tolerância = 0.1"
      ],
      "metadata": {
        "id": "zsxUp6FYyLjc"
      },
      "execution_count": 16,
      "outputs": []
    },
    {
      "cell_type": "markdown",
      "source": [
        "### Questão 6: Implemente a forma fechada (equações normais) de calcular os coeficientes de regressão (vide algoritmo nos slides). Compare o tempo de processamento com o gradiente descendente considerando sua solução do item 6."
      ],
      "metadata": {
        "id": "VzK1hw2NyM14"
      }
    },
    {
      "cell_type": "code",
      "source": [
        "def optimize_by_normal_equations(points):\n",
        "  x_values = points[:,0]\n",
        "  y_values = points[:,1]\n",
        "  x_avg = x_values.mean()\n",
        "  y_avg = y_values.mean()\n",
        "  x_diffs = [x - x_avg for x in list(x_values)]\n",
        "  y_diffs = [y - y_avg for y in list(y_values)]\n",
        "  best_m = sum([x_diffs[i]*y_diffs[i] for i in range(len(x_diffs))])/sum([k*k for k in x_diffs])\n",
        "  best_b = y_avg - best_m * x_avg\n",
        "  return best_b, best_m\n",
        "\n",
        "b, m = optimize_by_normal_equations(dados_income)\n",
        "print('b =',b,'; m =',m)"
      ],
      "metadata": {
        "colab": {
          "base_uri": "https://localhost:8080/"
        },
        "id": "1l_plF7YyQ3N",
        "outputId": "fcea87ad-51d6-4399-b380-1d57fa54f194"
      },
      "execution_count": 17,
      "outputs": [
        {
          "output_type": "stream",
          "name": "stdout",
          "text": [
            "b = -39.446256679096194 ; m = 5.59948287411992\n"
          ]
        }
      ]
    },
    {
      "cell_type": "code",
      "source": [
        "# COMPARAR TEMPOS DE PROCESSAMENTO"
      ],
      "metadata": {
        "id": "FNHcE5tTOA62"
      },
      "execution_count": 18,
      "outputs": []
    },
    {
      "cell_type": "code",
      "source": [
        "from time import time\n",
        "\n",
        "print('With gradient descent:')\n",
        "t0 = time()\n",
        "b, m, rss_list = gradient_descent_runner(dados_income, 0, 0, learning_rate=0.001, num_iterations=50000, silent=True)\n",
        "print('b =',b,'; m =',m)\n",
        "print('Time spent:',time()-t0,'seconds.')\n",
        "\n",
        "print('\\nWith normal equations:')\n",
        "t0 = time()\n",
        "b, m = optimize_by_normal_equations(dados_income)\n",
        "print('b =',b,'; m =',m)\n",
        "print('Time spent:',time()-t0,'seconds.')"
      ],
      "metadata": {
        "colab": {
          "base_uri": "https://localhost:8080/"
        },
        "id": "7_jROaBZP7ED",
        "outputId": "416ba370-87cc-4412-c582-cee75b374f6b"
      },
      "execution_count": 19,
      "outputs": [
        {
          "output_type": "stream",
          "name": "stdout",
          "text": [
            "With gradient descent:\n",
            "b = -39.10519020198799 ; m = 5.579179883407752\n",
            "Time spent: 4.861469984054565 seconds.\n",
            "\n",
            "With normal equations:\n",
            "b = -39.446256679096194 ; m = 5.59948287411992\n",
            "Time spent: 0.0033512115478515625 seconds.\n"
          ]
        }
      ]
    },
    {
      "cell_type": "code",
      "source": [],
      "metadata": {
        "id": "8FfFuAwbQaTY"
      },
      "execution_count": 19,
      "outputs": []
    }
  ]
}