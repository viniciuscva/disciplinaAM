{
  "nbformat": 4,
  "nbformat_minor": 0,
  "metadata": {
    "colab": {
      "provenance": [],
      "collapsed_sections": []
    },
    "kernelspec": {
      "name": "python3",
      "display_name": "Python 3"
    },
    "language_info": {
      "name": "python"
    }
  },
  "cells": [
    {
      "cell_type": "markdown",
      "source": [
        "# Previsão de Votação de Deputados \n",
        "### Laboratório da disciplina Aprendizagem de Máquina ministrada pelo professor Leandro Balby\n",
        "### Aluno: Carlos Vinicius Alves Minervino"
      ],
      "metadata": {
        "id": "szBLnTk1vOll"
      }
    },
    {
      "cell_type": "markdown",
      "source": [
        "### Referências:\n",
        "\n",
        "[Link da Atividade de laboratório](https://canvas.instructure.com/courses/5142637/assignments/31711944)\n",
        "\n",
        "[Artigo web: Regularized Linear Models](https://www.kaggle.com/apapiu/regularized-linear-models)\n",
        "\n",
        "[Repositório no GitHub de Carlos Vinicius](https://github.com/viniciuscva/disciplinaAM/)\n",
        "\n",
        "[Link do Dataset utilizado para treino](https://canvas.instructure.com/courses/5142637/files/186498394?wrap=1)\n",
        "\n",
        "[Link do Dataset utilizado para teste (2014)](https://raw.githubusercontent.com/viniciuscva/disciplinaAM/main/previsao_de_votacao_de_deputados/eleicoes_2014.csv)\n"
      ],
      "metadata": {
        "id": "g6zGzqF9vWaM"
      }
    },
    {
      "cell_type": "markdown",
      "source": [
        "Analisar as distribuições das variáveis para ver se estão enviesadas e precisam de correção; tratamento de valores ausentes, variáveis categóricas e normalização, quando for o caso.\n",
        "\n",
        "Construir modelos de regressão com (ridge e lasso) e sem regularização.\n",
        "Considerar outros modelos ainda não vistos em sala de sua escolha (e.g. SVR, Regression Trees, KNN e Random Florests).\n",
        "\n",
        "Tunar os hiperâmetros para cada caso e retornar os rmses de validação cruzada para todos os modelos avaliados.\n",
        "\n",
        "Plotar os resíduos versus predições e analisar se esses plots representam bons indícios da adequabilidade dos modelos a esse problema.\n",
        "\n",
        "Alguns dias antes da entrega final serão liberados os dados de teste referentes à 2014 para validação final dos seus melhores modelos.\n",
        "\n",
        "Dica: Uma coisa que você pode fazer é usar os dados de 2006 como treino e os de 2010 como validação. Uma vez encontrados os melhores modelos para 2010 junte 2006+2010, retreine, e aplique o modelo aos dados de 2014 que serão liberados.\n",
        "\n",
        "Responder:\n",
        "Dentre os modelos avaliados, qual foi o que deu o melhor resultado nos dados de 2014 em termos de RMSE? Justifique bem sua resposta.\n",
        "\n",
        "A entrega deve ser um notebook Jupyter com código python e texto explicativo quando necessário. Crie um repositório na sua conta do github e envie o link do html do notebook."
      ],
      "metadata": {
        "id": "vxXu_5JYzhAo"
      }
    },
    {
      "cell_type": "code",
      "source": [
        "import pandas as pd\n",
        "import numpy as np\n",
        "import seaborn as sns\n",
        "import matplotlib\n",
        "\n",
        "import matplotlib.pyplot as plt\n",
        "from scipy.stats import skew\n",
        "from scipy.stats.stats import pearsonr\n",
        "\n",
        "\n",
        "%config InlineBackend.figure_format = 'retina' #set 'png' here when working on notebook\n",
        "%matplotlib inline"
      ],
      "metadata": {
        "id": "jnr5DEiBvW9x"
      },
      "execution_count": 1,
      "outputs": []
    },
    {
      "cell_type": "code",
      "source": [
        "dados = pd.read_csv(\"https://raw.githubusercontent.com/viniciuscva/disciplinaAM/main/previsao_de_votacao_de_deputados/eleicoes_2006_a_2010.csv\")\n",
        "dados.head()"
      ],
      "metadata": {
        "colab": {
          "base_uri": "https://localhost:8080/",
          "height": 473
        },
        "id": "3XE5KHEg0Ara",
        "outputId": "852dfa6f-c5b7-448f-f7cd-c63a1cfb9e22"
      },
      "execution_count": 2,
      "outputs": [
        {
          "output_type": "execute_result",
          "data": {
            "text/plain": [
              "    ano  sequencial_candidato                             nome  uf partido  \\\n",
              "0  2006                 10001      JOSÉ LUIZ NOGUEIRA DE SOUSA  AP      PT   \n",
              "1  2006                 10002                LOIVA DE OLIVEIRA  RO      PT   \n",
              "2  2006                 10002  MARIA DALVA DE SOUZA FIGUEIREDO  AP      PT   \n",
              "3  2006                 10002                   ROMALDO MILANI  MS   PRONA   \n",
              "4  2006                 10003           ANSELMO DE JESUS ABREU  RO      PT   \n",
              "\n",
              "   quantidade_doacoes  quantidade_doadores  total_receita  media_receita  \\\n",
              "0                   6                    6       16600.00    2766.666667   \n",
              "1                  13                   13       22826.00    1755.846154   \n",
              "2                  17                   16      148120.80    9257.550000   \n",
              "3                   6                    6        3001.12     500.186667   \n",
              "4                  48                   48            NaN            NaN   \n",
              "\n",
              "   recursos_de_outros_candidatos/comites  ...  quantidade_despesas  \\\n",
              "0                                    NaN  ...                   14   \n",
              "1                                 6625.0  ...                   24   \n",
              "2                                 2250.0  ...                  123   \n",
              "3                                    NaN  ...                    8   \n",
              "4                                    NaN  ...                  133   \n",
              "\n",
              "   quantidade_fornecedores  total_despesa  media_despesa             cargo  \\\n",
              "0                       14       16583.60    1184.542857  DEPUTADO FEDERAL   \n",
              "1                       23       20325.99     883.738696  DEPUTADO FEDERAL   \n",
              "2                      108      146011.70    1351.960185  DEPUTADO FEDERAL   \n",
              "3                        8        3001.12     375.140000  DEPUTADO FEDERAL   \n",
              "4                      120      116416.64     970.138667  DEPUTADO FEDERAL   \n",
              "\n",
              "        sexo                         grau estado_civil  \\\n",
              "0  MASCULINO        ENSINO MÉDIO COMPLETO    CASADO(A)   \n",
              "1   FEMININO            SUPERIOR COMPLETO  SOLTEIRO(A)   \n",
              "2   FEMININO            SUPERIOR COMPLETO     VIÚVO(A)   \n",
              "3  MASCULINO      ENSINO MÉDIO INCOMPLETO    CASADO(A)   \n",
              "4  MASCULINO  ENSINO FUNDAMENTAL COMPLETO    CASADO(A)   \n",
              "\n",
              "                    ocupacao  votos  \n",
              "0                   VEREADOR   8579  \n",
              "1  SERVIDOR PÚBLICO ESTADUAL   2757  \n",
              "2                   PEDAGOGO  17428  \n",
              "3          MILITAR REFORMADO   1193  \n",
              "4                   DEPUTADO  29401  \n",
              "\n",
              "[5 rows x 23 columns]"
            ],
            "text/html": [
              "\n",
              "  <div id=\"df-64f28ac4-4a56-40ab-9ad2-ccf19267f267\">\n",
              "    <div class=\"colab-df-container\">\n",
              "      <div>\n",
              "<style scoped>\n",
              "    .dataframe tbody tr th:only-of-type {\n",
              "        vertical-align: middle;\n",
              "    }\n",
              "\n",
              "    .dataframe tbody tr th {\n",
              "        vertical-align: top;\n",
              "    }\n",
              "\n",
              "    .dataframe thead th {\n",
              "        text-align: right;\n",
              "    }\n",
              "</style>\n",
              "<table border=\"1\" class=\"dataframe\">\n",
              "  <thead>\n",
              "    <tr style=\"text-align: right;\">\n",
              "      <th></th>\n",
              "      <th>ano</th>\n",
              "      <th>sequencial_candidato</th>\n",
              "      <th>nome</th>\n",
              "      <th>uf</th>\n",
              "      <th>partido</th>\n",
              "      <th>quantidade_doacoes</th>\n",
              "      <th>quantidade_doadores</th>\n",
              "      <th>total_receita</th>\n",
              "      <th>media_receita</th>\n",
              "      <th>recursos_de_outros_candidatos/comites</th>\n",
              "      <th>...</th>\n",
              "      <th>quantidade_despesas</th>\n",
              "      <th>quantidade_fornecedores</th>\n",
              "      <th>total_despesa</th>\n",
              "      <th>media_despesa</th>\n",
              "      <th>cargo</th>\n",
              "      <th>sexo</th>\n",
              "      <th>grau</th>\n",
              "      <th>estado_civil</th>\n",
              "      <th>ocupacao</th>\n",
              "      <th>votos</th>\n",
              "    </tr>\n",
              "  </thead>\n",
              "  <tbody>\n",
              "    <tr>\n",
              "      <th>0</th>\n",
              "      <td>2006</td>\n",
              "      <td>10001</td>\n",
              "      <td>JOSÉ LUIZ NOGUEIRA DE SOUSA</td>\n",
              "      <td>AP</td>\n",
              "      <td>PT</td>\n",
              "      <td>6</td>\n",
              "      <td>6</td>\n",
              "      <td>16600.00</td>\n",
              "      <td>2766.666667</td>\n",
              "      <td>NaN</td>\n",
              "      <td>...</td>\n",
              "      <td>14</td>\n",
              "      <td>14</td>\n",
              "      <td>16583.60</td>\n",
              "      <td>1184.542857</td>\n",
              "      <td>DEPUTADO FEDERAL</td>\n",
              "      <td>MASCULINO</td>\n",
              "      <td>ENSINO MÉDIO COMPLETO</td>\n",
              "      <td>CASADO(A)</td>\n",
              "      <td>VEREADOR</td>\n",
              "      <td>8579</td>\n",
              "    </tr>\n",
              "    <tr>\n",
              "      <th>1</th>\n",
              "      <td>2006</td>\n",
              "      <td>10002</td>\n",
              "      <td>LOIVA DE OLIVEIRA</td>\n",
              "      <td>RO</td>\n",
              "      <td>PT</td>\n",
              "      <td>13</td>\n",
              "      <td>13</td>\n",
              "      <td>22826.00</td>\n",
              "      <td>1755.846154</td>\n",
              "      <td>6625.0</td>\n",
              "      <td>...</td>\n",
              "      <td>24</td>\n",
              "      <td>23</td>\n",
              "      <td>20325.99</td>\n",
              "      <td>883.738696</td>\n",
              "      <td>DEPUTADO FEDERAL</td>\n",
              "      <td>FEMININO</td>\n",
              "      <td>SUPERIOR COMPLETO</td>\n",
              "      <td>SOLTEIRO(A)</td>\n",
              "      <td>SERVIDOR PÚBLICO ESTADUAL</td>\n",
              "      <td>2757</td>\n",
              "    </tr>\n",
              "    <tr>\n",
              "      <th>2</th>\n",
              "      <td>2006</td>\n",
              "      <td>10002</td>\n",
              "      <td>MARIA DALVA DE SOUZA FIGUEIREDO</td>\n",
              "      <td>AP</td>\n",
              "      <td>PT</td>\n",
              "      <td>17</td>\n",
              "      <td>16</td>\n",
              "      <td>148120.80</td>\n",
              "      <td>9257.550000</td>\n",
              "      <td>2250.0</td>\n",
              "      <td>...</td>\n",
              "      <td>123</td>\n",
              "      <td>108</td>\n",
              "      <td>146011.70</td>\n",
              "      <td>1351.960185</td>\n",
              "      <td>DEPUTADO FEDERAL</td>\n",
              "      <td>FEMININO</td>\n",
              "      <td>SUPERIOR COMPLETO</td>\n",
              "      <td>VIÚVO(A)</td>\n",
              "      <td>PEDAGOGO</td>\n",
              "      <td>17428</td>\n",
              "    </tr>\n",
              "    <tr>\n",
              "      <th>3</th>\n",
              "      <td>2006</td>\n",
              "      <td>10002</td>\n",
              "      <td>ROMALDO MILANI</td>\n",
              "      <td>MS</td>\n",
              "      <td>PRONA</td>\n",
              "      <td>6</td>\n",
              "      <td>6</td>\n",
              "      <td>3001.12</td>\n",
              "      <td>500.186667</td>\n",
              "      <td>NaN</td>\n",
              "      <td>...</td>\n",
              "      <td>8</td>\n",
              "      <td>8</td>\n",
              "      <td>3001.12</td>\n",
              "      <td>375.140000</td>\n",
              "      <td>DEPUTADO FEDERAL</td>\n",
              "      <td>MASCULINO</td>\n",
              "      <td>ENSINO MÉDIO INCOMPLETO</td>\n",
              "      <td>CASADO(A)</td>\n",
              "      <td>MILITAR REFORMADO</td>\n",
              "      <td>1193</td>\n",
              "    </tr>\n",
              "    <tr>\n",
              "      <th>4</th>\n",
              "      <td>2006</td>\n",
              "      <td>10003</td>\n",
              "      <td>ANSELMO DE JESUS ABREU</td>\n",
              "      <td>RO</td>\n",
              "      <td>PT</td>\n",
              "      <td>48</td>\n",
              "      <td>48</td>\n",
              "      <td>NaN</td>\n",
              "      <td>NaN</td>\n",
              "      <td>NaN</td>\n",
              "      <td>...</td>\n",
              "      <td>133</td>\n",
              "      <td>120</td>\n",
              "      <td>116416.64</td>\n",
              "      <td>970.138667</td>\n",
              "      <td>DEPUTADO FEDERAL</td>\n",
              "      <td>MASCULINO</td>\n",
              "      <td>ENSINO FUNDAMENTAL COMPLETO</td>\n",
              "      <td>CASADO(A)</td>\n",
              "      <td>DEPUTADO</td>\n",
              "      <td>29401</td>\n",
              "    </tr>\n",
              "  </tbody>\n",
              "</table>\n",
              "<p>5 rows × 23 columns</p>\n",
              "</div>\n",
              "      <button class=\"colab-df-convert\" onclick=\"convertToInteractive('df-64f28ac4-4a56-40ab-9ad2-ccf19267f267')\"\n",
              "              title=\"Convert this dataframe to an interactive table.\"\n",
              "              style=\"display:none;\">\n",
              "        \n",
              "  <svg xmlns=\"http://www.w3.org/2000/svg\" height=\"24px\"viewBox=\"0 0 24 24\"\n",
              "       width=\"24px\">\n",
              "    <path d=\"M0 0h24v24H0V0z\" fill=\"none\"/>\n",
              "    <path d=\"M18.56 5.44l.94 2.06.94-2.06 2.06-.94-2.06-.94-.94-2.06-.94 2.06-2.06.94zm-11 1L8.5 8.5l.94-2.06 2.06-.94-2.06-.94L8.5 2.5l-.94 2.06-2.06.94zm10 10l.94 2.06.94-2.06 2.06-.94-2.06-.94-.94-2.06-.94 2.06-2.06.94z\"/><path d=\"M17.41 7.96l-1.37-1.37c-.4-.4-.92-.59-1.43-.59-.52 0-1.04.2-1.43.59L10.3 9.45l-7.72 7.72c-.78.78-.78 2.05 0 2.83L4 21.41c.39.39.9.59 1.41.59.51 0 1.02-.2 1.41-.59l7.78-7.78 2.81-2.81c.8-.78.8-2.07 0-2.86zM5.41 20L4 18.59l7.72-7.72 1.47 1.35L5.41 20z\"/>\n",
              "  </svg>\n",
              "      </button>\n",
              "      \n",
              "  <style>\n",
              "    .colab-df-container {\n",
              "      display:flex;\n",
              "      flex-wrap:wrap;\n",
              "      gap: 12px;\n",
              "    }\n",
              "\n",
              "    .colab-df-convert {\n",
              "      background-color: #E8F0FE;\n",
              "      border: none;\n",
              "      border-radius: 50%;\n",
              "      cursor: pointer;\n",
              "      display: none;\n",
              "      fill: #1967D2;\n",
              "      height: 32px;\n",
              "      padding: 0 0 0 0;\n",
              "      width: 32px;\n",
              "    }\n",
              "\n",
              "    .colab-df-convert:hover {\n",
              "      background-color: #E2EBFA;\n",
              "      box-shadow: 0px 1px 2px rgba(60, 64, 67, 0.3), 0px 1px 3px 1px rgba(60, 64, 67, 0.15);\n",
              "      fill: #174EA6;\n",
              "    }\n",
              "\n",
              "    [theme=dark] .colab-df-convert {\n",
              "      background-color: #3B4455;\n",
              "      fill: #D2E3FC;\n",
              "    }\n",
              "\n",
              "    [theme=dark] .colab-df-convert:hover {\n",
              "      background-color: #434B5C;\n",
              "      box-shadow: 0px 1px 3px 1px rgba(0, 0, 0, 0.15);\n",
              "      filter: drop-shadow(0px 1px 2px rgba(0, 0, 0, 0.3));\n",
              "      fill: #FFFFFF;\n",
              "    }\n",
              "  </style>\n",
              "\n",
              "      <script>\n",
              "        const buttonEl =\n",
              "          document.querySelector('#df-64f28ac4-4a56-40ab-9ad2-ccf19267f267 button.colab-df-convert');\n",
              "        buttonEl.style.display =\n",
              "          google.colab.kernel.accessAllowed ? 'block' : 'none';\n",
              "\n",
              "        async function convertToInteractive(key) {\n",
              "          const element = document.querySelector('#df-64f28ac4-4a56-40ab-9ad2-ccf19267f267');\n",
              "          const dataTable =\n",
              "            await google.colab.kernel.invokeFunction('convertToInteractive',\n",
              "                                                     [key], {});\n",
              "          if (!dataTable) return;\n",
              "\n",
              "          const docLinkHtml = 'Like what you see? Visit the ' +\n",
              "            '<a target=\"_blank\" href=https://colab.research.google.com/notebooks/data_table.ipynb>data table notebook</a>'\n",
              "            + ' to learn more about interactive tables.';\n",
              "          element.innerHTML = '';\n",
              "          dataTable['output_type'] = 'display_data';\n",
              "          await google.colab.output.renderOutput(dataTable, element);\n",
              "          const docLink = document.createElement('div');\n",
              "          docLink.innerHTML = docLinkHtml;\n",
              "          element.appendChild(docLink);\n",
              "        }\n",
              "      </script>\n",
              "    </div>\n",
              "  </div>\n",
              "  "
            ]
          },
          "metadata": {},
          "execution_count": 2
        }
      ]
    },
    {
      "cell_type": "code",
      "source": [
        "dados['ano'].value_counts()"
      ],
      "metadata": {
        "colab": {
          "base_uri": "https://localhost:8080/"
        },
        "id": "FrO3y1H42lN_",
        "outputId": "1f79b95b-4787-4ca1-fe52-7f106f2457bd"
      },
      "execution_count": 3,
      "outputs": [
        {
          "output_type": "execute_result",
          "data": {
            "text/plain": [
              "2010    3942\n",
              "2006    3388\n",
              "Name: ano, dtype: int64"
            ]
          },
          "metadata": {},
          "execution_count": 3
        }
      ]
    },
    {
      "cell_type": "code",
      "source": [
        "dados = dados.sort_values(by=['ano'])\n",
        "dados.head(1)"
      ],
      "metadata": {
        "colab": {
          "base_uri": "https://localhost:8080/",
          "height": 209
        },
        "id": "rIzM8FnY74H9",
        "outputId": "33e71598-86e4-45c1-8851-2f9af9621f27"
      },
      "execution_count": 4,
      "outputs": [
        {
          "output_type": "execute_result",
          "data": {
            "text/plain": [
              "    ano  sequencial_candidato                         nome  uf partido  \\\n",
              "0  2006                 10001  JOSÉ LUIZ NOGUEIRA DE SOUSA  AP      PT   \n",
              "\n",
              "   quantidade_doacoes  quantidade_doadores  total_receita  media_receita  \\\n",
              "0                   6                    6        16600.0    2766.666667   \n",
              "\n",
              "   recursos_de_outros_candidatos/comites  ...  quantidade_despesas  \\\n",
              "0                                    NaN  ...                   14   \n",
              "\n",
              "   quantidade_fornecedores  total_despesa  media_despesa             cargo  \\\n",
              "0                       14        16583.6    1184.542857  DEPUTADO FEDERAL   \n",
              "\n",
              "        sexo                   grau estado_civil  ocupacao votos  \n",
              "0  MASCULINO  ENSINO MÉDIO COMPLETO    CASADO(A)  VEREADOR  8579  \n",
              "\n",
              "[1 rows x 23 columns]"
            ],
            "text/html": [
              "\n",
              "  <div id=\"df-56a5c121-aa6d-41ad-9b23-f7b5ed70a38d\">\n",
              "    <div class=\"colab-df-container\">\n",
              "      <div>\n",
              "<style scoped>\n",
              "    .dataframe tbody tr th:only-of-type {\n",
              "        vertical-align: middle;\n",
              "    }\n",
              "\n",
              "    .dataframe tbody tr th {\n",
              "        vertical-align: top;\n",
              "    }\n",
              "\n",
              "    .dataframe thead th {\n",
              "        text-align: right;\n",
              "    }\n",
              "</style>\n",
              "<table border=\"1\" class=\"dataframe\">\n",
              "  <thead>\n",
              "    <tr style=\"text-align: right;\">\n",
              "      <th></th>\n",
              "      <th>ano</th>\n",
              "      <th>sequencial_candidato</th>\n",
              "      <th>nome</th>\n",
              "      <th>uf</th>\n",
              "      <th>partido</th>\n",
              "      <th>quantidade_doacoes</th>\n",
              "      <th>quantidade_doadores</th>\n",
              "      <th>total_receita</th>\n",
              "      <th>media_receita</th>\n",
              "      <th>recursos_de_outros_candidatos/comites</th>\n",
              "      <th>...</th>\n",
              "      <th>quantidade_despesas</th>\n",
              "      <th>quantidade_fornecedores</th>\n",
              "      <th>total_despesa</th>\n",
              "      <th>media_despesa</th>\n",
              "      <th>cargo</th>\n",
              "      <th>sexo</th>\n",
              "      <th>grau</th>\n",
              "      <th>estado_civil</th>\n",
              "      <th>ocupacao</th>\n",
              "      <th>votos</th>\n",
              "    </tr>\n",
              "  </thead>\n",
              "  <tbody>\n",
              "    <tr>\n",
              "      <th>0</th>\n",
              "      <td>2006</td>\n",
              "      <td>10001</td>\n",
              "      <td>JOSÉ LUIZ NOGUEIRA DE SOUSA</td>\n",
              "      <td>AP</td>\n",
              "      <td>PT</td>\n",
              "      <td>6</td>\n",
              "      <td>6</td>\n",
              "      <td>16600.0</td>\n",
              "      <td>2766.666667</td>\n",
              "      <td>NaN</td>\n",
              "      <td>...</td>\n",
              "      <td>14</td>\n",
              "      <td>14</td>\n",
              "      <td>16583.6</td>\n",
              "      <td>1184.542857</td>\n",
              "      <td>DEPUTADO FEDERAL</td>\n",
              "      <td>MASCULINO</td>\n",
              "      <td>ENSINO MÉDIO COMPLETO</td>\n",
              "      <td>CASADO(A)</td>\n",
              "      <td>VEREADOR</td>\n",
              "      <td>8579</td>\n",
              "    </tr>\n",
              "  </tbody>\n",
              "</table>\n",
              "<p>1 rows × 23 columns</p>\n",
              "</div>\n",
              "      <button class=\"colab-df-convert\" onclick=\"convertToInteractive('df-56a5c121-aa6d-41ad-9b23-f7b5ed70a38d')\"\n",
              "              title=\"Convert this dataframe to an interactive table.\"\n",
              "              style=\"display:none;\">\n",
              "        \n",
              "  <svg xmlns=\"http://www.w3.org/2000/svg\" height=\"24px\"viewBox=\"0 0 24 24\"\n",
              "       width=\"24px\">\n",
              "    <path d=\"M0 0h24v24H0V0z\" fill=\"none\"/>\n",
              "    <path d=\"M18.56 5.44l.94 2.06.94-2.06 2.06-.94-2.06-.94-.94-2.06-.94 2.06-2.06.94zm-11 1L8.5 8.5l.94-2.06 2.06-.94-2.06-.94L8.5 2.5l-.94 2.06-2.06.94zm10 10l.94 2.06.94-2.06 2.06-.94-2.06-.94-.94-2.06-.94 2.06-2.06.94z\"/><path d=\"M17.41 7.96l-1.37-1.37c-.4-.4-.92-.59-1.43-.59-.52 0-1.04.2-1.43.59L10.3 9.45l-7.72 7.72c-.78.78-.78 2.05 0 2.83L4 21.41c.39.39.9.59 1.41.59.51 0 1.02-.2 1.41-.59l7.78-7.78 2.81-2.81c.8-.78.8-2.07 0-2.86zM5.41 20L4 18.59l7.72-7.72 1.47 1.35L5.41 20z\"/>\n",
              "  </svg>\n",
              "      </button>\n",
              "      \n",
              "  <style>\n",
              "    .colab-df-container {\n",
              "      display:flex;\n",
              "      flex-wrap:wrap;\n",
              "      gap: 12px;\n",
              "    }\n",
              "\n",
              "    .colab-df-convert {\n",
              "      background-color: #E8F0FE;\n",
              "      border: none;\n",
              "      border-radius: 50%;\n",
              "      cursor: pointer;\n",
              "      display: none;\n",
              "      fill: #1967D2;\n",
              "      height: 32px;\n",
              "      padding: 0 0 0 0;\n",
              "      width: 32px;\n",
              "    }\n",
              "\n",
              "    .colab-df-convert:hover {\n",
              "      background-color: #E2EBFA;\n",
              "      box-shadow: 0px 1px 2px rgba(60, 64, 67, 0.3), 0px 1px 3px 1px rgba(60, 64, 67, 0.15);\n",
              "      fill: #174EA6;\n",
              "    }\n",
              "\n",
              "    [theme=dark] .colab-df-convert {\n",
              "      background-color: #3B4455;\n",
              "      fill: #D2E3FC;\n",
              "    }\n",
              "\n",
              "    [theme=dark] .colab-df-convert:hover {\n",
              "      background-color: #434B5C;\n",
              "      box-shadow: 0px 1px 3px 1px rgba(0, 0, 0, 0.15);\n",
              "      filter: drop-shadow(0px 1px 2px rgba(0, 0, 0, 0.3));\n",
              "      fill: #FFFFFF;\n",
              "    }\n",
              "  </style>\n",
              "\n",
              "      <script>\n",
              "        const buttonEl =\n",
              "          document.querySelector('#df-56a5c121-aa6d-41ad-9b23-f7b5ed70a38d button.colab-df-convert');\n",
              "        buttonEl.style.display =\n",
              "          google.colab.kernel.accessAllowed ? 'block' : 'none';\n",
              "\n",
              "        async function convertToInteractive(key) {\n",
              "          const element = document.querySelector('#df-56a5c121-aa6d-41ad-9b23-f7b5ed70a38d');\n",
              "          const dataTable =\n",
              "            await google.colab.kernel.invokeFunction('convertToInteractive',\n",
              "                                                     [key], {});\n",
              "          if (!dataTable) return;\n",
              "\n",
              "          const docLinkHtml = 'Like what you see? Visit the ' +\n",
              "            '<a target=\"_blank\" href=https://colab.research.google.com/notebooks/data_table.ipynb>data table notebook</a>'\n",
              "            + ' to learn more about interactive tables.';\n",
              "          element.innerHTML = '';\n",
              "          dataTable['output_type'] = 'display_data';\n",
              "          await google.colab.output.renderOutput(dataTable, element);\n",
              "          const docLink = document.createElement('div');\n",
              "          docLink.innerHTML = docLinkHtml;\n",
              "          element.appendChild(docLink);\n",
              "        }\n",
              "      </script>\n",
              "    </div>\n",
              "  </div>\n",
              "  "
            ]
          },
          "metadata": {},
          "execution_count": 4
        }
      ]
    },
    {
      "cell_type": "code",
      "source": [
        "#variavel all_data vai guardar as features\n",
        "all_data = dados.loc[:, 'uf':'ocupacao']\n",
        "all_data.head(1)"
      ],
      "metadata": {
        "colab": {
          "base_uri": "https://localhost:8080/",
          "height": 179
        },
        "id": "XfIzWeKk3NNR",
        "outputId": "be7af4af-8a3a-4071-ca14-ff860e095427"
      },
      "execution_count": 5,
      "outputs": [
        {
          "output_type": "execute_result",
          "data": {
            "text/plain": [
              "   uf partido  quantidade_doacoes  quantidade_doadores  total_receita  \\\n",
              "0  AP      PT                   6                    6        16600.0   \n",
              "\n",
              "   media_receita  recursos_de_outros_candidatos/comites  \\\n",
              "0    2766.666667                                    NaN   \n",
              "\n",
              "   recursos_de_pessoas_fisicas  recursos_de_pessoas_juridicas  \\\n",
              "0                       9000.0                         6300.0   \n",
              "\n",
              "   recursos_proprios  quantidade_despesas  quantidade_fornecedores  \\\n",
              "0             1300.0                   14                       14   \n",
              "\n",
              "   total_despesa  media_despesa             cargo       sexo  \\\n",
              "0        16583.6    1184.542857  DEPUTADO FEDERAL  MASCULINO   \n",
              "\n",
              "                    grau estado_civil  ocupacao  \n",
              "0  ENSINO MÉDIO COMPLETO    CASADO(A)  VEREADOR  "
            ],
            "text/html": [
              "\n",
              "  <div id=\"df-cceb4cac-1fe5-408a-a6dc-fc896e617554\">\n",
              "    <div class=\"colab-df-container\">\n",
              "      <div>\n",
              "<style scoped>\n",
              "    .dataframe tbody tr th:only-of-type {\n",
              "        vertical-align: middle;\n",
              "    }\n",
              "\n",
              "    .dataframe tbody tr th {\n",
              "        vertical-align: top;\n",
              "    }\n",
              "\n",
              "    .dataframe thead th {\n",
              "        text-align: right;\n",
              "    }\n",
              "</style>\n",
              "<table border=\"1\" class=\"dataframe\">\n",
              "  <thead>\n",
              "    <tr style=\"text-align: right;\">\n",
              "      <th></th>\n",
              "      <th>uf</th>\n",
              "      <th>partido</th>\n",
              "      <th>quantidade_doacoes</th>\n",
              "      <th>quantidade_doadores</th>\n",
              "      <th>total_receita</th>\n",
              "      <th>media_receita</th>\n",
              "      <th>recursos_de_outros_candidatos/comites</th>\n",
              "      <th>recursos_de_pessoas_fisicas</th>\n",
              "      <th>recursos_de_pessoas_juridicas</th>\n",
              "      <th>recursos_proprios</th>\n",
              "      <th>quantidade_despesas</th>\n",
              "      <th>quantidade_fornecedores</th>\n",
              "      <th>total_despesa</th>\n",
              "      <th>media_despesa</th>\n",
              "      <th>cargo</th>\n",
              "      <th>sexo</th>\n",
              "      <th>grau</th>\n",
              "      <th>estado_civil</th>\n",
              "      <th>ocupacao</th>\n",
              "    </tr>\n",
              "  </thead>\n",
              "  <tbody>\n",
              "    <tr>\n",
              "      <th>0</th>\n",
              "      <td>AP</td>\n",
              "      <td>PT</td>\n",
              "      <td>6</td>\n",
              "      <td>6</td>\n",
              "      <td>16600.0</td>\n",
              "      <td>2766.666667</td>\n",
              "      <td>NaN</td>\n",
              "      <td>9000.0</td>\n",
              "      <td>6300.0</td>\n",
              "      <td>1300.0</td>\n",
              "      <td>14</td>\n",
              "      <td>14</td>\n",
              "      <td>16583.6</td>\n",
              "      <td>1184.542857</td>\n",
              "      <td>DEPUTADO FEDERAL</td>\n",
              "      <td>MASCULINO</td>\n",
              "      <td>ENSINO MÉDIO COMPLETO</td>\n",
              "      <td>CASADO(A)</td>\n",
              "      <td>VEREADOR</td>\n",
              "    </tr>\n",
              "  </tbody>\n",
              "</table>\n",
              "</div>\n",
              "      <button class=\"colab-df-convert\" onclick=\"convertToInteractive('df-cceb4cac-1fe5-408a-a6dc-fc896e617554')\"\n",
              "              title=\"Convert this dataframe to an interactive table.\"\n",
              "              style=\"display:none;\">\n",
              "        \n",
              "  <svg xmlns=\"http://www.w3.org/2000/svg\" height=\"24px\"viewBox=\"0 0 24 24\"\n",
              "       width=\"24px\">\n",
              "    <path d=\"M0 0h24v24H0V0z\" fill=\"none\"/>\n",
              "    <path d=\"M18.56 5.44l.94 2.06.94-2.06 2.06-.94-2.06-.94-.94-2.06-.94 2.06-2.06.94zm-11 1L8.5 8.5l.94-2.06 2.06-.94-2.06-.94L8.5 2.5l-.94 2.06-2.06.94zm10 10l.94 2.06.94-2.06 2.06-.94-2.06-.94-.94-2.06-.94 2.06-2.06.94z\"/><path d=\"M17.41 7.96l-1.37-1.37c-.4-.4-.92-.59-1.43-.59-.52 0-1.04.2-1.43.59L10.3 9.45l-7.72 7.72c-.78.78-.78 2.05 0 2.83L4 21.41c.39.39.9.59 1.41.59.51 0 1.02-.2 1.41-.59l7.78-7.78 2.81-2.81c.8-.78.8-2.07 0-2.86zM5.41 20L4 18.59l7.72-7.72 1.47 1.35L5.41 20z\"/>\n",
              "  </svg>\n",
              "      </button>\n",
              "      \n",
              "  <style>\n",
              "    .colab-df-container {\n",
              "      display:flex;\n",
              "      flex-wrap:wrap;\n",
              "      gap: 12px;\n",
              "    }\n",
              "\n",
              "    .colab-df-convert {\n",
              "      background-color: #E8F0FE;\n",
              "      border: none;\n",
              "      border-radius: 50%;\n",
              "      cursor: pointer;\n",
              "      display: none;\n",
              "      fill: #1967D2;\n",
              "      height: 32px;\n",
              "      padding: 0 0 0 0;\n",
              "      width: 32px;\n",
              "    }\n",
              "\n",
              "    .colab-df-convert:hover {\n",
              "      background-color: #E2EBFA;\n",
              "      box-shadow: 0px 1px 2px rgba(60, 64, 67, 0.3), 0px 1px 3px 1px rgba(60, 64, 67, 0.15);\n",
              "      fill: #174EA6;\n",
              "    }\n",
              "\n",
              "    [theme=dark] .colab-df-convert {\n",
              "      background-color: #3B4455;\n",
              "      fill: #D2E3FC;\n",
              "    }\n",
              "\n",
              "    [theme=dark] .colab-df-convert:hover {\n",
              "      background-color: #434B5C;\n",
              "      box-shadow: 0px 1px 3px 1px rgba(0, 0, 0, 0.15);\n",
              "      filter: drop-shadow(0px 1px 2px rgba(0, 0, 0, 0.3));\n",
              "      fill: #FFFFFF;\n",
              "    }\n",
              "  </style>\n",
              "\n",
              "      <script>\n",
              "        const buttonEl =\n",
              "          document.querySelector('#df-cceb4cac-1fe5-408a-a6dc-fc896e617554 button.colab-df-convert');\n",
              "        buttonEl.style.display =\n",
              "          google.colab.kernel.accessAllowed ? 'block' : 'none';\n",
              "\n",
              "        async function convertToInteractive(key) {\n",
              "          const element = document.querySelector('#df-cceb4cac-1fe5-408a-a6dc-fc896e617554');\n",
              "          const dataTable =\n",
              "            await google.colab.kernel.invokeFunction('convertToInteractive',\n",
              "                                                     [key], {});\n",
              "          if (!dataTable) return;\n",
              "\n",
              "          const docLinkHtml = 'Like what you see? Visit the ' +\n",
              "            '<a target=\"_blank\" href=https://colab.research.google.com/notebooks/data_table.ipynb>data table notebook</a>'\n",
              "            + ' to learn more about interactive tables.';\n",
              "          element.innerHTML = '';\n",
              "          dataTable['output_type'] = 'display_data';\n",
              "          await google.colab.output.renderOutput(dataTable, element);\n",
              "          const docLink = document.createElement('div');\n",
              "          docLink.innerHTML = docLinkHtml;\n",
              "          element.appendChild(docLink);\n",
              "        }\n",
              "      </script>\n",
              "    </div>\n",
              "  </div>\n",
              "  "
            ]
          },
          "metadata": {},
          "execution_count": 5
        }
      ]
    },
    {
      "cell_type": "code",
      "source": [
        "train = dados[dados['ano']==2006]\n",
        "dev = dados[dados['ano']==2010]"
      ],
      "metadata": {
        "id": "3nawSvmJ2UWv"
      },
      "execution_count": 6,
      "outputs": []
    },
    {
      "cell_type": "code",
      "source": [
        "matplotlib.rcParams['figure.figsize'] = (12.0, 6.0)\n",
        "votos = pd.DataFrame({\"votos\":train[\"votos\"], \"log(votos + 1)\":np.log1p(train[\"votos\"])})\n",
        "votos.hist()"
      ],
      "metadata": {
        "colab": {
          "base_uri": "https://localhost:8080/",
          "height": 441
        },
        "id": "9_9JFZTm0WUd",
        "outputId": "abbf3fbd-195f-404e-a54a-d365751d90a1"
      },
      "execution_count": 7,
      "outputs": [
        {
          "output_type": "execute_result",
          "data": {
            "text/plain": [
              "array([[<matplotlib.axes._subplots.AxesSubplot object at 0x7fa2de2c8250>,\n",
              "        <matplotlib.axes._subplots.AxesSubplot object at 0x7fa2de21b950>]],\n",
              "      dtype=object)"
            ]
          },
          "metadata": {},
          "execution_count": 7
        },
        {
          "output_type": "display_data",
          "data": {
            "text/plain": [
              "<Figure size 864x432 with 2 Axes>"
            ],
            "image/png": "[encoded data removed]"
          },
          "metadata": {
            "image/png": {
              "width": 720,
              "height": 372
            },
            "needs_background": "light"
          }
        }
      ]
    },
    {
      "cell_type": "code",
      "source": [
        "train[\"votos\"] = np.log1p(train[\"votos\"])"
      ],
      "metadata": {
        "colab": {
          "base_uri": "https://localhost:8080/"
        },
        "id": "YI-566as1P5o",
        "outputId": "9be859b9-eb78-45c8-854f-1db23be0658e"
      },
      "execution_count": 8,
      "outputs": [
        {
          "output_type": "stream",
          "name": "stderr",
          "text": [
            "/usr/local/lib/python3.7/dist-packages/ipykernel_launcher.py:1: SettingWithCopyWarning: \n",
            "A value is trying to be set on a copy of a slice from a DataFrame.\n",
            "Try using .loc[row_indexer,col_indexer] = value instead\n",
            "\n",
            "See the caveats in the documentation: https://pandas.pydata.org/pandas-docs/stable/user_guide/indexing.html#returning-a-view-versus-a-copy\n",
            "  \"\"\"Entry point for launching an IPython kernel.\n"
          ]
        }
      ]
    },
    {
      "cell_type": "code",
      "source": [
        "#log transform skewed numeric features:\n",
        "numeric_feats = all_data.dtypes[all_data.dtypes != \"object\"].index\n",
        "numeric_feats"
      ],
      "metadata": {
        "colab": {
          "base_uri": "https://localhost:8080/"
        },
        "id": "-DJD-2lP30ii",
        "outputId": "1fa3d954-f388-454e-9392-a36b7a26d703"
      },
      "execution_count": 9,
      "outputs": [
        {
          "output_type": "execute_result",
          "data": {
            "text/plain": [
              "Index(['quantidade_doacoes', 'quantidade_doadores', 'total_receita',\n",
              "       'media_receita', 'recursos_de_outros_candidatos/comites',\n",
              "       'recursos_de_pessoas_fisicas', 'recursos_de_pessoas_juridicas',\n",
              "       'recursos_proprios', 'quantidade_despesas', 'quantidade_fornecedores',\n",
              "       'total_despesa', 'media_despesa'],\n",
              "      dtype='object')"
            ]
          },
          "metadata": {},
          "execution_count": 9
        }
      ]
    },
    {
      "cell_type": "code",
      "source": [
        "skewed_feats = train[numeric_feats].apply(lambda x: skew(x.dropna())) #compute skewness\n",
        "skewed_feats = skewed_feats[skewed_feats > 0.75]\n",
        "skewed_feats = skewed_feats.index\n",
        "print('skewed features: ',skewed_feats)\n",
        "\n",
        "all_data[skewed_feats] = np.log1p(all_data[skewed_feats])"
      ],
      "metadata": {
        "colab": {
          "base_uri": "https://localhost:8080/"
        },
        "id": "-FLcz4zf39Jq",
        "outputId": "430c7bc5-36a2-446f-a60d-5f375d0a5301"
      },
      "execution_count": 10,
      "outputs": [
        {
          "output_type": "stream",
          "name": "stdout",
          "text": [
            "skewed features:  Index(['quantidade_doacoes', 'quantidade_doadores', 'total_receita',\n",
            "       'media_receita', 'recursos_de_outros_candidatos/comites',\n",
            "       'recursos_de_pessoas_fisicas', 'recursos_de_pessoas_juridicas',\n",
            "       'recursos_proprios', 'quantidade_despesas', 'quantidade_fornecedores',\n",
            "       'total_despesa', 'media_despesa'],\n",
            "      dtype='object')\n"
          ]
        }
      ]
    },
    {
      "cell_type": "code",
      "source": [
        "all_data = pd.get_dummies(all_data)\n",
        "all_data.head()"
      ],
      "metadata": {
        "colab": {
          "base_uri": "https://localhost:8080/",
          "height": 369
        },
        "id": "_j5udigs4_cR",
        "outputId": "85558c52-8c18-4d72-ac33-d5b3bac04f43"
      },
      "execution_count": 11,
      "outputs": [
        {
          "output_type": "execute_result",
          "data": {
            "text/plain": [
              "      quantidade_doacoes  quantidade_doadores  total_receita  media_receita  \\\n",
              "0               1.945910             1.945910       9.717218       7.925760   \n",
              "2252            1.098612             1.098612       5.327876       4.639572   \n",
              "2253            2.397895             2.302585       8.471463       6.275912   \n",
              "2254            2.944439             2.564949      12.480673       9.995808   \n",
              "2255            1.386294             1.386294       6.189085       5.094568   \n",
              "\n",
              "      recursos_de_outros_candidatos/comites  recursos_de_pessoas_fisicas  \\\n",
              "0                                       NaN                     9.105091   \n",
              "2252                               5.327876                          NaN   \n",
              "2253                               6.717200                     7.673688   \n",
              "2254                               6.552508                    11.002117   \n",
              "2255                               6.189085                          NaN   \n",
              "\n",
              "      recursos_de_pessoas_juridicas  recursos_proprios  quantidade_despesas  \\\n",
              "0                          8.748464           7.170888             2.708050   \n",
              "2252                            NaN                NaN             1.098612   \n",
              "2253                       7.601402                NaN             2.079442   \n",
              "2254                      12.429220          10.021315             5.849325   \n",
              "2255                            NaN                NaN             1.386294   \n",
              "\n",
              "      quantidade_fornecedores  ...  \\\n",
              "0                    2.708050  ...   \n",
              "2252                 1.098612  ...   \n",
              "2253                 2.079442  ...   \n",
              "2254                 5.645447  ...   \n",
              "2255                 1.386294  ...   \n",
              "\n",
              "      ocupacao_TÉCNICO DE OBRAS CIVIS, ESTRADAS, SANEAMENTO E ASSEMELHADOS  \\\n",
              "0                                                     0                      \n",
              "2252                                                  0                      \n",
              "2253                                                  0                      \n",
              "2254                                                  0                      \n",
              "2255                                                  0                      \n",
              "\n",
              "      ocupacao_TÉCNICO EM AGRONOMIA E AGRIMENSURA  \\\n",
              "0                                               0   \n",
              "2252                                            0   \n",
              "2253                                            0   \n",
              "2254                                            0   \n",
              "2255                                            0   \n",
              "\n",
              "      ocupacao_TÉCNICO EM EDIFICAÇÕES  ocupacao_TÉCNICO EM INFORMÁTICA  \\\n",
              "0                                   0                                0   \n",
              "2252                                0                                0   \n",
              "2253                                0                                0   \n",
              "2254                                0                                0   \n",
              "2255                                0                                0   \n",
              "\n",
              "      ocupacao_VENDEDOR DE COMÉRCIO VAREJISTA E ATACADISTA  \\\n",
              "0                                                     0      \n",
              "2252                                                  0      \n",
              "2253                                                  0      \n",
              "2254                                                  0      \n",
              "2255                                                  0      \n",
              "\n",
              "      ocupacao_VENDEDOR PRACISTA, REPRESENTANTE, CAIXEIRO-VIAJANTE E ASSEMELHADOS  \\\n",
              "0                                                     0                             \n",
              "2252                                                  0                             \n",
              "2253                                                  0                             \n",
              "2254                                                  0                             \n",
              "2255                                                  0                             \n",
              "\n",
              "      ocupacao_VEREADOR  ocupacao_VETERINÁRIO  ocupacao_VIGILANTE  \\\n",
              "0                     1                     0                   0   \n",
              "2252                  0                     0                   0   \n",
              "2253                  0                     0                   0   \n",
              "2254                  0                     0                   0   \n",
              "2255                  0                     0                   0   \n",
              "\n",
              "      ocupacao_ZOOTECNISTA  \n",
              "0                        0  \n",
              "2252                     0  \n",
              "2253                     0  \n",
              "2254                     0  \n",
              "2255                     0  \n",
              "\n",
              "[5 rows x 260 columns]"
            ],
            "text/html": [
              "\n",
              "  <div id=\"df-b009fc0f-8fae-477a-89d9-7776c40e0d3c\">\n",
              "    <div class=\"colab-df-container\">\n",
              "      <div>\n",
              "<style scoped>\n",
              "    .dataframe tbody tr th:only-of-type {\n",
              "        vertical-align: middle;\n",
              "    }\n",
              "\n",
              "    .dataframe tbody tr th {\n",
              "        vertical-align: top;\n",
              "    }\n",
              "\n",
              "    .dataframe thead th {\n",
              "        text-align: right;\n",
              "    }\n",
              "</style>\n",
              "<table border=\"1\" class=\"dataframe\">\n",
              "  <thead>\n",
              "    <tr style=\"text-align: right;\">\n",
              "      <th></th>\n",
              "      <th>quantidade_doacoes</th>\n",
              "      <th>quantidade_doadores</th>\n",
              "      <th>total_receita</th>\n",
              "      <th>media_receita</th>\n",
              "      <th>recursos_de_outros_candidatos/comites</th>\n",
              "      <th>recursos_de_pessoas_fisicas</th>\n",
              "      <th>recursos_de_pessoas_juridicas</th>\n",
              "      <th>recursos_proprios</th>\n",
              "      <th>quantidade_despesas</th>\n",
              "      <th>quantidade_fornecedores</th>\n",
              "      <th>...</th>\n",
              "      <th>ocupacao_TÉCNICO DE OBRAS CIVIS, ESTRADAS, SANEAMENTO E ASSEMELHADOS</th>\n",
              "      <th>ocupacao_TÉCNICO EM AGRONOMIA E AGRIMENSURA</th>\n",
              "      <th>ocupacao_TÉCNICO EM EDIFICAÇÕES</th>\n",
              "      <th>ocupacao_TÉCNICO EM INFORMÁTICA</th>\n",
              "      <th>ocupacao_VENDEDOR DE COMÉRCIO VAREJISTA E ATACADISTA</th>\n",
              "      <th>ocupacao_VENDEDOR PRACISTA, REPRESENTANTE, CAIXEIRO-VIAJANTE E ASSEMELHADOS</th>\n",
              "      <th>ocupacao_VEREADOR</th>\n",
              "      <th>ocupacao_VETERINÁRIO</th>\n",
              "      <th>ocupacao_VIGILANTE</th>\n",
              "      <th>ocupacao_ZOOTECNISTA</th>\n",
              "    </tr>\n",
              "  </thead>\n",
              "  <tbody>\n",
              "    <tr>\n",
              "      <th>0</th>\n",
              "      <td>1.945910</td>\n",
              "      <td>1.945910</td>\n",
              "      <td>9.717218</td>\n",
              "      <td>7.925760</td>\n",
              "      <td>NaN</td>\n",
              "      <td>9.105091</td>\n",
              "      <td>8.748464</td>\n",
              "      <td>7.170888</td>\n",
              "      <td>2.708050</td>\n",
              "      <td>2.708050</td>\n",
              "      <td>...</td>\n",
              "      <td>0</td>\n",
              "      <td>0</td>\n",
              "      <td>0</td>\n",
              "      <td>0</td>\n",
              "      <td>0</td>\n",
              "      <td>0</td>\n",
              "      <td>1</td>\n",
              "      <td>0</td>\n",
              "      <td>0</td>\n",
              "      <td>0</td>\n",
              "    </tr>\n",
              "    <tr>\n",
              "      <th>2252</th>\n",
              "      <td>1.098612</td>\n",
              "      <td>1.098612</td>\n",
              "      <td>5.327876</td>\n",
              "      <td>4.639572</td>\n",
              "      <td>5.327876</td>\n",
              "      <td>NaN</td>\n",
              "      <td>NaN</td>\n",
              "      <td>NaN</td>\n",
              "      <td>1.098612</td>\n",
              "      <td>1.098612</td>\n",
              "      <td>...</td>\n",
              "      <td>0</td>\n",
              "      <td>0</td>\n",
              "      <td>0</td>\n",
              "      <td>0</td>\n",
              "      <td>0</td>\n",
              "      <td>0</td>\n",
              "      <td>0</td>\n",
              "      <td>0</td>\n",
              "      <td>0</td>\n",
              "      <td>0</td>\n",
              "    </tr>\n",
              "    <tr>\n",
              "      <th>2253</th>\n",
              "      <td>2.397895</td>\n",
              "      <td>2.302585</td>\n",
              "      <td>8.471463</td>\n",
              "      <td>6.275912</td>\n",
              "      <td>6.717200</td>\n",
              "      <td>7.673688</td>\n",
              "      <td>7.601402</td>\n",
              "      <td>NaN</td>\n",
              "      <td>2.079442</td>\n",
              "      <td>2.079442</td>\n",
              "      <td>...</td>\n",
              "      <td>0</td>\n",
              "      <td>0</td>\n",
              "      <td>0</td>\n",
              "      <td>0</td>\n",
              "      <td>0</td>\n",
              "      <td>0</td>\n",
              "      <td>0</td>\n",
              "      <td>0</td>\n",
              "      <td>0</td>\n",
              "      <td>0</td>\n",
              "    </tr>\n",
              "    <tr>\n",
              "      <th>2254</th>\n",
              "      <td>2.944439</td>\n",
              "      <td>2.564949</td>\n",
              "      <td>12.480673</td>\n",
              "      <td>9.995808</td>\n",
              "      <td>6.552508</td>\n",
              "      <td>11.002117</td>\n",
              "      <td>12.429220</td>\n",
              "      <td>10.021315</td>\n",
              "      <td>5.849325</td>\n",
              "      <td>5.645447</td>\n",
              "      <td>...</td>\n",
              "      <td>0</td>\n",
              "      <td>0</td>\n",
              "      <td>0</td>\n",
              "      <td>0</td>\n",
              "      <td>0</td>\n",
              "      <td>0</td>\n",
              "      <td>0</td>\n",
              "      <td>0</td>\n",
              "      <td>0</td>\n",
              "      <td>0</td>\n",
              "    </tr>\n",
              "    <tr>\n",
              "      <th>2255</th>\n",
              "      <td>1.386294</td>\n",
              "      <td>1.386294</td>\n",
              "      <td>6.189085</td>\n",
              "      <td>5.094568</td>\n",
              "      <td>6.189085</td>\n",
              "      <td>NaN</td>\n",
              "      <td>NaN</td>\n",
              "      <td>NaN</td>\n",
              "      <td>1.386294</td>\n",
              "      <td>1.386294</td>\n",
              "      <td>...</td>\n",
              "      <td>0</td>\n",
              "      <td>0</td>\n",
              "      <td>0</td>\n",
              "      <td>0</td>\n",
              "      <td>0</td>\n",
              "      <td>0</td>\n",
              "      <td>0</td>\n",
              "      <td>0</td>\n",
              "      <td>0</td>\n",
              "      <td>0</td>\n",
              "    </tr>\n",
              "  </tbody>\n",
              "</table>\n",
              "<p>5 rows × 260 columns</p>\n",
              "</div>\n",
              "      <button class=\"colab-df-convert\" onclick=\"convertToInteractive('df-b009fc0f-8fae-477a-89d9-7776c40e0d3c')\"\n",
              "              title=\"Convert this dataframe to an interactive table.\"\n",
              "              style=\"display:none;\">\n",
              "        \n",
              "  <svg xmlns=\"http://www.w3.org/2000/svg\" height=\"24px\"viewBox=\"0 0 24 24\"\n",
              "       width=\"24px\">\n",
              "    <path d=\"M0 0h24v24H0V0z\" fill=\"none\"/>\n",
              "    <path d=\"M18.56 5.44l.94 2.06.94-2.06 2.06-.94-2.06-.94-.94-2.06-.94 2.06-2.06.94zm-11 1L8.5 8.5l.94-2.06 2.06-.94-2.06-.94L8.5 2.5l-.94 2.06-2.06.94zm10 10l.94 2.06.94-2.06 2.06-.94-2.06-.94-.94-2.06-.94 2.06-2.06.94z\"/><path d=\"M17.41 7.96l-1.37-1.37c-.4-.4-.92-.59-1.43-.59-.52 0-1.04.2-1.43.59L10.3 9.45l-7.72 7.72c-.78.78-.78 2.05 0 2.83L4 21.41c.39.39.9.59 1.41.59.51 0 1.02-.2 1.41-.59l7.78-7.78 2.81-2.81c.8-.78.8-2.07 0-2.86zM5.41 20L4 18.59l7.72-7.72 1.47 1.35L5.41 20z\"/>\n",
              "  </svg>\n",
              "      </button>\n",
              "      \n",
              "  <style>\n",
              "    .colab-df-container {\n",
              "      display:flex;\n",
              "      flex-wrap:wrap;\n",
              "      gap: 12px;\n",
              "    }\n",
              "\n",
              "    .colab-df-convert {\n",
              "      background-color: #E8F0FE;\n",
              "      border: none;\n",
              "      border-radius: 50%;\n",
              "      cursor: pointer;\n",
              "      display: none;\n",
              "      fill: #1967D2;\n",
              "      height: 32px;\n",
              "      padding: 0 0 0 0;\n",
              "      width: 32px;\n",
              "    }\n",
              "\n",
              "    .colab-df-convert:hover {\n",
              "      background-color: #E2EBFA;\n",
              "      box-shadow: 0px 1px 2px rgba(60, 64, 67, 0.3), 0px 1px 3px 1px rgba(60, 64, 67, 0.15);\n",
              "      fill: #174EA6;\n",
              "    }\n",
              "\n",
              "    [theme=dark] .colab-df-convert {\n",
              "      background-color: #3B4455;\n",
              "      fill: #D2E3FC;\n",
              "    }\n",
              "\n",
              "    [theme=dark] .colab-df-convert:hover {\n",
              "      background-color: #434B5C;\n",
              "      box-shadow: 0px 1px 3px 1px rgba(0, 0, 0, 0.15);\n",
              "      filter: drop-shadow(0px 1px 2px rgba(0, 0, 0, 0.3));\n",
              "      fill: #FFFFFF;\n",
              "    }\n",
              "  </style>\n",
              "\n",
              "      <script>\n",
              "        const buttonEl =\n",
              "          document.querySelector('#df-b009fc0f-8fae-477a-89d9-7776c40e0d3c button.colab-df-convert');\n",
              "        buttonEl.style.display =\n",
              "          google.colab.kernel.accessAllowed ? 'block' : 'none';\n",
              "\n",
              "        async function convertToInteractive(key) {\n",
              "          const element = document.querySelector('#df-b009fc0f-8fae-477a-89d9-7776c40e0d3c');\n",
              "          const dataTable =\n",
              "            await google.colab.kernel.invokeFunction('convertToInteractive',\n",
              "                                                     [key], {});\n",
              "          if (!dataTable) return;\n",
              "\n",
              "          const docLinkHtml = 'Like what you see? Visit the ' +\n",
              "            '<a target=\"_blank\" href=https://colab.research.google.com/notebooks/data_table.ipynb>data table notebook</a>'\n",
              "            + ' to learn more about interactive tables.';\n",
              "          element.innerHTML = '';\n",
              "          dataTable['output_type'] = 'display_data';\n",
              "          await google.colab.output.renderOutput(dataTable, element);\n",
              "          const docLink = document.createElement('div');\n",
              "          docLink.innerHTML = docLinkHtml;\n",
              "          element.appendChild(docLink);\n",
              "        }\n",
              "      </script>\n",
              "    </div>\n",
              "  </div>\n",
              "  "
            ]
          },
          "metadata": {},
          "execution_count": 11
        }
      ]
    },
    {
      "cell_type": "code",
      "source": [
        "all_data.shape"
      ],
      "metadata": {
        "colab": {
          "base_uri": "https://localhost:8080/"
        },
        "id": "DeutNNnX5lwq",
        "outputId": "3371f745-9a92-454e-cfcf-b2073ae8cab2"
      },
      "execution_count": 12,
      "outputs": [
        {
          "output_type": "execute_result",
          "data": {
            "text/plain": [
              "(7330, 260)"
            ]
          },
          "metadata": {},
          "execution_count": 12
        }
      ]
    },
    {
      "cell_type": "code",
      "source": [
        "#filling NA's with the mean of the column:\n",
        "all_data = all_data.fillna(all_data.mean())"
      ],
      "metadata": {
        "id": "qWonyR2A5qyj"
      },
      "execution_count": 13,
      "outputs": []
    },
    {
      "cell_type": "code",
      "source": [
        "all_data.isnull().sum().sum()"
      ],
      "metadata": {
        "colab": {
          "base_uri": "https://localhost:8080/"
        },
        "id": "qu8S3g8Y53Oy",
        "outputId": "a26b1d1a-9def-4ec8-b8c9-e314977e2359"
      },
      "execution_count": 14,
      "outputs": [
        {
          "output_type": "execute_result",
          "data": {
            "text/plain": [
              "0"
            ]
          },
          "metadata": {},
          "execution_count": 14
        }
      ]
    },
    {
      "cell_type": "code",
      "source": [
        "#creating matrices for sklearn:\n",
        "X_train = all_data[:train.shape[0]]\n",
        "X_dev = all_data[train.shape[0]:]\n",
        "y_train = train.votos\n",
        "y_dev = np.log1p(dev[\"votos\"])"
      ],
      "metadata": {
        "id": "v8_XZgC_56KK"
      },
      "execution_count": 18,
      "outputs": []
    },
    {
      "cell_type": "code",
      "source": [
        "from sklearn.linear_model import Ridge, RidgeCV, ElasticNet, LassoCV, LassoLarsCV\n",
        "from sklearn.model_selection import cross_val_score\n",
        "\n",
        "def rmse_cv(model, X = X_train, y = y_train, crossval = False):\n",
        "    rmse= np.sqrt(-cross_val_score(model, X, y, scoring=\"neg_mean_squared_error\", cv = 5))\n",
        "    if crossval:\n",
        "      rmse= np.sqrt(-cross_val_score(model, X_dev, y_dev, scoring=\"neg_mean_squared_error\", cv = 5))\n",
        "    return(rmse)"
      ],
      "metadata": {
        "id": "H0-xjP3N-T5u"
      },
      "execution_count": 72,
      "outputs": []
    },
    {
      "cell_type": "code",
      "source": [
        "model_ridge = Ridge()"
      ],
      "metadata": {
        "id": "lp-Hzh6T8wtv"
      },
      "execution_count": 20,
      "outputs": []
    },
    {
      "cell_type": "code",
      "source": [
        "alphas = [0.05, 0.1, 0.3, 1, 3, 5, 10, 15, 30, 50, 75]\n",
        "cv_ridge = [rmse_cv(Ridge(alpha = alpha)).mean() \n",
        "            for alpha in alphas]"
      ],
      "metadata": {
        "id": "-pKUiag68yZn"
      },
      "execution_count": 73,
      "outputs": []
    },
    {
      "cell_type": "code",
      "source": [
        "cv_ridge = pd.Series(cv_ridge, index = alphas)\n",
        "cv_ridge.plot(title = \"Validation - Just Do It\")\n",
        "plt.xlabel(\"alpha\")\n",
        "plt.ylabel(\"rmse\")"
      ],
      "metadata": {
        "colab": {
          "base_uri": "https://localhost:8080/",
          "height": 420
        },
        "id": "6zpxwqq987jW",
        "outputId": "761abb41-7e0f-4c0b-e5ef-97b2617dc827"
      },
      "execution_count": 22,
      "outputs": [
        {
          "output_type": "execute_result",
          "data": {
            "text/plain": [
              "Text(0, 0.5, 'rmse')"
            ]
          },
          "metadata": {},
          "execution_count": 22
        },
        {
          "output_type": "display_data",
          "data": {
            "text/plain": [
              "<Figure size 864x432 with 1 Axes>"
            ],
            "image/png": "[encoded data removed]"
          },
          "metadata": {
            "image/png": {
              "width": 739,
              "height": 386
            },
            "needs_background": "light"
          }
        }
      ]
    },
    {
      "cell_type": "code",
      "source": [
        "cv_ridge.min()"
      ],
      "metadata": {
        "colab": {
          "base_uri": "https://localhost:8080/"
        },
        "id": "M0ooG7c29JYM",
        "outputId": "42439da5-2d44-4c30-b2c5-d8f5b1092f30"
      },
      "execution_count": 23,
      "outputs": [
        {
          "output_type": "execute_result",
          "data": {
            "text/plain": [
              "0.952456667385781"
            ]
          },
          "metadata": {},
          "execution_count": 23
        }
      ]
    },
    {
      "cell_type": "code",
      "source": [
        "model_ridge = Ridge(alpha = 15).fit(X_train, y_train)"
      ],
      "metadata": {
        "id": "34Dq3wWuzB89"
      },
      "execution_count": 24,
      "outputs": []
    },
    {
      "cell_type": "code",
      "source": [
        "model_lasso = LassoCV(alphas = [1, 0.1, 0.001, 0.0005]).fit(X_train, y_train)"
      ],
      "metadata": {
        "colab": {
          "base_uri": "https://localhost:8080/"
        },
        "id": "b4X327r-9jmF",
        "outputId": "57e66a7b-a62d-475e-d5b8-a18f2390ceaf"
      },
      "execution_count": 25,
      "outputs": [
        {
          "output_type": "stream",
          "name": "stderr",
          "text": [
            "/usr/local/lib/python3.7/dist-packages/sklearn/linear_model/_coordinate_descent.py:644: ConvergenceWarning: Objective did not converge. You might want to increase the number of iterations. Duality gap: 87.84390413582378, tolerance: 1.0066005214332432\n",
            "  positive,\n",
            "/usr/local/lib/python3.7/dist-packages/sklearn/linear_model/_coordinate_descent.py:644: ConvergenceWarning: Objective did not converge. You might want to increase the number of iterations. Duality gap: 82.02029068680167, tolerance: 1.0066005214332432\n",
            "  positive,\n",
            "/usr/local/lib/python3.7/dist-packages/sklearn/linear_model/_coordinate_descent.py:644: ConvergenceWarning: Objective did not converge. You might want to increase the number of iterations. Duality gap: 184.24155834257726, tolerance: 0.98432326243833\n",
            "  positive,\n",
            "/usr/local/lib/python3.7/dist-packages/sklearn/linear_model/_coordinate_descent.py:644: ConvergenceWarning: Objective did not converge. You might want to increase the number of iterations. Duality gap: 125.17677357747698, tolerance: 0.98432326243833\n",
            "  positive,\n",
            "/usr/local/lib/python3.7/dist-packages/sklearn/linear_model/_coordinate_descent.py:644: ConvergenceWarning: Objective did not converge. You might want to increase the number of iterations. Duality gap: 87.36626884896555, tolerance: 0.9988511140210342\n",
            "  positive,\n",
            "/usr/local/lib/python3.7/dist-packages/sklearn/linear_model/_coordinate_descent.py:644: ConvergenceWarning: Objective did not converge. You might want to increase the number of iterations. Duality gap: 87.37586028219403, tolerance: 0.9988511140210342\n",
            "  positive,\n",
            "/usr/local/lib/python3.7/dist-packages/sklearn/linear_model/_coordinate_descent.py:644: ConvergenceWarning: Objective did not converge. You might want to increase the number of iterations. Duality gap: 158.35856256249258, tolerance: 0.9966460677602759\n",
            "  positive,\n",
            "/usr/local/lib/python3.7/dist-packages/sklearn/linear_model/_coordinate_descent.py:644: ConvergenceWarning: Objective did not converge. You might want to increase the number of iterations. Duality gap: 90.46099625183706, tolerance: 0.9966460677602759\n",
            "  positive,\n",
            "/usr/local/lib/python3.7/dist-packages/sklearn/linear_model/_coordinate_descent.py:644: ConvergenceWarning: Objective did not converge. You might want to increase the number of iterations. Duality gap: 149.72934607320758, tolerance: 0.9464388029931007\n",
            "  positive,\n",
            "/usr/local/lib/python3.7/dist-packages/sklearn/linear_model/_coordinate_descent.py:644: ConvergenceWarning: Objective did not converge. You might want to increase the number of iterations. Duality gap: 89.02988135194596, tolerance: 0.9464388029931007\n",
            "  positive,\n",
            "/usr/local/lib/python3.7/dist-packages/sklearn/linear_model/_coordinate_descent.py:648: ConvergenceWarning: Objective did not converge. You might want to increase the number of iterations, check the scale of the features or consider increasing regularisation. Duality gap: 1.031e+02, tolerance: 1.235e+00\n",
            "  coef_, l1_reg, l2_reg, X, y, max_iter, tol, rng, random, positive\n"
          ]
        }
      ]
    },
    {
      "cell_type": "code",
      "source": [
        "rmse_cv(model_lasso).mean()"
      ],
      "metadata": {
        "colab": {
          "base_uri": "https://localhost:8080/"
        },
        "id": "qn8sTxB593qW",
        "outputId": "371a35d6-47cb-46d8-e072-c0d3ad8bed34"
      },
      "execution_count": 26,
      "outputs": [
        {
          "output_type": "stream",
          "name": "stderr",
          "text": [
            "/usr/local/lib/python3.7/dist-packages/sklearn/linear_model/_coordinate_descent.py:644: ConvergenceWarning: Objective did not converge. You might want to increase the number of iterations. Duality gap: 79.58927702274241, tolerance: 0.8050450483974277\n",
            "  positive,\n",
            "/usr/local/lib/python3.7/dist-packages/sklearn/linear_model/_coordinate_descent.py:644: ConvergenceWarning: Objective did not converge. You might want to increase the number of iterations. Duality gap: 76.01091492403884, tolerance: 0.8050450483974277\n",
            "  positive,\n",
            "/usr/local/lib/python3.7/dist-packages/sklearn/linear_model/_coordinate_descent.py:644: ConvergenceWarning: Objective did not converge. You might want to increase the number of iterations. Duality gap: 23.36548829116623, tolerance: 0.8266577870016394\n",
            "  positive,\n",
            "/usr/local/lib/python3.7/dist-packages/sklearn/linear_model/_coordinate_descent.py:644: ConvergenceWarning: Objective did not converge. You might want to increase the number of iterations. Duality gap: 57.203562217004446, tolerance: 0.8266577870016394\n",
            "  positive,\n",
            "/usr/local/lib/python3.7/dist-packages/sklearn/linear_model/_coordinate_descent.py:644: ConvergenceWarning: Objective did not converge. You might want to increase the number of iterations. Duality gap: 99.2029151974516, tolerance: 0.8031581079766971\n",
            "  positive,\n",
            "/usr/local/lib/python3.7/dist-packages/sklearn/linear_model/_coordinate_descent.py:644: ConvergenceWarning: Objective did not converge. You might want to increase the number of iterations. Duality gap: 66.6224455714314, tolerance: 0.8031581079766971\n",
            "  positive,\n",
            "/usr/local/lib/python3.7/dist-packages/sklearn/linear_model/_coordinate_descent.py:644: ConvergenceWarning: Objective did not converge. You might want to increase the number of iterations. Duality gap: 83.37661748598384, tolerance: 0.8035135542033145\n",
            "  positive,\n",
            "/usr/local/lib/python3.7/dist-packages/sklearn/linear_model/_coordinate_descent.py:644: ConvergenceWarning: Objective did not converge. You might want to increase the number of iterations. Duality gap: 67.90372497716453, tolerance: 0.8035135542033145\n",
            "  positive,\n",
            "/usr/local/lib/python3.7/dist-packages/sklearn/linear_model/_coordinate_descent.py:644: ConvergenceWarning: Objective did not converge. You might want to increase the number of iterations. Duality gap: 77.36901691296316, tolerance: 0.7805449633968325\n",
            "  positive,\n",
            "/usr/local/lib/python3.7/dist-packages/sklearn/linear_model/_coordinate_descent.py:644: ConvergenceWarning: Objective did not converge. You might want to increase the number of iterations. Duality gap: 60.03393840088802, tolerance: 0.7805449633968325\n",
            "  positive,\n",
            "/usr/local/lib/python3.7/dist-packages/sklearn/linear_model/_coordinate_descent.py:648: ConvergenceWarning: Objective did not converge. You might want to increase the number of iterations, check the scale of the features or consider increasing regularisation. Duality gap: 4.430e+01, tolerance: 1.007e+00\n",
            "  coef_, l1_reg, l2_reg, X, y, max_iter, tol, rng, random, positive\n",
            "/usr/local/lib/python3.7/dist-packages/sklearn/linear_model/_coordinate_descent.py:644: ConvergenceWarning: Objective did not converge. You might want to increase the number of iterations. Duality gap: 141.9294319724538, tolerance: 0.8069700656592057\n",
            "  positive,\n",
            "/usr/local/lib/python3.7/dist-packages/sklearn/linear_model/_coordinate_descent.py:644: ConvergenceWarning: Objective did not converge. You might want to increase the number of iterations. Duality gap: 105.07236059524485, tolerance: 0.8069700656592057\n",
            "  positive,\n",
            "/usr/local/lib/python3.7/dist-packages/sklearn/linear_model/_coordinate_descent.py:644: ConvergenceWarning: Objective did not converge. You might want to increase the number of iterations. Duality gap: 75.22143033716998, tolerance: 0.8030849720005881\n",
            "  positive,\n",
            "/usr/local/lib/python3.7/dist-packages/sklearn/linear_model/_coordinate_descent.py:644: ConvergenceWarning: Objective did not converge. You might want to increase the number of iterations. Duality gap: 92.30687872569524, tolerance: 0.8030849720005881\n",
            "  positive,\n",
            "/usr/local/lib/python3.7/dist-packages/sklearn/linear_model/_coordinate_descent.py:644: ConvergenceWarning: Objective did not converge. You might want to increase the number of iterations. Duality gap: 173.1213142527315, tolerance: 0.7808299007829412\n",
            "  positive,\n",
            "/usr/local/lib/python3.7/dist-packages/sklearn/linear_model/_coordinate_descent.py:644: ConvergenceWarning: Objective did not converge. You might want to increase the number of iterations. Duality gap: 100.79775452841886, tolerance: 0.7808299007829412\n",
            "  positive,\n",
            "/usr/local/lib/python3.7/dist-packages/sklearn/linear_model/_coordinate_descent.py:644: ConvergenceWarning: Objective did not converge. You might want to increase the number of iterations. Duality gap: 176.17415163290434, tolerance: 0.7811586008915562\n",
            "  positive,\n",
            "/usr/local/lib/python3.7/dist-packages/sklearn/linear_model/_coordinate_descent.py:644: ConvergenceWarning: Objective did not converge. You might want to increase the number of iterations. Duality gap: 112.1558655877991, tolerance: 0.7811586008915562\n",
            "  positive,\n",
            "/usr/local/lib/python3.7/dist-packages/sklearn/linear_model/_coordinate_descent.py:644: ConvergenceWarning: Objective did not converge. You might want to increase the number of iterations. Duality gap: 155.477406853832, tolerance: 0.7581381758847426\n",
            "  positive,\n",
            "/usr/local/lib/python3.7/dist-packages/sklearn/linear_model/_coordinate_descent.py:644: ConvergenceWarning: Objective did not converge. You might want to increase the number of iterations. Duality gap: 100.39560334816997, tolerance: 0.7581381758847426\n",
            "  positive,\n",
            "/usr/local/lib/python3.7/dist-packages/sklearn/linear_model/_coordinate_descent.py:648: ConvergenceWarning: Objective did not converge. You might want to increase the number of iterations, check the scale of the features or consider increasing regularisation. Duality gap: 1.243e+02, tolerance: 9.843e-01\n",
            "  coef_, l1_reg, l2_reg, X, y, max_iter, tol, rng, random, positive\n",
            "/usr/local/lib/python3.7/dist-packages/sklearn/linear_model/_coordinate_descent.py:644: ConvergenceWarning: Objective did not converge. You might want to increase the number of iterations. Duality gap: 21.021993063988702, tolerance: 0.8213894998331606\n",
            "  positive,\n",
            "/usr/local/lib/python3.7/dist-packages/sklearn/linear_model/_coordinate_descent.py:644: ConvergenceWarning: Objective did not converge. You might want to increase the number of iterations. Duality gap: 53.62145836557147, tolerance: 0.8213894998331606\n",
            "  positive,\n",
            "/usr/local/lib/python3.7/dist-packages/sklearn/linear_model/_coordinate_descent.py:644: ConvergenceWarning: Objective did not converge. You might want to increase the number of iterations. Duality gap: 44.31958444560951, tolerance: 0.7955753479435382\n",
            "  positive,\n",
            "/usr/local/lib/python3.7/dist-packages/sklearn/linear_model/_coordinate_descent.py:644: ConvergenceWarning: Objective did not converge. You might want to increase the number of iterations. Duality gap: 78.86669128317271, tolerance: 0.7955753479435382\n",
            "  positive,\n",
            "/usr/local/lib/python3.7/dist-packages/sklearn/linear_model/_coordinate_descent.py:644: ConvergenceWarning: Objective did not converge. You might want to increase the number of iterations. Duality gap: 102.30246935896685, tolerance: 0.8053400161635176\n",
            "  positive,\n",
            "/usr/local/lib/python3.7/dist-packages/sklearn/linear_model/_coordinate_descent.py:644: ConvergenceWarning: Objective did not converge. You might want to increase the number of iterations. Duality gap: 78.6213249325724, tolerance: 0.8053400161635176\n",
            "  positive,\n",
            "/usr/local/lib/python3.7/dist-packages/sklearn/linear_model/_coordinate_descent.py:644: ConvergenceWarning: Objective did not converge. You might want to increase the number of iterations. Duality gap: 86.20396690333041, tolerance: 0.7957741515416275\n",
            "  positive,\n",
            "/usr/local/lib/python3.7/dist-packages/sklearn/linear_model/_coordinate_descent.py:644: ConvergenceWarning: Objective did not converge. You might want to increase the number of iterations. Duality gap: 74.3523538135089, tolerance: 0.7957741515416275\n",
            "  positive,\n",
            "/usr/local/lib/python3.7/dist-packages/sklearn/linear_model/_coordinate_descent.py:644: ConvergenceWarning: Objective did not converge. You might want to increase the number of iterations. Duality gap: 91.9776534638554, tolerance: 0.7728122777866773\n",
            "  positive,\n",
            "/usr/local/lib/python3.7/dist-packages/sklearn/linear_model/_coordinate_descent.py:644: ConvergenceWarning: Objective did not converge. You might want to increase the number of iterations. Duality gap: 70.90366014443134, tolerance: 0.7728122777866773\n",
            "  positive,\n",
            "/usr/local/lib/python3.7/dist-packages/sklearn/linear_model/_coordinate_descent.py:648: ConvergenceWarning: Objective did not converge. You might want to increase the number of iterations, check the scale of the features or consider increasing regularisation. Duality gap: 4.448e+01, tolerance: 9.989e-01\n",
            "  coef_, l1_reg, l2_reg, X, y, max_iter, tol, rng, random, positive\n",
            "/usr/local/lib/python3.7/dist-packages/sklearn/linear_model/_coordinate_descent.py:644: ConvergenceWarning: Objective did not converge. You might want to increase the number of iterations. Duality gap: 116.27451225532968, tolerance: 0.822061904707151\n",
            "  positive,\n",
            "/usr/local/lib/python3.7/dist-packages/sklearn/linear_model/_coordinate_descent.py:644: ConvergenceWarning: Objective did not converge. You might want to increase the number of iterations. Duality gap: 74.52939586654384, tolerance: 0.822061904707151\n",
            "  positive,\n",
            "/usr/local/lib/python3.7/dist-packages/sklearn/linear_model/_coordinate_descent.py:644: ConvergenceWarning: Objective did not converge. You might want to increase the number of iterations. Duality gap: 132.78008068936106, tolerance: 0.7966103356246483\n",
            "  positive,\n",
            "/usr/local/lib/python3.7/dist-packages/sklearn/linear_model/_coordinate_descent.py:644: ConvergenceWarning: Objective did not converge. You might want to increase the number of iterations. Duality gap: 78.73499832474204, tolerance: 0.7966103356246483\n",
            "  positive,\n",
            "/usr/local/lib/python3.7/dist-packages/sklearn/linear_model/_coordinate_descent.py:644: ConvergenceWarning: Objective did not converge. You might want to increase the number of iterations. Duality gap: 145.71456531471722, tolerance: 0.8235654589757849\n",
            "  positive,\n",
            "/usr/local/lib/python3.7/dist-packages/sklearn/linear_model/_coordinate_descent.py:644: ConvergenceWarning: Objective did not converge. You might want to increase the number of iterations. Duality gap: 85.10329617619936, tolerance: 0.8235654589757849\n",
            "  positive,\n",
            "/usr/local/lib/python3.7/dist-packages/sklearn/linear_model/_coordinate_descent.py:644: ConvergenceWarning: Objective did not converge. You might want to increase the number of iterations. Duality gap: 117.2560346939299, tolerance: 0.7752047266919616\n",
            "  positive,\n",
            "/usr/local/lib/python3.7/dist-packages/sklearn/linear_model/_coordinate_descent.py:644: ConvergenceWarning: Objective did not converge. You might want to increase the number of iterations. Duality gap: 74.00957768459284, tolerance: 0.7752047266919616\n",
            "  positive,\n",
            "/usr/local/lib/python3.7/dist-packages/sklearn/linear_model/_coordinate_descent.py:644: ConvergenceWarning: Objective did not converge. You might want to increase the number of iterations. Duality gap: 136.62172168668508, tolerance: 0.7635961889634733\n",
            "  positive,\n",
            "/usr/local/lib/python3.7/dist-packages/sklearn/linear_model/_coordinate_descent.py:644: ConvergenceWarning: Objective did not converge. You might want to increase the number of iterations. Duality gap: 69.3606431674159, tolerance: 0.7635961889634733\n",
            "  positive,\n",
            "/usr/local/lib/python3.7/dist-packages/sklearn/linear_model/_coordinate_descent.py:648: ConvergenceWarning: Objective did not converge. You might want to increase the number of iterations, check the scale of the features or consider increasing regularisation. Duality gap: 1.081e+02, tolerance: 9.966e-01\n",
            "  coef_, l1_reg, l2_reg, X, y, max_iter, tol, rng, random, positive\n",
            "/usr/local/lib/python3.7/dist-packages/sklearn/linear_model/_coordinate_descent.py:644: ConvergenceWarning: Objective did not converge. You might want to increase the number of iterations. Duality gap: 107.55791681403844, tolerance: 0.7724612863562068\n",
            "  positive,\n",
            "/usr/local/lib/python3.7/dist-packages/sklearn/linear_model/_coordinate_descent.py:644: ConvergenceWarning: Objective did not converge. You might want to increase the number of iterations. Duality gap: 65.33626488712844, tolerance: 0.7724612863562068\n",
            "  positive,\n",
            "/usr/local/lib/python3.7/dist-packages/sklearn/linear_model/_coordinate_descent.py:644: ConvergenceWarning: Objective did not converge. You might want to increase the number of iterations. Duality gap: 127.21886233089572, tolerance: 0.7467634147629735\n",
            "  positive,\n",
            "/usr/local/lib/python3.7/dist-packages/sklearn/linear_model/_coordinate_descent.py:644: ConvergenceWarning: Objective did not converge. You might want to increase the number of iterations. Duality gap: 89.08532573306456, tolerance: 0.7467634147629735\n",
            "  positive,\n",
            "/usr/local/lib/python3.7/dist-packages/sklearn/linear_model/_coordinate_descent.py:644: ConvergenceWarning: Objective did not converge. You might want to increase the number of iterations. Duality gap: 143.01871541575247, tolerance: 0.7746298406046723\n",
            "  positive,\n",
            "/usr/local/lib/python3.7/dist-packages/sklearn/linear_model/_coordinate_descent.py:644: ConvergenceWarning: Objective did not converge. You might want to increase the number of iterations. Duality gap: 90.6825784184623, tolerance: 0.7746298406046723\n",
            "  positive,\n",
            "/usr/local/lib/python3.7/dist-packages/sklearn/linear_model/_coordinate_descent.py:644: ConvergenceWarning: Objective did not converge. You might want to increase the number of iterations. Duality gap: 97.86229608916028, tolerance: 0.7394503187388187\n",
            "  positive,\n",
            "/usr/local/lib/python3.7/dist-packages/sklearn/linear_model/_coordinate_descent.py:644: ConvergenceWarning: Objective did not converge. You might want to increase the number of iterations. Duality gap: 77.07113943422837, tolerance: 0.7394503187388187\n",
            "  positive,\n",
            "/usr/local/lib/python3.7/dist-packages/sklearn/linear_model/_coordinate_descent.py:644: ConvergenceWarning: Objective did not converge. You might want to increase the number of iterations. Duality gap: 137.76595477320961, tolerance: 0.7486807283918052\n",
            "  positive,\n",
            "/usr/local/lib/python3.7/dist-packages/sklearn/linear_model/_coordinate_descent.py:644: ConvergenceWarning: Objective did not converge. You might want to increase the number of iterations. Duality gap: 64.5468976693196, tolerance: 0.7486807283918052\n",
            "  positive,\n",
            "/usr/local/lib/python3.7/dist-packages/sklearn/linear_model/_coordinate_descent.py:648: ConvergenceWarning: Objective did not converge. You might want to increase the number of iterations, check the scale of the features or consider increasing regularisation. Duality gap: 1.022e+02, tolerance: 9.464e-01\n",
            "  coef_, l1_reg, l2_reg, X, y, max_iter, tol, rng, random, positive\n"
          ]
        },
        {
          "output_type": "execute_result",
          "data": {
            "text/plain": [
              "0.9556914644085657"
            ]
          },
          "metadata": {},
          "execution_count": 26
        }
      ]
    },
    {
      "cell_type": "code",
      "source": [
        "coef = pd.Series(model_lasso.coef_, index = X_train.columns)"
      ],
      "metadata": {
        "id": "YG81awHQ96-O"
      },
      "execution_count": 27,
      "outputs": []
    },
    {
      "cell_type": "code",
      "source": [
        "print(\"Lasso picked \" + str(sum(coef != 0)) + \" variables and eliminated the other \" +  str(sum(coef == 0)) + \" variables\")"
      ],
      "metadata": {
        "colab": {
          "base_uri": "https://localhost:8080/"
        },
        "id": "X4j_Zpjy-QLx",
        "outputId": "cbcc1872-dbb7-4549-da18-174808750d36"
      },
      "execution_count": 28,
      "outputs": [
        {
          "output_type": "stream",
          "name": "stdout",
          "text": [
            "Lasso picked 103 variables and eliminated the other 157 variables\n"
          ]
        }
      ]
    },
    {
      "cell_type": "code",
      "source": [
        "#important coeficients\n",
        "imp_coef = pd.concat([coef.sort_values().head(10),\n",
        "                     coef.sort_values().tail(10)])"
      ],
      "metadata": {
        "id": "2h6u50md-Spw"
      },
      "execution_count": 29,
      "outputs": []
    },
    {
      "cell_type": "code",
      "source": [
        "matplotlib.rcParams['figure.figsize'] = (8.0, 10.0)\n",
        "imp_coef.plot(kind = \"barh\")\n",
        "plt.title(\"Coefficients in the Lasso Model\")"
      ],
      "metadata": {
        "colab": {
          "base_uri": "https://localhost:8080/",
          "height": 624
        },
        "id": "Q0D3ntiJ-3F-",
        "outputId": "6ccb3a65-e757-4cf0-f703-bed4ad5d0d75"
      },
      "execution_count": 30,
      "outputs": [
        {
          "output_type": "execute_result",
          "data": {
            "text/plain": [
              "Text(0.5, 1.0, 'Coefficients in the Lasso Model')"
            ]
          },
          "metadata": {},
          "execution_count": 30
        },
        {
          "output_type": "display_data",
          "data": {
            "text/plain": [
              "<Figure size 576x720 with 1 Axes>"
            ],
            "image/png": "[encoded data removed]"
          },
          "metadata": {
            "image/png": {
              "width": 644,
              "height": 590
            },
            "needs_background": "light"
          }
        }
      ]
    },
    {
      "cell_type": "code",
      "source": [
        "#let's look at the residuals as well:\n",
        "matplotlib.rcParams['figure.figsize'] = (6.0, 6.0)\n",
        "\n",
        "preds = pd.DataFrame({\"preds\":model_lasso.predict(X_train), \"true\":y_train})\n",
        "preds[\"residuals\"] = preds[\"true\"] - preds[\"preds\"]\n",
        "preds.plot(x = \"preds\", y = \"residuals\",kind = \"scatter\")"
      ],
      "metadata": {
        "colab": {
          "base_uri": "https://localhost:8080/",
          "height": 404
        },
        "id": "umT-Ttw-_FXt",
        "outputId": "751a028a-f750-42c2-ba57-8a52736d1d2b"
      },
      "execution_count": 31,
      "outputs": [
        {
          "output_type": "execute_result",
          "data": {
            "text/plain": [
              "<matplotlib.axes._subplots.AxesSubplot at 0x7fa2d8b08f50>"
            ]
          },
          "metadata": {},
          "execution_count": 31
        },
        {
          "output_type": "display_data",
          "data": {
            "text/plain": [
              "<Figure size 432x432 with 1 Axes>"
            ],
            "image/png": "[encoded data removed]"
          },
          "metadata": {
            "image/png": {
              "width": 384,
              "height": 370
            },
            "needs_background": "light"
          }
        }
      ]
    },
    {
      "cell_type": "code",
      "source": [
        "import xgboost as xgb"
      ],
      "metadata": {
        "id": "WR5znZ-Q_t9u"
      },
      "execution_count": 32,
      "outputs": []
    },
    {
      "cell_type": "code",
      "source": [
        "dtrain = xgb.DMatrix(X_train, label = y_train)\n",
        "dtest = xgb.DMatrix(X_dev)\n",
        "\n",
        "params = {\"max_depth\":2, \"eta\":0.1}\n",
        "model = xgb.cv(params, dtrain,  num_boost_round=500, early_stopping_rounds=100)"
      ],
      "metadata": {
        "id": "LGJQNKMy_5Ve"
      },
      "execution_count": 33,
      "outputs": []
    },
    {
      "cell_type": "code",
      "source": [
        "model.loc[30:,[\"test-rmse-mean\", \"train-rmse-mean\"]].plot()"
      ],
      "metadata": {
        "colab": {
          "base_uri": "https://localhost:8080/",
          "height": 391
        },
        "id": "1qxaJcdT_-vF",
        "outputId": "47dca9c6-40b2-41f0-d2c4-9aee4e9e67f9"
      },
      "execution_count": 34,
      "outputs": [
        {
          "output_type": "execute_result",
          "data": {
            "text/plain": [
              "<matplotlib.axes._subplots.AxesSubplot at 0x7fa2cfce1250>"
            ]
          },
          "metadata": {},
          "execution_count": 34
        },
        {
          "output_type": "display_data",
          "data": {
            "text/plain": [
              "<Figure size 432x432 with 1 Axes>"
            ],
            "image/png": "[encoded data removed]"
          },
          "metadata": {
            "image/png": {
              "width": 378,
              "height": 357
            },
            "needs_background": "light"
          }
        }
      ]
    },
    {
      "cell_type": "code",
      "source": [
        "model_xgb = xgb.XGBRegressor(n_estimators=360, max_depth=2, learning_rate=0.1) #the params were tuned using xgb.cv\n",
        "model_xgb.fit(X_train, y_train)"
      ],
      "metadata": {
        "colab": {
          "base_uri": "https://localhost:8080/"
        },
        "id": "n6LKUbGvAFv2",
        "outputId": "142cc23f-8df7-45c9-efb1-0e8bade8b787"
      },
      "execution_count": 35,
      "outputs": [
        {
          "output_type": "stream",
          "name": "stdout",
          "text": [
            "[15:08:50] WARNING: /workspace/src/objective/regression_obj.cu:152: reg:linear is now deprecated in favor of reg:squarederror.\n"
          ]
        },
        {
          "output_type": "execute_result",
          "data": {
            "text/plain": [
              "XGBRegressor(max_depth=2, n_estimators=360)"
            ]
          },
          "metadata": {},
          "execution_count": 35
        }
      ]
    },
    {
      "cell_type": "code",
      "source": [
        "xgb_preds = np.expm1(model_xgb.predict(X_dev))\n",
        "lasso_preds = np.expm1(model_lasso.predict(X_dev))\n",
        "ridge_preds = np.expm1(model_ridge.predict(X_dev))"
      ],
      "metadata": {
        "id": "Igr_UuTDAgs2"
      },
      "execution_count": 36,
      "outputs": []
    },
    {
      "cell_type": "code",
      "source": [
        "predictions = pd.DataFrame({\"xgb\":xgb_preds, \"lasso\":lasso_preds})\n",
        "predictions.plot(x = \"xgb\", y = \"lasso\", kind = \"scatter\")"
      ],
      "metadata": {
        "colab": {
          "base_uri": "https://localhost:8080/",
          "height": 415
        },
        "id": "Og0RyZYLAlHG",
        "outputId": "dde887d2-c255-44de-b7b6-490bfd658796"
      },
      "execution_count": 37,
      "outputs": [
        {
          "output_type": "execute_result",
          "data": {
            "text/plain": [
              "<matplotlib.axes._subplots.AxesSubplot at 0x7fa2cfce1410>"
            ]
          },
          "metadata": {},
          "execution_count": 37
        },
        {
          "output_type": "display_data",
          "data": {
            "text/plain": [
              "<Figure size 432x432 with 1 Axes>"
            ],
            "image/png": "[encoded data removed]"
          },
          "metadata": {
            "image/png": {
              "width": 399,
              "height": 381
            },
            "needs_background": "light"
          }
        }
      ]
    },
    {
      "cell_type": "code",
      "source": [
        "combined_preds = 0.7*lasso_preds + 0.3*xgb_preds"
      ],
      "metadata": {
        "id": "5oHjFK6hAqoG"
      },
      "execution_count": 39,
      "outputs": []
    },
    {
      "cell_type": "code",
      "source": [
        "solution = pd.DataFrame({\"Nome\":dev.nome, \"Votos\":combined_preds})\n",
        "solution"
      ],
      "metadata": {
        "id": "QjAJiNUxAwUm",
        "colab": {
          "base_uri": "https://localhost:8080/",
          "height": 424
        },
        "outputId": "f2ac1c91-ae2b-4c0e-a666-95018e9a5ed2"
      },
      "execution_count": 40,
      "outputs": [
        {
          "output_type": "execute_result",
          "data": {
            "text/plain": [
              "                                   Nome         Votos\n",
              "6027           MARCO ANTONIO DOS SANTOS    947.503649\n",
              "6015                 SERGIO IVAN MORAES  98863.844576\n",
              "6014                SERGIO GLENI ORASMO   5280.269303\n",
              "6013       RONALDO NOGUEIRA DE OLIVEIRA  18719.158641\n",
              "6011                  PAULO RENATO PULZ   2219.837913\n",
              "...                                 ...           ...\n",
              "4706            JÚLIO CARLOS GASPARETTE  35754.872488\n",
              "4707  SOLANGE VITÓRIA LOURENÇO OLIVEIRA   1772.381200\n",
              "4708            MAIRA DOS SANTOS CARLOS    712.274292\n",
              "4710    PAULO CESAR FERREIRA DOS SANTOS  26355.003514\n",
              "7329                LEONAM XAVIER GOMES   3238.722276\n",
              "\n",
              "[3942 rows x 2 columns]"
            ],
            "text/html": [
              "\n",
              "  <div id=\"df-f698933c-6e15-4ef4-9f43-ad82c7e3709f\">\n",
              "    <div class=\"colab-df-container\">\n",
              "      <div>\n",
              "<style scoped>\n",
              "    .dataframe tbody tr th:only-of-type {\n",
              "        vertical-align: middle;\n",
              "    }\n",
              "\n",
              "    .dataframe tbody tr th {\n",
              "        vertical-align: top;\n",
              "    }\n",
              "\n",
              "    .dataframe thead th {\n",
              "        text-align: right;\n",
              "    }\n",
              "</style>\n",
              "<table border=\"1\" class=\"dataframe\">\n",
              "  <thead>\n",
              "    <tr style=\"text-align: right;\">\n",
              "      <th></th>\n",
              "      <th>Nome</th>\n",
              "      <th>Votos</th>\n",
              "    </tr>\n",
              "  </thead>\n",
              "  <tbody>\n",
              "    <tr>\n",
              "      <th>6027</th>\n",
              "      <td>MARCO ANTONIO DOS SANTOS</td>\n",
              "      <td>947.503649</td>\n",
              "    </tr>\n",
              "    <tr>\n",
              "      <th>6015</th>\n",
              "      <td>SERGIO IVAN MORAES</td>\n",
              "      <td>98863.844576</td>\n",
              "    </tr>\n",
              "    <tr>\n",
              "      <th>6014</th>\n",
              "      <td>SERGIO GLENI ORASMO</td>\n",
              "      <td>5280.269303</td>\n",
              "    </tr>\n",
              "    <tr>\n",
              "      <th>6013</th>\n",
              "      <td>RONALDO NOGUEIRA DE OLIVEIRA</td>\n",
              "      <td>18719.158641</td>\n",
              "    </tr>\n",
              "    <tr>\n",
              "      <th>6011</th>\n",
              "      <td>PAULO RENATO PULZ</td>\n",
              "      <td>2219.837913</td>\n",
              "    </tr>\n",
              "    <tr>\n",
              "      <th>...</th>\n",
              "      <td>...</td>\n",
              "      <td>...</td>\n",
              "    </tr>\n",
              "    <tr>\n",
              "      <th>4706</th>\n",
              "      <td>JÚLIO CARLOS GASPARETTE</td>\n",
              "      <td>35754.872488</td>\n",
              "    </tr>\n",
              "    <tr>\n",
              "      <th>4707</th>\n",
              "      <td>SOLANGE VITÓRIA LOURENÇO OLIVEIRA</td>\n",
              "      <td>1772.381200</td>\n",
              "    </tr>\n",
              "    <tr>\n",
              "      <th>4708</th>\n",
              "      <td>MAIRA DOS SANTOS CARLOS</td>\n",
              "      <td>712.274292</td>\n",
              "    </tr>\n",
              "    <tr>\n",
              "      <th>4710</th>\n",
              "      <td>PAULO CESAR FERREIRA DOS SANTOS</td>\n",
              "      <td>26355.003514</td>\n",
              "    </tr>\n",
              "    <tr>\n",
              "      <th>7329</th>\n",
              "      <td>LEONAM XAVIER GOMES</td>\n",
              "      <td>3238.722276</td>\n",
              "    </tr>\n",
              "  </tbody>\n",
              "</table>\n",
              "<p>3942 rows × 2 columns</p>\n",
              "</div>\n",
              "      <button class=\"colab-df-convert\" onclick=\"convertToInteractive('df-f698933c-6e15-4ef4-9f43-ad82c7e3709f')\"\n",
              "              title=\"Convert this dataframe to an interactive table.\"\n",
              "              style=\"display:none;\">\n",
              "        \n",
              "  <svg xmlns=\"http://www.w3.org/2000/svg\" height=\"24px\"viewBox=\"0 0 24 24\"\n",
              "       width=\"24px\">\n",
              "    <path d=\"M0 0h24v24H0V0z\" fill=\"none\"/>\n",
              "    <path d=\"M18.56 5.44l.94 2.06.94-2.06 2.06-.94-2.06-.94-.94-2.06-.94 2.06-2.06.94zm-11 1L8.5 8.5l.94-2.06 2.06-.94-2.06-.94L8.5 2.5l-.94 2.06-2.06.94zm10 10l.94 2.06.94-2.06 2.06-.94-2.06-.94-.94-2.06-.94 2.06-2.06.94z\"/><path d=\"M17.41 7.96l-1.37-1.37c-.4-.4-.92-.59-1.43-.59-.52 0-1.04.2-1.43.59L10.3 9.45l-7.72 7.72c-.78.78-.78 2.05 0 2.83L4 21.41c.39.39.9.59 1.41.59.51 0 1.02-.2 1.41-.59l7.78-7.78 2.81-2.81c.8-.78.8-2.07 0-2.86zM5.41 20L4 18.59l7.72-7.72 1.47 1.35L5.41 20z\"/>\n",
              "  </svg>\n",
              "      </button>\n",
              "      \n",
              "  <style>\n",
              "    .colab-df-container {\n",
              "      display:flex;\n",
              "      flex-wrap:wrap;\n",
              "      gap: 12px;\n",
              "    }\n",
              "\n",
              "    .colab-df-convert {\n",
              "      background-color: #E8F0FE;\n",
              "      border: none;\n",
              "      border-radius: 50%;\n",
              "      cursor: pointer;\n",
              "      display: none;\n",
              "      fill: #1967D2;\n",
              "      height: 32px;\n",
              "      padding: 0 0 0 0;\n",
              "      width: 32px;\n",
              "    }\n",
              "\n",
              "    .colab-df-convert:hover {\n",
              "      background-color: #E2EBFA;\n",
              "      box-shadow: 0px 1px 2px rgba(60, 64, 67, 0.3), 0px 1px 3px 1px rgba(60, 64, 67, 0.15);\n",
              "      fill: #174EA6;\n",
              "    }\n",
              "\n",
              "    [theme=dark] .colab-df-convert {\n",
              "      background-color: #3B4455;\n",
              "      fill: #D2E3FC;\n",
              "    }\n",
              "\n",
              "    [theme=dark] .colab-df-convert:hover {\n",
              "      background-color: #434B5C;\n",
              "      box-shadow: 0px 1px 3px 1px rgba(0, 0, 0, 0.15);\n",
              "      filter: drop-shadow(0px 1px 2px rgba(0, 0, 0, 0.3));\n",
              "      fill: #FFFFFF;\n",
              "    }\n",
              "  </style>\n",
              "\n",
              "      <script>\n",
              "        const buttonEl =\n",
              "          document.querySelector('#df-f698933c-6e15-4ef4-9f43-ad82c7e3709f button.colab-df-convert');\n",
              "        buttonEl.style.display =\n",
              "          google.colab.kernel.accessAllowed ? 'block' : 'none';\n",
              "\n",
              "        async function convertToInteractive(key) {\n",
              "          const element = document.querySelector('#df-f698933c-6e15-4ef4-9f43-ad82c7e3709f');\n",
              "          const dataTable =\n",
              "            await google.colab.kernel.invokeFunction('convertToInteractive',\n",
              "                                                     [key], {});\n",
              "          if (!dataTable) return;\n",
              "\n",
              "          const docLinkHtml = 'Like what you see? Visit the ' +\n",
              "            '<a target=\"_blank\" href=https://colab.research.google.com/notebooks/data_table.ipynb>data table notebook</a>'\n",
              "            + ' to learn more about interactive tables.';\n",
              "          element.innerHTML = '';\n",
              "          dataTable['output_type'] = 'display_data';\n",
              "          await google.colab.output.renderOutput(dataTable, element);\n",
              "          const docLink = document.createElement('div');\n",
              "          docLink.innerHTML = docLinkHtml;\n",
              "          element.appendChild(docLink);\n",
              "        }\n",
              "      </script>\n",
              "    </div>\n",
              "  </div>\n",
              "  "
            ]
          },
          "metadata": {},
          "execution_count": 40
        }
      ]
    },
    {
      "cell_type": "code",
      "source": [
        "rmses = { \"RMSE for xgboost\":rmse_cv(model_xgb, crossval = True).mean(), \"RMSE for Lasso\":rmse_cv(model_lasso, crossval = True).mean(), \"RMSE for Ridge\":rmse_cv(model_ridge, crossval = True).mean() }"
      ],
      "metadata": {
        "colab": {
          "base_uri": "https://localhost:8080/"
        },
        "id": "BptEi7eIBZam",
        "outputId": "9a489477-be23-49f0-9953-40b4e6e0f93f"
      },
      "execution_count": 41,
      "outputs": [
        {
          "output_type": "stream",
          "name": "stdout",
          "text": [
            "[15:12:29] WARNING: /workspace/src/objective/regression_obj.cu:152: reg:linear is now deprecated in favor of reg:squarederror.\n",
            "[15:12:33] WARNING: /workspace/src/objective/regression_obj.cu:152: reg:linear is now deprecated in favor of reg:squarederror.\n",
            "[15:12:37] WARNING: /workspace/src/objective/regression_obj.cu:152: reg:linear is now deprecated in favor of reg:squarederror.\n",
            "[15:12:41] WARNING: /workspace/src/objective/regression_obj.cu:152: reg:linear is now deprecated in favor of reg:squarederror.\n",
            "[15:12:46] WARNING: /workspace/src/objective/regression_obj.cu:152: reg:linear is now deprecated in favor of reg:squarederror.\n",
            "[15:12:50] WARNING: /workspace/src/objective/regression_obj.cu:152: reg:linear is now deprecated in favor of reg:squarederror.\n",
            "[15:12:55] WARNING: /workspace/src/objective/regression_obj.cu:152: reg:linear is now deprecated in favor of reg:squarederror.\n",
            "[15:13:00] WARNING: /workspace/src/objective/regression_obj.cu:152: reg:linear is now deprecated in favor of reg:squarederror.\n",
            "[15:13:05] WARNING: /workspace/src/objective/regression_obj.cu:152: reg:linear is now deprecated in favor of reg:squarederror.\n",
            "[15:13:10] WARNING: /workspace/src/objective/regression_obj.cu:152: reg:linear is now deprecated in favor of reg:squarederror.\n"
          ]
        },
        {
          "output_type": "stream",
          "name": "stderr",
          "text": [
            "/usr/local/lib/python3.7/dist-packages/sklearn/linear_model/_coordinate_descent.py:644: ConvergenceWarning: Objective did not converge. You might want to increase the number of iterations. Duality gap: 79.58927702274241, tolerance: 0.8050450483974277\n",
            "  positive,\n",
            "/usr/local/lib/python3.7/dist-packages/sklearn/linear_model/_coordinate_descent.py:644: ConvergenceWarning: Objective did not converge. You might want to increase the number of iterations. Duality gap: 76.01091492403884, tolerance: 0.8050450483974277\n",
            "  positive,\n",
            "/usr/local/lib/python3.7/dist-packages/sklearn/linear_model/_coordinate_descent.py:644: ConvergenceWarning: Objective did not converge. You might want to increase the number of iterations. Duality gap: 23.36548829116623, tolerance: 0.8266577870016394\n",
            "  positive,\n",
            "/usr/local/lib/python3.7/dist-packages/sklearn/linear_model/_coordinate_descent.py:644: ConvergenceWarning: Objective did not converge. You might want to increase the number of iterations. Duality gap: 57.203562217004446, tolerance: 0.8266577870016394\n",
            "  positive,\n",
            "/usr/local/lib/python3.7/dist-packages/sklearn/linear_model/_coordinate_descent.py:644: ConvergenceWarning: Objective did not converge. You might want to increase the number of iterations. Duality gap: 99.2029151974516, tolerance: 0.8031581079766971\n",
            "  positive,\n",
            "/usr/local/lib/python3.7/dist-packages/sklearn/linear_model/_coordinate_descent.py:644: ConvergenceWarning: Objective did not converge. You might want to increase the number of iterations. Duality gap: 66.6224455714314, tolerance: 0.8031581079766971\n",
            "  positive,\n",
            "/usr/local/lib/python3.7/dist-packages/sklearn/linear_model/_coordinate_descent.py:644: ConvergenceWarning: Objective did not converge. You might want to increase the number of iterations. Duality gap: 83.37661748598384, tolerance: 0.8035135542033145\n",
            "  positive,\n",
            "/usr/local/lib/python3.7/dist-packages/sklearn/linear_model/_coordinate_descent.py:644: ConvergenceWarning: Objective did not converge. You might want to increase the number of iterations. Duality gap: 67.90372497716453, tolerance: 0.8035135542033145\n",
            "  positive,\n",
            "/usr/local/lib/python3.7/dist-packages/sklearn/linear_model/_coordinate_descent.py:644: ConvergenceWarning: Objective did not converge. You might want to increase the number of iterations. Duality gap: 77.36901691296316, tolerance: 0.7805449633968325\n",
            "  positive,\n",
            "/usr/local/lib/python3.7/dist-packages/sklearn/linear_model/_coordinate_descent.py:644: ConvergenceWarning: Objective did not converge. You might want to increase the number of iterations. Duality gap: 60.03393840088802, tolerance: 0.7805449633968325\n",
            "  positive,\n",
            "/usr/local/lib/python3.7/dist-packages/sklearn/linear_model/_coordinate_descent.py:648: ConvergenceWarning: Objective did not converge. You might want to increase the number of iterations, check the scale of the features or consider increasing regularisation. Duality gap: 4.430e+01, tolerance: 1.007e+00\n",
            "  coef_, l1_reg, l2_reg, X, y, max_iter, tol, rng, random, positive\n",
            "/usr/local/lib/python3.7/dist-packages/sklearn/linear_model/_coordinate_descent.py:644: ConvergenceWarning: Objective did not converge. You might want to increase the number of iterations. Duality gap: 141.9294319724538, tolerance: 0.8069700656592057\n",
            "  positive,\n",
            "/usr/local/lib/python3.7/dist-packages/sklearn/linear_model/_coordinate_descent.py:644: ConvergenceWarning: Objective did not converge. You might want to increase the number of iterations. Duality gap: 105.07236059524485, tolerance: 0.8069700656592057\n",
            "  positive,\n",
            "/usr/local/lib/python3.7/dist-packages/sklearn/linear_model/_coordinate_descent.py:644: ConvergenceWarning: Objective did not converge. You might want to increase the number of iterations. Duality gap: 75.22143033716998, tolerance: 0.8030849720005881\n",
            "  positive,\n",
            "/usr/local/lib/python3.7/dist-packages/sklearn/linear_model/_coordinate_descent.py:644: ConvergenceWarning: Objective did not converge. You might want to increase the number of iterations. Duality gap: 92.30687872569524, tolerance: 0.8030849720005881\n",
            "  positive,\n",
            "/usr/local/lib/python3.7/dist-packages/sklearn/linear_model/_coordinate_descent.py:644: ConvergenceWarning: Objective did not converge. You might want to increase the number of iterations. Duality gap: 173.1213142527315, tolerance: 0.7808299007829412\n",
            "  positive,\n",
            "/usr/local/lib/python3.7/dist-packages/sklearn/linear_model/_coordinate_descent.py:644: ConvergenceWarning: Objective did not converge. You might want to increase the number of iterations. Duality gap: 100.79775452841886, tolerance: 0.7808299007829412\n",
            "  positive,\n",
            "/usr/local/lib/python3.7/dist-packages/sklearn/linear_model/_coordinate_descent.py:644: ConvergenceWarning: Objective did not converge. You might want to increase the number of iterations. Duality gap: 176.17415163290434, tolerance: 0.7811586008915562\n",
            "  positive,\n",
            "/usr/local/lib/python3.7/dist-packages/sklearn/linear_model/_coordinate_descent.py:644: ConvergenceWarning: Objective did not converge. You might want to increase the number of iterations. Duality gap: 112.1558655877991, tolerance: 0.7811586008915562\n",
            "  positive,\n",
            "/usr/local/lib/python3.7/dist-packages/sklearn/linear_model/_coordinate_descent.py:644: ConvergenceWarning: Objective did not converge. You might want to increase the number of iterations. Duality gap: 155.477406853832, tolerance: 0.7581381758847426\n",
            "  positive,\n",
            "/usr/local/lib/python3.7/dist-packages/sklearn/linear_model/_coordinate_descent.py:644: ConvergenceWarning: Objective did not converge. You might want to increase the number of iterations. Duality gap: 100.39560334816997, tolerance: 0.7581381758847426\n",
            "  positive,\n",
            "/usr/local/lib/python3.7/dist-packages/sklearn/linear_model/_coordinate_descent.py:648: ConvergenceWarning: Objective did not converge. You might want to increase the number of iterations, check the scale of the features or consider increasing regularisation. Duality gap: 1.243e+02, tolerance: 9.843e-01\n",
            "  coef_, l1_reg, l2_reg, X, y, max_iter, tol, rng, random, positive\n",
            "/usr/local/lib/python3.7/dist-packages/sklearn/linear_model/_coordinate_descent.py:644: ConvergenceWarning: Objective did not converge. You might want to increase the number of iterations. Duality gap: 21.021993063988702, tolerance: 0.8213894998331606\n",
            "  positive,\n",
            "/usr/local/lib/python3.7/dist-packages/sklearn/linear_model/_coordinate_descent.py:644: ConvergenceWarning: Objective did not converge. You might want to increase the number of iterations. Duality gap: 53.62145836557147, tolerance: 0.8213894998331606\n",
            "  positive,\n",
            "/usr/local/lib/python3.7/dist-packages/sklearn/linear_model/_coordinate_descent.py:644: ConvergenceWarning: Objective did not converge. You might want to increase the number of iterations. Duality gap: 44.31958444560951, tolerance: 0.7955753479435382\n",
            "  positive,\n",
            "/usr/local/lib/python3.7/dist-packages/sklearn/linear_model/_coordinate_descent.py:644: ConvergenceWarning: Objective did not converge. You might want to increase the number of iterations. Duality gap: 78.86669128317271, tolerance: 0.7955753479435382\n",
            "  positive,\n",
            "/usr/local/lib/python3.7/dist-packages/sklearn/linear_model/_coordinate_descent.py:644: ConvergenceWarning: Objective did not converge. You might want to increase the number of iterations. Duality gap: 102.30246935896685, tolerance: 0.8053400161635176\n",
            "  positive,\n",
            "/usr/local/lib/python3.7/dist-packages/sklearn/linear_model/_coordinate_descent.py:644: ConvergenceWarning: Objective did not converge. You might want to increase the number of iterations. Duality gap: 78.6213249325724, tolerance: 0.8053400161635176\n",
            "  positive,\n",
            "/usr/local/lib/python3.7/dist-packages/sklearn/linear_model/_coordinate_descent.py:644: ConvergenceWarning: Objective did not converge. You might want to increase the number of iterations. Duality gap: 86.20396690333041, tolerance: 0.7957741515416275\n",
            "  positive,\n",
            "/usr/local/lib/python3.7/dist-packages/sklearn/linear_model/_coordinate_descent.py:644: ConvergenceWarning: Objective did not converge. You might want to increase the number of iterations. Duality gap: 74.3523538135089, tolerance: 0.7957741515416275\n",
            "  positive,\n",
            "/usr/local/lib/python3.7/dist-packages/sklearn/linear_model/_coordinate_descent.py:644: ConvergenceWarning: Objective did not converge. You might want to increase the number of iterations. Duality gap: 91.9776534638554, tolerance: 0.7728122777866773\n",
            "  positive,\n",
            "/usr/local/lib/python3.7/dist-packages/sklearn/linear_model/_coordinate_descent.py:644: ConvergenceWarning: Objective did not converge. You might want to increase the number of iterations. Duality gap: 70.90366014443134, tolerance: 0.7728122777866773\n",
            "  positive,\n",
            "/usr/local/lib/python3.7/dist-packages/sklearn/linear_model/_coordinate_descent.py:648: ConvergenceWarning: Objective did not converge. You might want to increase the number of iterations, check the scale of the features or consider increasing regularisation. Duality gap: 4.448e+01, tolerance: 9.989e-01\n",
            "  coef_, l1_reg, l2_reg, X, y, max_iter, tol, rng, random, positive\n",
            "/usr/local/lib/python3.7/dist-packages/sklearn/linear_model/_coordinate_descent.py:644: ConvergenceWarning: Objective did not converge. You might want to increase the number of iterations. Duality gap: 116.27451225532968, tolerance: 0.822061904707151\n",
            "  positive,\n",
            "/usr/local/lib/python3.7/dist-packages/sklearn/linear_model/_coordinate_descent.py:644: ConvergenceWarning: Objective did not converge. You might want to increase the number of iterations. Duality gap: 74.52939586654384, tolerance: 0.822061904707151\n",
            "  positive,\n",
            "/usr/local/lib/python3.7/dist-packages/sklearn/linear_model/_coordinate_descent.py:644: ConvergenceWarning: Objective did not converge. You might want to increase the number of iterations. Duality gap: 132.78008068936106, tolerance: 0.7966103356246483\n",
            "  positive,\n",
            "/usr/local/lib/python3.7/dist-packages/sklearn/linear_model/_coordinate_descent.py:644: ConvergenceWarning: Objective did not converge. You might want to increase the number of iterations. Duality gap: 78.73499832474204, tolerance: 0.7966103356246483\n",
            "  positive,\n",
            "/usr/local/lib/python3.7/dist-packages/sklearn/linear_model/_coordinate_descent.py:644: ConvergenceWarning: Objective did not converge. You might want to increase the number of iterations. Duality gap: 145.71456531471722, tolerance: 0.8235654589757849\n",
            "  positive,\n",
            "/usr/local/lib/python3.7/dist-packages/sklearn/linear_model/_coordinate_descent.py:644: ConvergenceWarning: Objective did not converge. You might want to increase the number of iterations. Duality gap: 85.10329617619936, tolerance: 0.8235654589757849\n",
            "  positive,\n",
            "/usr/local/lib/python3.7/dist-packages/sklearn/linear_model/_coordinate_descent.py:644: ConvergenceWarning: Objective did not converge. You might want to increase the number of iterations. Duality gap: 117.2560346939299, tolerance: 0.7752047266919616\n",
            "  positive,\n",
            "/usr/local/lib/python3.7/dist-packages/sklearn/linear_model/_coordinate_descent.py:644: ConvergenceWarning: Objective did not converge. You might want to increase the number of iterations. Duality gap: 74.00957768459284, tolerance: 0.7752047266919616\n",
            "  positive,\n",
            "/usr/local/lib/python3.7/dist-packages/sklearn/linear_model/_coordinate_descent.py:644: ConvergenceWarning: Objective did not converge. You might want to increase the number of iterations. Duality gap: 136.62172168668508, tolerance: 0.7635961889634733\n",
            "  positive,\n",
            "/usr/local/lib/python3.7/dist-packages/sklearn/linear_model/_coordinate_descent.py:644: ConvergenceWarning: Objective did not converge. You might want to increase the number of iterations. Duality gap: 69.3606431674159, tolerance: 0.7635961889634733\n",
            "  positive,\n",
            "/usr/local/lib/python3.7/dist-packages/sklearn/linear_model/_coordinate_descent.py:648: ConvergenceWarning: Objective did not converge. You might want to increase the number of iterations, check the scale of the features or consider increasing regularisation. Duality gap: 1.081e+02, tolerance: 9.966e-01\n",
            "  coef_, l1_reg, l2_reg, X, y, max_iter, tol, rng, random, positive\n",
            "/usr/local/lib/python3.7/dist-packages/sklearn/linear_model/_coordinate_descent.py:644: ConvergenceWarning: Objective did not converge. You might want to increase the number of iterations. Duality gap: 107.55791681403844, tolerance: 0.7724612863562068\n",
            "  positive,\n",
            "/usr/local/lib/python3.7/dist-packages/sklearn/linear_model/_coordinate_descent.py:644: ConvergenceWarning: Objective did not converge. You might want to increase the number of iterations. Duality gap: 65.33626488712844, tolerance: 0.7724612863562068\n",
            "  positive,\n",
            "/usr/local/lib/python3.7/dist-packages/sklearn/linear_model/_coordinate_descent.py:644: ConvergenceWarning: Objective did not converge. You might want to increase the number of iterations. Duality gap: 127.21886233089572, tolerance: 0.7467634147629735\n",
            "  positive,\n",
            "/usr/local/lib/python3.7/dist-packages/sklearn/linear_model/_coordinate_descent.py:644: ConvergenceWarning: Objective did not converge. You might want to increase the number of iterations. Duality gap: 89.08532573306456, tolerance: 0.7467634147629735\n",
            "  positive,\n",
            "/usr/local/lib/python3.7/dist-packages/sklearn/linear_model/_coordinate_descent.py:644: ConvergenceWarning: Objective did not converge. You might want to increase the number of iterations. Duality gap: 143.01871541575247, tolerance: 0.7746298406046723\n",
            "  positive,\n",
            "/usr/local/lib/python3.7/dist-packages/sklearn/linear_model/_coordinate_descent.py:644: ConvergenceWarning: Objective did not converge. You might want to increase the number of iterations. Duality gap: 90.6825784184623, tolerance: 0.7746298406046723\n",
            "  positive,\n",
            "/usr/local/lib/python3.7/dist-packages/sklearn/linear_model/_coordinate_descent.py:644: ConvergenceWarning: Objective did not converge. You might want to increase the number of iterations. Duality gap: 97.86229608916028, tolerance: 0.7394503187388187\n",
            "  positive,\n",
            "/usr/local/lib/python3.7/dist-packages/sklearn/linear_model/_coordinate_descent.py:644: ConvergenceWarning: Objective did not converge. You might want to increase the number of iterations. Duality gap: 77.07113943422837, tolerance: 0.7394503187388187\n",
            "  positive,\n",
            "/usr/local/lib/python3.7/dist-packages/sklearn/linear_model/_coordinate_descent.py:644: ConvergenceWarning: Objective did not converge. You might want to increase the number of iterations. Duality gap: 137.76595477320961, tolerance: 0.7486807283918052\n",
            "  positive,\n",
            "/usr/local/lib/python3.7/dist-packages/sklearn/linear_model/_coordinate_descent.py:644: ConvergenceWarning: Objective did not converge. You might want to increase the number of iterations. Duality gap: 64.5468976693196, tolerance: 0.7486807283918052\n",
            "  positive,\n",
            "/usr/local/lib/python3.7/dist-packages/sklearn/linear_model/_coordinate_descent.py:648: ConvergenceWarning: Objective did not converge. You might want to increase the number of iterations, check the scale of the features or consider increasing regularisation. Duality gap: 1.022e+02, tolerance: 9.464e-01\n",
            "  coef_, l1_reg, l2_reg, X, y, max_iter, tol, rng, random, positive\n",
            "/usr/local/lib/python3.7/dist-packages/sklearn/linear_model/_coordinate_descent.py:644: ConvergenceWarning: Objective did not converge. You might want to increase the number of iterations. Duality gap: 45.499602445324854, tolerance: 1.089594165696847\n",
            "  positive,\n",
            "/usr/local/lib/python3.7/dist-packages/sklearn/linear_model/_coordinate_descent.py:644: ConvergenceWarning: Objective did not converge. You might want to increase the number of iterations. Duality gap: 40.645142601459156, tolerance: 1.089594165696847\n",
            "  positive,\n",
            "/usr/local/lib/python3.7/dist-packages/sklearn/linear_model/_coordinate_descent.py:644: ConvergenceWarning: Objective did not converge. You might want to increase the number of iterations. Duality gap: 28.307478999432533, tolerance: 1.0573763082355032\n",
            "  positive,\n",
            "/usr/local/lib/python3.7/dist-packages/sklearn/linear_model/_coordinate_descent.py:644: ConvergenceWarning: Objective did not converge. You might want to increase the number of iterations. Duality gap: 20.34714031134672, tolerance: 1.0573763082355032\n",
            "  positive,\n",
            "/usr/local/lib/python3.7/dist-packages/sklearn/linear_model/_coordinate_descent.py:644: ConvergenceWarning: Objective did not converge. You might want to increase the number of iterations. Duality gap: 45.5397937904595, tolerance: 1.099985375530629\n",
            "  positive,\n",
            "/usr/local/lib/python3.7/dist-packages/sklearn/linear_model/_coordinate_descent.py:644: ConvergenceWarning: Objective did not converge. You might want to increase the number of iterations. Duality gap: 29.9451048614485, tolerance: 1.099985375530629\n",
            "  positive,\n",
            "/usr/local/lib/python3.7/dist-packages/sklearn/linear_model/_coordinate_descent.py:644: ConvergenceWarning: Objective did not converge. You might want to increase the number of iterations. Duality gap: 130.64566268638623, tolerance: 1.0495583556507198\n",
            "  positive,\n",
            "/usr/local/lib/python3.7/dist-packages/sklearn/linear_model/_coordinate_descent.py:644: ConvergenceWarning: Objective did not converge. You might want to increase the number of iterations. Duality gap: 96.06397311752835, tolerance: 1.0495583556507198\n",
            "  positive,\n",
            "/usr/local/lib/python3.7/dist-packages/sklearn/linear_model/_coordinate_descent.py:644: ConvergenceWarning: Objective did not converge. You might want to increase the number of iterations. Duality gap: 151.65646908522444, tolerance: 1.0626109124540866\n",
            "  positive,\n",
            "/usr/local/lib/python3.7/dist-packages/sklearn/linear_model/_coordinate_descent.py:644: ConvergenceWarning: Objective did not converge. You might want to increase the number of iterations. Duality gap: 144.1591933428051, tolerance: 1.0626109124540866\n",
            "  positive,\n",
            "/usr/local/lib/python3.7/dist-packages/sklearn/linear_model/_coordinate_descent.py:648: ConvergenceWarning: Objective did not converge. You might want to increase the number of iterations, check the scale of the features or consider increasing regularisation. Duality gap: 6.280e+01, tolerance: 1.341e+00\n",
            "  coef_, l1_reg, l2_reg, X, y, max_iter, tol, rng, random, positive\n",
            "/usr/local/lib/python3.7/dist-packages/sklearn/linear_model/_coordinate_descent.py:644: ConvergenceWarning: Objective did not converge. You might want to increase the number of iterations. Duality gap: 71.58095021520194, tolerance: 1.0829542867797546\n",
            "  positive,\n",
            "/usr/local/lib/python3.7/dist-packages/sklearn/linear_model/_coordinate_descent.py:644: ConvergenceWarning: Objective did not converge. You might want to increase the number of iterations. Duality gap: 48.245327460309454, tolerance: 1.0829542867797546\n",
            "  positive,\n",
            "/usr/local/lib/python3.7/dist-packages/sklearn/linear_model/_coordinate_descent.py:644: ConvergenceWarning: Objective did not converge. You might want to increase the number of iterations. Duality gap: 37.67433654990168, tolerance: 1.0393030368874157\n",
            "  positive,\n",
            "/usr/local/lib/python3.7/dist-packages/sklearn/linear_model/_coordinate_descent.py:644: ConvergenceWarning: Objective did not converge. You might want to increase the number of iterations. Duality gap: 20.502455773188103, tolerance: 1.0393030368874157\n",
            "  positive,\n",
            "/usr/local/lib/python3.7/dist-packages/sklearn/linear_model/_coordinate_descent.py:644: ConvergenceWarning: Objective did not converge. You might want to increase the number of iterations. Duality gap: 75.39752953572884, tolerance: 1.0788246530195216\n",
            "  positive,\n",
            "/usr/local/lib/python3.7/dist-packages/sklearn/linear_model/_coordinate_descent.py:644: ConvergenceWarning: Objective did not converge. You might want to increase the number of iterations. Duality gap: 36.88800975789081, tolerance: 1.0788246530195216\n",
            "  positive,\n",
            "/usr/local/lib/python3.7/dist-packages/sklearn/linear_model/_coordinate_descent.py:644: ConvergenceWarning: Objective did not converge. You might want to increase the number of iterations. Duality gap: 33.92022850726721, tolerance: 1.0284506518945304\n",
            "  positive,\n",
            "/usr/local/lib/python3.7/dist-packages/sklearn/linear_model/_coordinate_descent.py:644: ConvergenceWarning: Objective did not converge. You might want to increase the number of iterations. Duality gap: 43.06014870020704, tolerance: 1.0284506518945304\n",
            "  positive,\n",
            "/usr/local/lib/python3.7/dist-packages/sklearn/linear_model/_coordinate_descent.py:644: ConvergenceWarning: Objective did not converge. You might want to increase the number of iterations. Duality gap: 80.41871419693894, tolerance: 1.0410103940882887\n",
            "  positive,\n",
            "/usr/local/lib/python3.7/dist-packages/sklearn/linear_model/_coordinate_descent.py:644: ConvergenceWarning: Objective did not converge. You might want to increase the number of iterations. Duality gap: 76.16095466189381, tolerance: 1.0410103940882887\n",
            "  positive,\n",
            "/usr/local/lib/python3.7/dist-packages/sklearn/linear_model/_coordinate_descent.py:648: ConvergenceWarning: Objective did not converge. You might want to increase the number of iterations, check the scale of the features or consider increasing regularisation. Duality gap: 2.477e+01, tolerance: 1.318e+00\n",
            "  coef_, l1_reg, l2_reg, X, y, max_iter, tol, rng, random, positive\n",
            "/usr/local/lib/python3.7/dist-packages/sklearn/linear_model/_coordinate_descent.py:644: ConvergenceWarning: Objective did not converge. You might want to increase the number of iterations. Duality gap: 99.71493891124464, tolerance: 1.0445621654385415\n",
            "  positive,\n",
            "/usr/local/lib/python3.7/dist-packages/sklearn/linear_model/_coordinate_descent.py:644: ConvergenceWarning: Objective did not converge. You might want to increase the number of iterations. Duality gap: 82.2802618270448, tolerance: 1.0445621654385415\n",
            "  positive,\n",
            "/usr/local/lib/python3.7/dist-packages/sklearn/linear_model/_coordinate_descent.py:644: ConvergenceWarning: Objective did not converge. You might want to increase the number of iterations. Duality gap: 40.44577346460028, tolerance: 1.0503038029525744\n",
            "  positive,\n",
            "/usr/local/lib/python3.7/dist-packages/sklearn/linear_model/_coordinate_descent.py:644: ConvergenceWarning: Objective did not converge. You might want to increase the number of iterations. Duality gap: 12.940615633176549, tolerance: 1.0503038029525744\n",
            "  positive,\n",
            "/usr/local/lib/python3.7/dist-packages/sklearn/linear_model/_coordinate_descent.py:644: ConvergenceWarning: Objective did not converge. You might want to increase the number of iterations. Duality gap: 77.952999423753, tolerance: 1.0317196689442223\n",
            "  positive,\n",
            "/usr/local/lib/python3.7/dist-packages/sklearn/linear_model/_coordinate_descent.py:644: ConvergenceWarning: Objective did not converge. You might want to increase the number of iterations. Duality gap: 42.25106850170664, tolerance: 1.0317196689442223\n",
            "  positive,\n",
            "/usr/local/lib/python3.7/dist-packages/sklearn/linear_model/_coordinate_descent.py:644: ConvergenceWarning: Objective did not converge. You might want to increase the number of iterations. Duality gap: 59.88920506104455, tolerance: 0.9870372788327417\n",
            "  positive,\n",
            "/usr/local/lib/python3.7/dist-packages/sklearn/linear_model/_coordinate_descent.py:644: ConvergenceWarning: Objective did not converge. You might want to increase the number of iterations. Duality gap: 12.634424367570773, tolerance: 0.9870372788327417\n",
            "  positive,\n",
            "/usr/local/lib/python3.7/dist-packages/sklearn/linear_model/_coordinate_descent.py:644: ConvergenceWarning: Objective did not converge. You might want to increase the number of iterations. Duality gap: 80.15446472856866, tolerance: 1.0009071926020578\n",
            "  positive,\n",
            "/usr/local/lib/python3.7/dist-packages/sklearn/linear_model/_coordinate_descent.py:644: ConvergenceWarning: Objective did not converge. You might want to increase the number of iterations. Duality gap: 65.54587669021839, tolerance: 1.0009071926020578\n",
            "  positive,\n",
            "/usr/local/lib/python3.7/dist-packages/sklearn/linear_model/_coordinate_descent.py:648: ConvergenceWarning: Objective did not converge. You might want to increase the number of iterations, check the scale of the features or consider increasing regularisation. Duality gap: 4.634e+01, tolerance: 1.280e+00\n",
            "  coef_, l1_reg, l2_reg, X, y, max_iter, tol, rng, random, positive\n",
            "/usr/local/lib/python3.7/dist-packages/sklearn/linear_model/_coordinate_descent.py:644: ConvergenceWarning: Objective did not converge. You might want to increase the number of iterations. Duality gap: 56.11916477984096, tolerance: 1.030590209425878\n",
            "  positive,\n",
            "/usr/local/lib/python3.7/dist-packages/sklearn/linear_model/_coordinate_descent.py:644: ConvergenceWarning: Objective did not converge. You might want to increase the number of iterations. Duality gap: 17.51595633090028, tolerance: 1.030590209425878\n",
            "  positive,\n",
            "/usr/local/lib/python3.7/dist-packages/sklearn/linear_model/_coordinate_descent.py:644: ConvergenceWarning: Objective did not converge. You might want to increase the number of iterations. Duality gap: 97.66521106077107, tolerance: 1.0419423479200436\n",
            "  positive,\n",
            "/usr/local/lib/python3.7/dist-packages/sklearn/linear_model/_coordinate_descent.py:644: ConvergenceWarning: Objective did not converge. You might want to increase the number of iterations. Duality gap: 119.2442217578041, tolerance: 1.0419423479200436\n",
            "  positive,\n",
            "/usr/local/lib/python3.7/dist-packages/sklearn/linear_model/_coordinate_descent.py:644: ConvergenceWarning: Objective did not converge. You might want to increase the number of iterations. Duality gap: 25.36135379040479, tolerance: 0.9796517192639287\n",
            "  positive,\n",
            "/usr/local/lib/python3.7/dist-packages/sklearn/linear_model/_coordinate_descent.py:644: ConvergenceWarning: Objective did not converge. You might want to increase the number of iterations. Duality gap: 26.332158573567995, tolerance: 0.9796517192639287\n",
            "  positive,\n",
            "/usr/local/lib/python3.7/dist-packages/sklearn/linear_model/_coordinate_descent.py:644: ConvergenceWarning: Objective did not converge. You might want to increase the number of iterations. Duality gap: 82.88523930038014, tolerance: 1.025103077032227\n",
            "  positive,\n",
            "/usr/local/lib/python3.7/dist-packages/sklearn/linear_model/_coordinate_descent.py:644: ConvergenceWarning: Objective did not converge. You might want to increase the number of iterations. Duality gap: 21.83707724079659, tolerance: 1.025103077032227\n",
            "  positive,\n",
            "/usr/local/lib/python3.7/dist-packages/sklearn/linear_model/_coordinate_descent.py:644: ConvergenceWarning: Objective did not converge. You might want to increase the number of iterations. Duality gap: 158.9762536183771, tolerance: 0.9856404694717799\n",
            "  positive,\n",
            "/usr/local/lib/python3.7/dist-packages/sklearn/linear_model/_coordinate_descent.py:644: ConvergenceWarning: Objective did not converge. You might want to increase the number of iterations. Duality gap: 133.24115391968394, tolerance: 0.9856404694717799\n",
            "  positive,\n",
            "/usr/local/lib/python3.7/dist-packages/sklearn/linear_model/_coordinate_descent.py:648: ConvergenceWarning: Objective did not converge. You might want to increase the number of iterations, check the scale of the features or consider increasing regularisation. Duality gap: 3.205e+01, tolerance: 1.267e+00\n",
            "  coef_, l1_reg, l2_reg, X, y, max_iter, tol, rng, random, positive\n",
            "/usr/local/lib/python3.7/dist-packages/sklearn/linear_model/_coordinate_descent.py:644: ConvergenceWarning: Objective did not converge. You might want to increase the number of iterations. Duality gap: 102.28111353360805, tolerance: 1.0518704892984434\n",
            "  positive,\n",
            "/usr/local/lib/python3.7/dist-packages/sklearn/linear_model/_coordinate_descent.py:644: ConvergenceWarning: Objective did not converge. You might want to increase the number of iterations. Duality gap: 99.41937738499564, tolerance: 1.0518704892984434\n",
            "  positive,\n",
            "/usr/local/lib/python3.7/dist-packages/sklearn/linear_model/_coordinate_descent.py:644: ConvergenceWarning: Objective did not converge. You might want to increase the number of iterations. Duality gap: 182.72527555428178, tolerance: 1.0604978897770363\n",
            "  positive,\n",
            "/usr/local/lib/python3.7/dist-packages/sklearn/linear_model/_coordinate_descent.py:644: ConvergenceWarning: Objective did not converge. You might want to increase the number of iterations. Duality gap: 201.26496807260264, tolerance: 1.0604978897770363\n",
            "  positive,\n",
            "/usr/local/lib/python3.7/dist-packages/sklearn/linear_model/_coordinate_descent.py:644: ConvergenceWarning: Objective did not converge. You might want to increase the number of iterations. Duality gap: 112.79530295871336, tolerance: 0.9999777057593254\n",
            "  positive,\n",
            "/usr/local/lib/python3.7/dist-packages/sklearn/linear_model/_coordinate_descent.py:644: ConvergenceWarning: Objective did not converge. You might want to increase the number of iterations. Duality gap: 130.03139007158484, tolerance: 0.9999777057593254\n",
            "  positive,\n",
            "/usr/local/lib/python3.7/dist-packages/sklearn/linear_model/_coordinate_descent.py:644: ConvergenceWarning: Objective did not converge. You might want to increase the number of iterations. Duality gap: 135.40948801371542, tolerance: 1.035958998264895\n",
            "  positive,\n",
            "/usr/local/lib/python3.7/dist-packages/sklearn/linear_model/_coordinate_descent.py:644: ConvergenceWarning: Objective did not converge. You might want to increase the number of iterations. Duality gap: 118.41812455888385, tolerance: 1.035958998264895\n",
            "  positive,\n",
            "/usr/local/lib/python3.7/dist-packages/sklearn/linear_model/_coordinate_descent.py:644: ConvergenceWarning: Objective did not converge. You might want to increase the number of iterations. Duality gap: 166.7668338264707, tolerance: 0.9962993913324072\n",
            "  positive,\n",
            "/usr/local/lib/python3.7/dist-packages/sklearn/linear_model/_coordinate_descent.py:644: ConvergenceWarning: Objective did not converge. You might want to increase the number of iterations. Duality gap: 125.3684481729997, tolerance: 0.9962993913324072\n",
            "  positive,\n",
            "/usr/local/lib/python3.7/dist-packages/sklearn/linear_model/_coordinate_descent.py:648: ConvergenceWarning: Objective did not converge. You might want to increase the number of iterations, check the scale of the features or consider increasing regularisation. Duality gap: 1.333e+02, tolerance: 1.288e+00\n",
            "  coef_, l1_reg, l2_reg, X, y, max_iter, tol, rng, random, positive\n"
          ]
        }
      ]
    },
    {
      "cell_type": "code",
      "source": [
        "print(rmses)"
      ],
      "metadata": {
        "colab": {
          "base_uri": "https://localhost:8080/"
        },
        "id": "Tj1tokeIM_su",
        "outputId": "c8cec386-eb4a-4095-8c33-20237b582180"
      },
      "execution_count": 42,
      "outputs": [
        {
          "output_type": "stream",
          "name": "stdout",
          "text": [
            "{'RMSE for xgboost': 0.930896812760361, 'RMSE for Lasso': 0.9915663753880686, 'RMSE for Ridge': 0.9920874805255606}\n"
          ]
        }
      ]
    },
    {
      "cell_type": "markdown",
      "source": [
        "Como podemos ver, o melhor modelo foi o XGBOOST"
      ],
      "metadata": {
        "id": "oU1OoSH61hv4"
      }
    },
    {
      "cell_type": "code",
      "source": [
        "#RESIDUALS VS PREDICTIONS FOR LASSO\n",
        "matplotlib.rcParams['figure.figsize'] = (6.0, 6.0)\n",
        "\n",
        "preds = pd.DataFrame({\"preds\":model_lasso.predict(X_train), \"true\":y_train})\n",
        "preds[\"residuals\"] = preds[\"true\"] - preds[\"preds\"]\n",
        "preds.plot(x = \"preds\", y = \"residuals\",kind = \"scatter\")"
      ],
      "metadata": {
        "colab": {
          "base_uri": "https://localhost:8080/",
          "height": 404
        },
        "id": "o7IRm2Q3OC7L",
        "outputId": "65529823-8d58-4ef4-c2a9-0133ba3690c3"
      },
      "execution_count": 45,
      "outputs": [
        {
          "output_type": "execute_result",
          "data": {
            "text/plain": [
              "<matplotlib.axes._subplots.AxesSubplot at 0x7fa2cf203650>"
            ]
          },
          "metadata": {},
          "execution_count": 45
        },
        {
          "output_type": "display_data",
          "data": {
            "text/plain": [
              "<Figure size 432x432 with 1 Axes>"
            ],
            "image/png": "[encoded data removed]"
          },
          "metadata": {
            "image/png": {
              "width": 384,
              "height": 370
            },
            "needs_background": "light"
          }
        }
      ]
    },
    {
      "cell_type": "code",
      "source": [
        "#RESIDUALS VS PREDICTIONS FOR RIDGE\n",
        "matplotlib.rcParams['figure.figsize'] = (6.0, 6.0)\n",
        "\n",
        "preds = pd.DataFrame({\"preds\":model_ridge.predict(X_train), \"true\":y_train})\n",
        "preds[\"residuals\"] = preds[\"true\"] - preds[\"preds\"]\n",
        "preds.plot(x = \"preds\", y = \"residuals\",kind = \"scatter\")"
      ],
      "metadata": {
        "colab": {
          "base_uri": "https://localhost:8080/",
          "height": 404
        },
        "id": "Hbf2JIW9yoH8",
        "outputId": "92a9e933-2dc1-4a3e-9fed-6962e3eae873"
      },
      "execution_count": 46,
      "outputs": [
        {
          "output_type": "execute_result",
          "data": {
            "text/plain": [
              "<matplotlib.axes._subplots.AxesSubplot at 0x7fa2cf167e90>"
            ]
          },
          "metadata": {},
          "execution_count": 46
        },
        {
          "output_type": "display_data",
          "data": {
            "text/plain": [
              "<Figure size 432x432 with 1 Axes>"
            ],
            "image/png": "[encoded data removed]"
          },
          "metadata": {
            "image/png": {
              "width": 384,
              "height": 370
            },
            "needs_background": "light"
          }
        }
      ]
    },
    {
      "cell_type": "code",
      "source": [
        "#RESIDUALS VS PREDICTIONS FOR XGBOOST\n",
        "matplotlib.rcParams['figure.figsize'] = (6.0, 6.0)\n",
        "\n",
        "preds = pd.DataFrame({\"preds\":model_xgb.predict(X_train), \"true\":y_train})\n",
        "preds[\"residuals\"] = preds[\"true\"] - preds[\"preds\"]\n",
        "preds.plot(x = \"preds\", y = \"residuals\",kind = \"scatter\")"
      ],
      "metadata": {
        "colab": {
          "base_uri": "https://localhost:8080/",
          "height": 404
        },
        "id": "96Gz2p_90OQW",
        "outputId": "50ac4d6f-baab-42cd-e780-e30316629dca"
      },
      "execution_count": 47,
      "outputs": [
        {
          "output_type": "execute_result",
          "data": {
            "text/plain": [
              "<matplotlib.axes._subplots.AxesSubplot at 0x7fa2cf152350>"
            ]
          },
          "metadata": {},
          "execution_count": 47
        },
        {
          "output_type": "display_data",
          "data": {
            "text/plain": [
              "<Figure size 432x432 with 1 Axes>"
            ],
            "image/png": "[encoded data removed]"
          },
          "metadata": {
            "image/png": {
              "width": 384,
              "height": 370
            },
            "needs_background": "light"
          }
        }
      ]
    },
    {
      "cell_type": "markdown",
      "source": [
        "Como podemos ver, os plots representam bons indícios de adequabilidade dos modelos!"
      ],
      "metadata": {
        "id": "vlbr6pfa1Q1A"
      }
    },
    {
      "cell_type": "code",
      "source": [
        "model_xgb.fit(all_data, np.log1p(dados[\"votos\"]))\n",
        "model_lasso.fit(all_data, np.log1p(dados[\"votos\"]))\n",
        "model_ridge.fit(all_data, np.log1p(dados[\"votos\"]))"
      ],
      "metadata": {
        "colab": {
          "base_uri": "https://localhost:8080/"
        },
        "id": "BgI5ZPFG1vmA",
        "outputId": "c24e1e18-9094-4580-a757-d62747b0d911"
      },
      "execution_count": 48,
      "outputs": [
        {
          "output_type": "stream",
          "name": "stdout",
          "text": [
            "[15:16:28] WARNING: /workspace/src/objective/regression_obj.cu:152: reg:linear is now deprecated in favor of reg:squarederror.\n"
          ]
        },
        {
          "output_type": "stream",
          "name": "stderr",
          "text": [
            "/usr/local/lib/python3.7/dist-packages/sklearn/linear_model/_coordinate_descent.py:644: ConvergenceWarning: Objective did not converge. You might want to increase the number of iterations. Duality gap: 436.1631944616829, tolerance: 2.370776236893092\n",
            "  positive,\n",
            "/usr/local/lib/python3.7/dist-packages/sklearn/linear_model/_coordinate_descent.py:644: ConvergenceWarning: Objective did not converge. You might want to increase the number of iterations. Duality gap: 294.3017254019487, tolerance: 2.370776236893092\n",
            "  positive,\n",
            "/usr/local/lib/python3.7/dist-packages/sklearn/linear_model/_coordinate_descent.py:644: ConvergenceWarning: Objective did not converge. You might want to increase the number of iterations. Duality gap: 500.02308554476576, tolerance: 2.3326024213996193\n",
            "  positive,\n",
            "/usr/local/lib/python3.7/dist-packages/sklearn/linear_model/_coordinate_descent.py:644: ConvergenceWarning: Objective did not converge. You might want to increase the number of iterations. Duality gap: 308.5660215672847, tolerance: 2.3326024213996193\n",
            "  positive,\n",
            "/usr/local/lib/python3.7/dist-packages/sklearn/linear_model/_coordinate_descent.py:644: ConvergenceWarning: Objective did not converge. You might want to increase the number of iterations. Duality gap: 447.19753111344016, tolerance: 2.312317471400664\n",
            "  positive,\n",
            "/usr/local/lib/python3.7/dist-packages/sklearn/linear_model/_coordinate_descent.py:644: ConvergenceWarning: Objective did not converge. You might want to increase the number of iterations. Duality gap: 276.2192874747643, tolerance: 2.312317471400664\n",
            "  positive,\n",
            "/usr/local/lib/python3.7/dist-packages/sklearn/linear_model/_coordinate_descent.py:644: ConvergenceWarning: Objective did not converge. You might want to increase the number of iterations. Duality gap: 342.6668262491921, tolerance: 2.2450297058337396\n",
            "  positive,\n",
            "/usr/local/lib/python3.7/dist-packages/sklearn/linear_model/_coordinate_descent.py:644: ConvergenceWarning: Objective did not converge. You might want to increase the number of iterations. Duality gap: 206.88800579627969, tolerance: 2.2450297058337396\n",
            "  positive,\n",
            "/usr/local/lib/python3.7/dist-packages/sklearn/linear_model/_coordinate_descent.py:644: ConvergenceWarning: Objective did not converge. You might want to increase the number of iterations. Duality gap: 485.5863078454113, tolerance: 2.2332210636605083\n",
            "  positive,\n",
            "/usr/local/lib/python3.7/dist-packages/sklearn/linear_model/_coordinate_descent.py:644: ConvergenceWarning: Objective did not converge. You might want to increase the number of iterations. Duality gap: 269.4768562996069, tolerance: 2.2332210636605083\n",
            "  positive,\n",
            "/usr/local/lib/python3.7/dist-packages/sklearn/linear_model/_coordinate_descent.py:648: ConvergenceWarning: Objective did not converge. You might want to increase the number of iterations, check the scale of the features or consider increasing regularisation. Duality gap: 9.945e+02, tolerance: 2.875e+00\n",
            "  coef_, l1_reg, l2_reg, X, y, max_iter, tol, rng, random, positive\n"
          ]
        },
        {
          "output_type": "execute_result",
          "data": {
            "text/plain": [
              "Ridge(alpha=15)"
            ]
          },
          "metadata": {},
          "execution_count": 48
        }
      ]
    },
    {
      "cell_type": "code",
      "source": [
        "xgb_preds = np.expm1(model_xgb.predict(all_data))"
      ],
      "metadata": {
        "id": "QtFXupO63FZb"
      },
      "execution_count": 49,
      "outputs": []
    },
    {
      "cell_type": "code",
      "source": [
        "#LINK DATASET DE TESTE (ANO 2014): https://raw.githubusercontent.com/viniciuscva/disciplinaAM/main/previsao_de_votacao_de_deputados/eleicoes_2014.csv"
      ],
      "metadata": {
        "id": "kGvVfxHm0WKG"
      },
      "execution_count": 50,
      "outputs": []
    },
    {
      "cell_type": "code",
      "source": [
        "dados_2014 = pd.read_csv(\"https://raw.githubusercontent.com/viniciuscva/disciplinaAM/main/previsao_de_votacao_de_deputados/eleicoes_2014.csv\")\n",
        "dados_2014.head()"
      ],
      "metadata": {
        "colab": {
          "base_uri": "https://localhost:8080/",
          "height": 508
        },
        "id": "ezb6T0Ci02Dm",
        "outputId": "8f100603-1077-4882-d222-a2fd065fd47c"
      },
      "execution_count": 51,
      "outputs": [
        {
          "output_type": "execute_result",
          "data": {
            "text/plain": [
              "    ano  sq_candidato                   nome_candidato sigla_uf sigla_partido  \\\n",
              "0  2014   10000000135          EMERSON DA SILVA SANTOS       AC          PSOL   \n",
              "1  2014   10000000142         GERALDO SILVA DOS SANTOS       AC          PSOL   \n",
              "2  2014   10000000158  CARLOS CESAR CORREIA DE MESSIAS       AC           PSB   \n",
              "3  2014   10000000161               IDESIO LUIS FRANKE       AC            PT   \n",
              "4  2014   10000000163          LEONARDO CUNHA DE BRITO       AC            PT   \n",
              "\n",
              "   qtd_doacoes  qtd_doadores  total_receita  media_receita  \\\n",
              "0            3             3        1580.00     526.666667   \n",
              "1            5             5        3180.00     636.000000   \n",
              "2           40            38      333293.13    8770.871842   \n",
              "3           29            29      156719.32    5404.114483   \n",
              "4          160           146      711083.00    4870.431507   \n",
              "\n",
              "   recursos de outros candidatos/comitês  ...  qtd_despesas  qtd_fornecedores  \\\n",
              "0                                    NaN  ...             3                 3   \n",
              "1                                    NaN  ...             6                 5   \n",
              "2                                1923.07  ...           145               139   \n",
              "3                               39122.32  ...           136               121   \n",
              "4                               10000.00  ...           518               354   \n",
              "\n",
              "   total_despesa  media_despesa   descricao_cargo       sexo  \\\n",
              "0        1580.00     526.666667  DEPUTADO FEDERAL  MASCULINO   \n",
              "1        3130.02     626.004000  DEPUTADO FEDERAL  MASCULINO   \n",
              "2      326869.78    2351.581151  DEPUTADO FEDERAL  MASCULINO   \n",
              "3      241016.07    1991.868347  DEPUTADO FEDERAL  MASCULINO   \n",
              "4      567401.15    1602.828107  DEPUTADO FEDERAL  MASCULINO   \n",
              "\n",
              "                  grau_instrucao estado_civil  \\\n",
              "0          ENSINO MÉDIO COMPLETO  SOLTEIRO(A)   \n",
              "1              SUPERIOR COMPLETO  SOLTEIRO(A)   \n",
              "2  ENSINO FUNDAMENTAL INCOMPLETO    CASADO(A)   \n",
              "3              SUPERIOR COMPLETO    CASADO(A)   \n",
              "4              SUPERIOR COMPLETO    CASADO(A)   \n",
              "\n",
              "                                descricao_ocupacao  votos  \n",
              "0  CORRETOR DE IMÓVEIS, SEGUROS, TÍTULOS E VALORES     37  \n",
              "1                                        VIGILANTE    383  \n",
              "2                                           OUTROS  26448  \n",
              "3                                         AGRÔNOMO   9896  \n",
              "4                                         ADVOGADO  20876  \n",
              "\n",
              "[5 rows x 23 columns]"
            ],
            "text/html": [
              "\n",
              "  <div id=\"df-2419abe1-8557-42c9-875c-f08d925f6b0e\">\n",
              "    <div class=\"colab-df-container\">\n",
              "      <div>\n",
              "<style scoped>\n",
              "    .dataframe tbody tr th:only-of-type {\n",
              "        vertical-align: middle;\n",
              "    }\n",
              "\n",
              "    .dataframe tbody tr th {\n",
              "        vertical-align: top;\n",
              "    }\n",
              "\n",
              "    .dataframe thead th {\n",
              "        text-align: right;\n",
              "    }\n",
              "</style>\n",
              "<table border=\"1\" class=\"dataframe\">\n",
              "  <thead>\n",
              "    <tr style=\"text-align: right;\">\n",
              "      <th></th>\n",
              "      <th>ano</th>\n",
              "      <th>sq_candidato</th>\n",
              "      <th>nome_candidato</th>\n",
              "      <th>sigla_uf</th>\n",
              "      <th>sigla_partido</th>\n",
              "      <th>qtd_doacoes</th>\n",
              "      <th>qtd_doadores</th>\n",
              "      <th>total_receita</th>\n",
              "      <th>media_receita</th>\n",
              "      <th>recursos de outros candidatos/comitês</th>\n",
              "      <th>...</th>\n",
              "      <th>qtd_despesas</th>\n",
              "      <th>qtd_fornecedores</th>\n",
              "      <th>total_despesa</th>\n",
              "      <th>media_despesa</th>\n",
              "      <th>descricao_cargo</th>\n",
              "      <th>sexo</th>\n",
              "      <th>grau_instrucao</th>\n",
              "      <th>estado_civil</th>\n",
              "      <th>descricao_ocupacao</th>\n",
              "      <th>votos</th>\n",
              "    </tr>\n",
              "  </thead>\n",
              "  <tbody>\n",
              "    <tr>\n",
              "      <th>0</th>\n",
              "      <td>2014</td>\n",
              "      <td>10000000135</td>\n",
              "      <td>EMERSON DA SILVA SANTOS</td>\n",
              "      <td>AC</td>\n",
              "      <td>PSOL</td>\n",
              "      <td>3</td>\n",
              "      <td>3</td>\n",
              "      <td>1580.00</td>\n",
              "      <td>526.666667</td>\n",
              "      <td>NaN</td>\n",
              "      <td>...</td>\n",
              "      <td>3</td>\n",
              "      <td>3</td>\n",
              "      <td>1580.00</td>\n",
              "      <td>526.666667</td>\n",
              "      <td>DEPUTADO FEDERAL</td>\n",
              "      <td>MASCULINO</td>\n",
              "      <td>ENSINO MÉDIO COMPLETO</td>\n",
              "      <td>SOLTEIRO(A)</td>\n",
              "      <td>CORRETOR DE IMÓVEIS, SEGUROS, TÍTULOS E VALORES</td>\n",
              "      <td>37</td>\n",
              "    </tr>\n",
              "    <tr>\n",
              "      <th>1</th>\n",
              "      <td>2014</td>\n",
              "      <td>10000000142</td>\n",
              "      <td>GERALDO SILVA DOS SANTOS</td>\n",
              "      <td>AC</td>\n",
              "      <td>PSOL</td>\n",
              "      <td>5</td>\n",
              "      <td>5</td>\n",
              "      <td>3180.00</td>\n",
              "      <td>636.000000</td>\n",
              "      <td>NaN</td>\n",
              "      <td>...</td>\n",
              "      <td>6</td>\n",
              "      <td>5</td>\n",
              "      <td>3130.02</td>\n",
              "      <td>626.004000</td>\n",
              "      <td>DEPUTADO FEDERAL</td>\n",
              "      <td>MASCULINO</td>\n",
              "      <td>SUPERIOR COMPLETO</td>\n",
              "      <td>SOLTEIRO(A)</td>\n",
              "      <td>VIGILANTE</td>\n",
              "      <td>383</td>\n",
              "    </tr>\n",
              "    <tr>\n",
              "      <th>2</th>\n",
              "      <td>2014</td>\n",
              "      <td>10000000158</td>\n",
              "      <td>CARLOS CESAR CORREIA DE MESSIAS</td>\n",
              "      <td>AC</td>\n",
              "      <td>PSB</td>\n",
              "      <td>40</td>\n",
              "      <td>38</td>\n",
              "      <td>333293.13</td>\n",
              "      <td>8770.871842</td>\n",
              "      <td>1923.07</td>\n",
              "      <td>...</td>\n",
              "      <td>145</td>\n",
              "      <td>139</td>\n",
              "      <td>326869.78</td>\n",
              "      <td>2351.581151</td>\n",
              "      <td>DEPUTADO FEDERAL</td>\n",
              "      <td>MASCULINO</td>\n",
              "      <td>ENSINO FUNDAMENTAL INCOMPLETO</td>\n",
              "      <td>CASADO(A)</td>\n",
              "      <td>OUTROS</td>\n",
              "      <td>26448</td>\n",
              "    </tr>\n",
              "    <tr>\n",
              "      <th>3</th>\n",
              "      <td>2014</td>\n",
              "      <td>10000000161</td>\n",
              "      <td>IDESIO LUIS FRANKE</td>\n",
              "      <td>AC</td>\n",
              "      <td>PT</td>\n",
              "      <td>29</td>\n",
              "      <td>29</td>\n",
              "      <td>156719.32</td>\n",
              "      <td>5404.114483</td>\n",
              "      <td>39122.32</td>\n",
              "      <td>...</td>\n",
              "      <td>136</td>\n",
              "      <td>121</td>\n",
              "      <td>241016.07</td>\n",
              "      <td>1991.868347</td>\n",
              "      <td>DEPUTADO FEDERAL</td>\n",
              "      <td>MASCULINO</td>\n",
              "      <td>SUPERIOR COMPLETO</td>\n",
              "      <td>CASADO(A)</td>\n",
              "      <td>AGRÔNOMO</td>\n",
              "      <td>9896</td>\n",
              "    </tr>\n",
              "    <tr>\n",
              "      <th>4</th>\n",
              "      <td>2014</td>\n",
              "      <td>10000000163</td>\n",
              "      <td>LEONARDO CUNHA DE BRITO</td>\n",
              "      <td>AC</td>\n",
              "      <td>PT</td>\n",
              "      <td>160</td>\n",
              "      <td>146</td>\n",
              "      <td>711083.00</td>\n",
              "      <td>4870.431507</td>\n",
              "      <td>10000.00</td>\n",
              "      <td>...</td>\n",
              "      <td>518</td>\n",
              "      <td>354</td>\n",
              "      <td>567401.15</td>\n",
              "      <td>1602.828107</td>\n",
              "      <td>DEPUTADO FEDERAL</td>\n",
              "      <td>MASCULINO</td>\n",
              "      <td>SUPERIOR COMPLETO</td>\n",
              "      <td>CASADO(A)</td>\n",
              "      <td>ADVOGADO</td>\n",
              "      <td>20876</td>\n",
              "    </tr>\n",
              "  </tbody>\n",
              "</table>\n",
              "<p>5 rows × 23 columns</p>\n",
              "</div>\n",
              "      <button class=\"colab-df-convert\" onclick=\"convertToInteractive('df-2419abe1-8557-42c9-875c-f08d925f6b0e')\"\n",
              "              title=\"Convert this dataframe to an interactive table.\"\n",
              "              style=\"display:none;\">\n",
              "        \n",
              "  <svg xmlns=\"http://www.w3.org/2000/svg\" height=\"24px\"viewBox=\"0 0 24 24\"\n",
              "       width=\"24px\">\n",
              "    <path d=\"M0 0h24v24H0V0z\" fill=\"none\"/>\n",
              "    <path d=\"M18.56 5.44l.94 2.06.94-2.06 2.06-.94-2.06-.94-.94-2.06-.94 2.06-2.06.94zm-11 1L8.5 8.5l.94-2.06 2.06-.94-2.06-.94L8.5 2.5l-.94 2.06-2.06.94zm10 10l.94 2.06.94-2.06 2.06-.94-2.06-.94-.94-2.06-.94 2.06-2.06.94z\"/><path d=\"M17.41 7.96l-1.37-1.37c-.4-.4-.92-.59-1.43-.59-.52 0-1.04.2-1.43.59L10.3 9.45l-7.72 7.72c-.78.78-.78 2.05 0 2.83L4 21.41c.39.39.9.59 1.41.59.51 0 1.02-.2 1.41-.59l7.78-7.78 2.81-2.81c.8-.78.8-2.07 0-2.86zM5.41 20L4 18.59l7.72-7.72 1.47 1.35L5.41 20z\"/>\n",
              "  </svg>\n",
              "      </button>\n",
              "      \n",
              "  <style>\n",
              "    .colab-df-container {\n",
              "      display:flex;\n",
              "      flex-wrap:wrap;\n",
              "      gap: 12px;\n",
              "    }\n",
              "\n",
              "    .colab-df-convert {\n",
              "      background-color: #E8F0FE;\n",
              "      border: none;\n",
              "      border-radius: 50%;\n",
              "      cursor: pointer;\n",
              "      display: none;\n",
              "      fill: #1967D2;\n",
              "      height: 32px;\n",
              "      padding: 0 0 0 0;\n",
              "      width: 32px;\n",
              "    }\n",
              "\n",
              "    .colab-df-convert:hover {\n",
              "      background-color: #E2EBFA;\n",
              "      box-shadow: 0px 1px 2px rgba(60, 64, 67, 0.3), 0px 1px 3px 1px rgba(60, 64, 67, 0.15);\n",
              "      fill: #174EA6;\n",
              "    }\n",
              "\n",
              "    [theme=dark] .colab-df-convert {\n",
              "      background-color: #3B4455;\n",
              "      fill: #D2E3FC;\n",
              "    }\n",
              "\n",
              "    [theme=dark] .colab-df-convert:hover {\n",
              "      background-color: #434B5C;\n",
              "      box-shadow: 0px 1px 3px 1px rgba(0, 0, 0, 0.15);\n",
              "      filter: drop-shadow(0px 1px 2px rgba(0, 0, 0, 0.3));\n",
              "      fill: #FFFFFF;\n",
              "    }\n",
              "  </style>\n",
              "\n",
              "      <script>\n",
              "        const buttonEl =\n",
              "          document.querySelector('#df-2419abe1-8557-42c9-875c-f08d925f6b0e button.colab-df-convert');\n",
              "        buttonEl.style.display =\n",
              "          google.colab.kernel.accessAllowed ? 'block' : 'none';\n",
              "\n",
              "        async function convertToInteractive(key) {\n",
              "          const element = document.querySelector('#df-2419abe1-8557-42c9-875c-f08d925f6b0e');\n",
              "          const dataTable =\n",
              "            await google.colab.kernel.invokeFunction('convertToInteractive',\n",
              "                                                     [key], {});\n",
              "          if (!dataTable) return;\n",
              "\n",
              "          const docLinkHtml = 'Like what you see? Visit the ' +\n",
              "            '<a target=\"_blank\" href=https://colab.research.google.com/notebooks/data_table.ipynb>data table notebook</a>'\n",
              "            + ' to learn more about interactive tables.';\n",
              "          element.innerHTML = '';\n",
              "          dataTable['output_type'] = 'display_data';\n",
              "          await google.colab.output.renderOutput(dataTable, element);\n",
              "          const docLink = document.createElement('div');\n",
              "          docLink.innerHTML = docLinkHtml;\n",
              "          element.appendChild(docLink);\n",
              "        }\n",
              "      </script>\n",
              "    </div>\n",
              "  </div>\n",
              "  "
            ]
          },
          "metadata": {},
          "execution_count": 51
        }
      ]
    },
    {
      "cell_type": "code",
      "source": [
        "dados.shape"
      ],
      "metadata": {
        "colab": {
          "base_uri": "https://localhost:8080/"
        },
        "id": "ttJqDjzt3qld",
        "outputId": "ef06843e-2c5a-476b-fd05-94e56c4bfdc9"
      },
      "execution_count": 52,
      "outputs": [
        {
          "output_type": "execute_result",
          "data": {
            "text/plain": [
              "(7330, 23)"
            ]
          },
          "metadata": {},
          "execution_count": 52
        }
      ]
    },
    {
      "cell_type": "code",
      "source": [
        "dados_2014.shape"
      ],
      "metadata": {
        "colab": {
          "base_uri": "https://localhost:8080/"
        },
        "id": "WfP4V2D-331D",
        "outputId": "3e0d3be1-dd40-4b5d-c4be-c658827ef651"
      },
      "execution_count": 53,
      "outputs": [
        {
          "output_type": "execute_result",
          "data": {
            "text/plain": [
              "(4936, 23)"
            ]
          },
          "metadata": {},
          "execution_count": 53
        }
      ]
    },
    {
      "cell_type": "code",
      "source": [
        "dados.columns"
      ],
      "metadata": {
        "colab": {
          "base_uri": "https://localhost:8080/"
        },
        "id": "ekdeixdM36Wr",
        "outputId": "f349fab3-3849-433b-debc-9eeb46427246"
      },
      "execution_count": 54,
      "outputs": [
        {
          "output_type": "execute_result",
          "data": {
            "text/plain": [
              "Index(['ano', 'sequencial_candidato', 'nome', 'uf', 'partido',\n",
              "       'quantidade_doacoes', 'quantidade_doadores', 'total_receita',\n",
              "       'media_receita', 'recursos_de_outros_candidatos/comites',\n",
              "       'recursos_de_pessoas_fisicas', 'recursos_de_pessoas_juridicas',\n",
              "       'recursos_proprios', 'quantidade_despesas', 'quantidade_fornecedores',\n",
              "       'total_despesa', 'media_despesa', 'cargo', 'sexo', 'grau',\n",
              "       'estado_civil', 'ocupacao', 'votos'],\n",
              "      dtype='object')"
            ]
          },
          "metadata": {},
          "execution_count": 54
        }
      ]
    },
    {
      "cell_type": "code",
      "source": [
        "dados_2014.columns"
      ],
      "metadata": {
        "colab": {
          "base_uri": "https://localhost:8080/"
        },
        "id": "k_Bg_zF53--T",
        "outputId": "f23d736c-74be-49c0-b044-69fc81c972d5"
      },
      "execution_count": 55,
      "outputs": [
        {
          "output_type": "execute_result",
          "data": {
            "text/plain": [
              "Index(['ano', 'sq_candidato', 'nome_candidato', 'sigla_uf', 'sigla_partido',\n",
              "       'qtd_doacoes', 'qtd_doadores', 'total_receita', 'media_receita',\n",
              "       'recursos de outros candidatos/comitês', 'recursos de pessoas físicas',\n",
              "       'recursos de pessoas jurídicas', 'recursos próprios', 'qtd_despesas',\n",
              "       'qtd_fornecedores', 'total_despesa', 'media_despesa', 'descricao_cargo',\n",
              "       'sexo', 'grau_instrucao', 'estado_civil', 'descricao_ocupacao',\n",
              "       'votos'],\n",
              "      dtype='object')"
            ]
          },
          "metadata": {},
          "execution_count": 55
        }
      ]
    },
    {
      "cell_type": "code",
      "source": [
        "dados_2014.columns = ['ano', 'sequencial_candidato', 'nome', 'uf', 'partido',\\\n",
        "       'quantidade_doacoes', 'quantidade_doadores', 'total_receita',\\\n",
        "       'media_receita', 'recursos_de_outros_candidatos/comites',\\\n",
        "       'recursos_de_pessoas_fisicas', 'recursos_de_pessoas_juridicas',\\\n",
        "       'recursos_proprios', 'quantidade_despesas', 'quantidade_fornecedores',\\\n",
        "       'total_despesa', 'media_despesa', 'cargo', 'sexo', 'grau',\\\n",
        "       'estado_civil', 'ocupacao', 'votos']"
      ],
      "metadata": {
        "id": "3vMnDFSq4Rp0"
      },
      "execution_count": 56,
      "outputs": []
    },
    {
      "cell_type": "code",
      "source": [
        "all_data_2014 = dados_2014.loc[:, 'uf':'ocupacao']\n",
        "all_data_2014.shape"
      ],
      "metadata": {
        "colab": {
          "base_uri": "https://localhost:8080/"
        },
        "id": "qGu00mHI1Hb-",
        "outputId": "4fc6cbfe-19f3-43c9-e7e0-f4633762a2ac"
      },
      "execution_count": 57,
      "outputs": [
        {
          "output_type": "execute_result",
          "data": {
            "text/plain": [
              "(4936, 19)"
            ]
          },
          "metadata": {},
          "execution_count": 57
        }
      ]
    },
    {
      "cell_type": "code",
      "source": [
        "categorical_feats = all_data_2014.dtypes[all_data_2014.dtypes == \"object\"].index\n",
        "categorical_feats"
      ],
      "metadata": {
        "colab": {
          "base_uri": "https://localhost:8080/"
        },
        "id": "LQeP23vI65CR",
        "outputId": "654f0e56-0cbb-4e93-82d1-7b4761b86386"
      },
      "execution_count": 58,
      "outputs": [
        {
          "output_type": "execute_result",
          "data": {
            "text/plain": [
              "Index(['uf', 'partido', 'cargo', 'sexo', 'grau', 'estado_civil', 'ocupacao'], dtype='object')"
            ]
          },
          "metadata": {},
          "execution_count": 58
        }
      ]
    },
    {
      "cell_type": "code",
      "source": [
        "skewed_feats"
      ],
      "metadata": {
        "colab": {
          "base_uri": "https://localhost:8080/"
        },
        "id": "HOJP-xAU5vtv",
        "outputId": "023aeb70-40eb-451f-a02e-c712dab6bd55"
      },
      "execution_count": 59,
      "outputs": [
        {
          "output_type": "execute_result",
          "data": {
            "text/plain": [
              "Index(['quantidade_doacoes', 'quantidade_doadores', 'total_receita',\n",
              "       'media_receita', 'recursos_de_outros_candidatos/comites',\n",
              "       'recursos_de_pessoas_fisicas', 'recursos_de_pessoas_juridicas',\n",
              "       'recursos_proprios', 'quantidade_despesas', 'quantidade_fornecedores',\n",
              "       'total_despesa', 'media_despesa'],\n",
              "      dtype='object')"
            ]
          },
          "metadata": {},
          "execution_count": 59
        }
      ]
    },
    {
      "cell_type": "code",
      "source": [
        "all_data_2014[skewed_feats] = np.log1p(all_data_2014[skewed_feats])\n",
        "all_data_2014 = pd.get_dummies(all_data_2014)\n",
        "all_data_2014 = all_data_2014.fillna(all_data_2014.mean())\n",
        "print('Shape of training data:', all_data.shape)\n",
        "print('Shape of test data:', all_data_2014.shape)"
      ],
      "metadata": {
        "colab": {
          "base_uri": "https://localhost:8080/"
        },
        "id": "7OdK8EiX3i_d",
        "outputId": "042f7b76-a715-4e2d-8c21-6e7e5a746ec9"
      },
      "execution_count": 60,
      "outputs": [
        {
          "output_type": "stream",
          "name": "stdout",
          "text": [
            "Shape of training data: (7330, 260)\n",
            "Shape of test data: (4936, 245)\n"
          ]
        }
      ]
    },
    {
      "cell_type": "markdown",
      "source": [
        "Observe que temos um problema: o processo de get_dummies nos dados de 2014 gerou menos colunas, e temos um dataset com formato diferente do que foi usado para treino. Precisamos resolver este problemas, e deixar ambos com as mesmas colunas!"
      ],
      "metadata": {
        "id": "Tj6qW0Jo6_sJ"
      }
    },
    {
      "cell_type": "code",
      "source": [
        "print('Colunas que só estão no dataset de treinamento:')\n",
        "colunas_exclusivas_treinamento = list(set(all_data.columns)-set(all_data_2014.columns))\n",
        "for col in colunas_exclusivas_treinamento:\n",
        "  print('  '+col)"
      ],
      "metadata": {
        "colab": {
          "base_uri": "https://localhost:8080/"
        },
        "id": "aZPo6qu960cW",
        "outputId": "a799e8e9-cbba-41e6-c274-36b0f813fe6d"
      },
      "execution_count": 61,
      "outputs": [
        {
          "output_type": "stream",
          "name": "stdout",
          "text": [
            "Colunas que só estão no dataset de treinamento:\n",
            "  ocupacao_OPERADOR DE COMPUTADOR\n",
            "  ocupacao_MESTRE E CONTRAMESTRE DE EMBARCAÇÃO\n",
            "  ocupacao_ARTISTA DE CIRCO\n",
            "  ocupacao_ASTRÔNOMO\n",
            "  ocupacao_TELEFONISTA\n",
            "  ocupacao_TRABALHADOR DE MINAS E PEDREIRAS, SONDADOR E ASSEMELHADOS\n",
            "  ocupacao_SERVIDOR DA JUSTIÇA ELEITORAL\n",
            "  partido_PL\n",
            "  ocupacao_TABELIÃO\n",
            "  ocupacao_FONOAUDIÓLOGO\n",
            "  ocupacao_TÉCNICO DE OBRAS CIVIS, ESTRADAS, SANEAMENTO E ASSEMELHADOS\n",
            "  ocupacao_PREFEITO\n",
            "  ocupacao_TRABALHADOR DE USINAGEM DE METAIS\n",
            "  ocupacao_ALFAIATE E COSTUREIRO\n",
            "  ocupacao_DETETIVE PARTICULAR\n",
            "  ocupacao_FIANDEIRO, TECELÃO, TINGIDOR E ASSEMELHADOS\n",
            "  ocupacao_TRABALHADOR DE FABRICAÇÃO E PREPARAÇÃO DE ALIMENTOS E BEBIDAS\n",
            "  ocupacao_DEMONSTRADOR\n",
            "  ocupacao_FÍSICO\n",
            "  partido_PAN\n",
            "  ocupacao_BIBLIOTECÁRIO\n",
            "  ocupacao_ENCANADOR, SOLDADOR, CHAPEADOR E CALDEIREIRO\n",
            "  ocupacao_CAPITALISTA DE ATIVOS FINANCEIROS\n",
            "  ocupacao_MODELO\n",
            "  partido_PRONA\n",
            "  ocupacao_ESCULTOR E PINTOR\n",
            "  ocupacao_FRENTISTA\n",
            "  ocupacao_TÉCNICO DE BIOLOGIA\n",
            "  ocupacao_OPERADOR DE INSTALAÇÃO DE PRODUÇÃO DE ENERGIA ELÉTRICA E NUCLEAR\n",
            "  ocupacao_SECURITÁRIO\n",
            "  partido_PFL\n",
            "  ocupacao_TAQUÍGRAFO E ESTENÓGRAFO\n",
            "  ocupacao_FEIRANTE, AMBULANTE E MASCATE\n",
            "  ocupacao_MARINHEIRO CIVIL, CANOEIRO, EMBARCADO E ASSEMELHADOS\n",
            "  ocupacao_ARQUEÓLOGO\n",
            "  ocupacao_TRABALHADOR DE ARTES GRÁFICAS\n",
            "  ocupacao_LEILOEIRO, AVALIADOR E ASSEMELHADOS\n"
          ]
        }
      ]
    },
    {
      "cell_type": "code",
      "source": [
        "print('Colunas que só estão no dataset de teste:')\n",
        "colunas_exclusivas_teste = list(set(all_data_2014.columns)-set(all_data.columns))\n",
        "for col in colunas_exclusivas_teste:\n",
        "  print('  '+col)"
      ],
      "metadata": {
        "colab": {
          "base_uri": "https://localhost:8080/"
        },
        "id": "-n1QbD-m7SVO",
        "outputId": "cd2237bd-b45c-481f-b702-9721d950d475"
      },
      "execution_count": 62,
      "outputs": [
        {
          "output_type": "stream",
          "name": "stdout",
          "text": [
            "Colunas que só estão no dataset de teste:\n",
            "  partido_PROS\n",
            "  ocupacao_OCEANÓGRAFO\n",
            "  ocupacao_ATENDENTE DE LANCHONETE E RESTAURANTE\n",
            "  ocupacao_MASSAGISTA\n",
            "  ocupacao_RELAÇÕES-PÚBLICAS\n",
            "  ocupacao_NUTRICIONISTA E ASSEMELHADOS\n",
            "  ocupacao_TÉCNICO DE QUÍMICA\n",
            "  ocupacao_MINISTRO DE ESTADO\n",
            "  ocupacao_ESTOFADOR\n",
            "  ocupacao_GEOFÍSICO\n",
            "  partido_PSD\n",
            "  ocupacao_ECONOMISTA DOMÉSTICO\n",
            "  partido_PPL\n",
            "  ocupacao_BACTERIOLOGISTA E ASSEMELHADOS\n",
            "  partido_SD\n",
            "  ocupacao_BOMBEIRO CIVIL\n",
            "  ocupacao_EMPREGADO DOMÉSTICO\n",
            "  ocupacao_AGENTE DE SERVIÇOS FUNERÁRIOS E EMBALSAMADOR\n",
            "  ocupacao_METEOROLOGISTA\n",
            "  partido_PEN\n",
            "  ocupacao_CATADOR DE RECICLÁVEIS\n",
            "  ocupacao_JORNALEIRO\n"
          ]
        }
      ]
    },
    {
      "cell_type": "markdown",
      "source": [
        "Primeiramente iremos deletar as colunas que são exclusivas dos dados de teste, pois o modelo treinado não aprendeu a analisar estas características. \n",
        "\n",
        "Em seguida, precisamos adicionar as colunas faltantes nos dados de teste, e atribuir o valor 0\n",
        "\n",
        "Por último precisamos garantir que a ordem das colunas no teste seja igual ao treino"
      ],
      "metadata": {
        "id": "drrQSC1l9Hmk"
      }
    },
    {
      "cell_type": "code",
      "source": [
        "colunas_comuns = list(set(all_data_2014.columns) & set(all_data.columns))\n",
        "len(colunas_comuns)"
      ],
      "metadata": {
        "colab": {
          "base_uri": "https://localhost:8080/"
        },
        "id": "7lG-rPe09Ff1",
        "outputId": "ed199a2b-657f-46ad-dd58-ff6ff053052b"
      },
      "execution_count": 63,
      "outputs": [
        {
          "output_type": "execute_result",
          "data": {
            "text/plain": [
              "223"
            ]
          },
          "metadata": {},
          "execution_count": 63
        }
      ]
    },
    {
      "cell_type": "code",
      "source": [
        "all_data_2014 = all_data_2014[colunas_comuns]\n",
        "all_data_2014.shape"
      ],
      "metadata": {
        "colab": {
          "base_uri": "https://localhost:8080/"
        },
        "id": "R-YXry6N7USG",
        "outputId": "744eb12d-9b1c-41e7-b643-26a5a1dd4ed8"
      },
      "execution_count": 64,
      "outputs": [
        {
          "output_type": "execute_result",
          "data": {
            "text/plain": [
              "(4936, 223)"
            ]
          },
          "metadata": {},
          "execution_count": 64
        }
      ]
    },
    {
      "cell_type": "code",
      "source": [
        "all_data_2014[colunas_exclusivas_treinamento] = 0\n",
        "all_data_2014.shape"
      ],
      "metadata": {
        "colab": {
          "base_uri": "https://localhost:8080/"
        },
        "id": "50gs9m7v-Mye",
        "outputId": "42f239a9-801b-4564-deed-89a73f1fcce7"
      },
      "execution_count": 65,
      "outputs": [
        {
          "output_type": "execute_result",
          "data": {
            "text/plain": [
              "(4936, 260)"
            ]
          },
          "metadata": {},
          "execution_count": 65
        }
      ]
    },
    {
      "cell_type": "code",
      "source": [
        "#Agora vamos acertar a ordem das colunas\n",
        "all_data.columns"
      ],
      "metadata": {
        "colab": {
          "base_uri": "https://localhost:8080/"
        },
        "id": "UnKO9T96-a8v",
        "outputId": "ddfbeb46-b7ea-459d-f66b-5e9d65db5f30"
      },
      "execution_count": 66,
      "outputs": [
        {
          "output_type": "execute_result",
          "data": {
            "text/plain": [
              "Index(['quantidade_doacoes', 'quantidade_doadores', 'total_receita',\n",
              "       'media_receita', 'recursos_de_outros_candidatos/comites',\n",
              "       'recursos_de_pessoas_fisicas', 'recursos_de_pessoas_juridicas',\n",
              "       'recursos_proprios', 'quantidade_despesas', 'quantidade_fornecedores',\n",
              "       ...\n",
              "       'ocupacao_TÉCNICO DE OBRAS CIVIS, ESTRADAS, SANEAMENTO E ASSEMELHADOS',\n",
              "       'ocupacao_TÉCNICO EM AGRONOMIA E AGRIMENSURA',\n",
              "       'ocupacao_TÉCNICO EM EDIFICAÇÕES', 'ocupacao_TÉCNICO EM INFORMÁTICA',\n",
              "       'ocupacao_VENDEDOR DE COMÉRCIO VAREJISTA E ATACADISTA',\n",
              "       'ocupacao_VENDEDOR PRACISTA, REPRESENTANTE, CAIXEIRO-VIAJANTE E ASSEMELHADOS',\n",
              "       'ocupacao_VEREADOR', 'ocupacao_VETERINÁRIO', 'ocupacao_VIGILANTE',\n",
              "       'ocupacao_ZOOTECNISTA'],\n",
              "      dtype='object', length=260)"
            ]
          },
          "metadata": {},
          "execution_count": 66
        }
      ]
    },
    {
      "cell_type": "code",
      "source": [
        "all_data_2014.columns"
      ],
      "metadata": {
        "colab": {
          "base_uri": "https://localhost:8080/"
        },
        "id": "ZdWx-mMC-h19",
        "outputId": "a5db1733-68ed-43c9-e9bb-8f4868ee65f4"
      },
      "execution_count": 67,
      "outputs": [
        {
          "output_type": "execute_result",
          "data": {
            "text/plain": [
              "Index(['ocupacao_PROGRAMADOR DE COMPUTADOR', 'ocupacao_ANALISTA DE SISTEMAS',\n",
              "       'ocupacao_ENFERMEIRO', 'uf_PB', 'ocupacao_PSICÓLOGO',\n",
              "       'ocupacao_SERVIDOR PÚBLICO ESTADUAL',\n",
              "       'ocupacao_TÉCNICO DE ENFERMAGEM E ASSEMELHADOS (EXCETO ENFERMEIRO)',\n",
              "       'ocupacao_OUTROS', 'ocupacao_ELETRICISTA E ASSEMELHADOS',\n",
              "       'ocupacao_TRABALHADOR DOS SERVIÇOS DE CONTABILIDADE, DE CAIXA E ASSEMELHADOS',\n",
              "       ...\n",
              "       'ocupacao_TÉCNICO DE BIOLOGIA',\n",
              "       'ocupacao_OPERADOR DE INSTALAÇÃO DE PRODUÇÃO DE ENERGIA ELÉTRICA E NUCLEAR',\n",
              "       'ocupacao_SECURITÁRIO', 'partido_PFL',\n",
              "       'ocupacao_TAQUÍGRAFO E ESTENÓGRAFO',\n",
              "       'ocupacao_FEIRANTE, AMBULANTE E MASCATE',\n",
              "       'ocupacao_MARINHEIRO CIVIL, CANOEIRO, EMBARCADO E ASSEMELHADOS',\n",
              "       'ocupacao_ARQUEÓLOGO', 'ocupacao_TRABALHADOR DE ARTES GRÁFICAS',\n",
              "       'ocupacao_LEILOEIRO, AVALIADOR E ASSEMELHADOS'],\n",
              "      dtype='object', length=260)"
            ]
          },
          "metadata": {},
          "execution_count": 67
        }
      ]
    },
    {
      "cell_type": "code",
      "source": [
        "all_data_2014 = all_data_2014[list(all_data.columns)]\n",
        "all_data_2014.columns"
      ],
      "metadata": {
        "colab": {
          "base_uri": "https://localhost:8080/"
        },
        "id": "EHZu35T2-k0O",
        "outputId": "a5175e38-3854-498a-a958-878dfdfae99f"
      },
      "execution_count": 68,
      "outputs": [
        {
          "output_type": "execute_result",
          "data": {
            "text/plain": [
              "Index(['quantidade_doacoes', 'quantidade_doadores', 'total_receita',\n",
              "       'media_receita', 'recursos_de_outros_candidatos/comites',\n",
              "       'recursos_de_pessoas_fisicas', 'recursos_de_pessoas_juridicas',\n",
              "       'recursos_proprios', 'quantidade_despesas', 'quantidade_fornecedores',\n",
              "       ...\n",
              "       'ocupacao_TÉCNICO DE OBRAS CIVIS, ESTRADAS, SANEAMENTO E ASSEMELHADOS',\n",
              "       'ocupacao_TÉCNICO EM AGRONOMIA E AGRIMENSURA',\n",
              "       'ocupacao_TÉCNICO EM EDIFICAÇÕES', 'ocupacao_TÉCNICO EM INFORMÁTICA',\n",
              "       'ocupacao_VENDEDOR DE COMÉRCIO VAREJISTA E ATACADISTA',\n",
              "       'ocupacao_VENDEDOR PRACISTA, REPRESENTANTE, CAIXEIRO-VIAJANTE E ASSEMELHADOS',\n",
              "       'ocupacao_VEREADOR', 'ocupacao_VETERINÁRIO', 'ocupacao_VIGILANTE',\n",
              "       'ocupacao_ZOOTECNISTA'],\n",
              "      dtype='object', length=260)"
            ]
          },
          "metadata": {},
          "execution_count": 68
        }
      ]
    },
    {
      "cell_type": "code",
      "source": [
        "X_test = all_data_2014\n",
        "y_test = np.log1p(dados_2014.votos)\n",
        "print('Shape of X_test:', X_test.shape)\n",
        "print('Shape of y_test:', y_test.shape)"
      ],
      "metadata": {
        "colab": {
          "base_uri": "https://localhost:8080/"
        },
        "id": "qTuuyS1N-sk2",
        "outputId": "69c4a528-eee5-45f9-b618-43f1675ad918"
      },
      "execution_count": 69,
      "outputs": [
        {
          "output_type": "stream",
          "name": "stdout",
          "text": [
            "Shape of X_test: (4936, 260)\n",
            "Shape of y_test: (4936,)\n"
          ]
        }
      ]
    },
    {
      "cell_type": "code",
      "source": [
        "xgb_preds_2014 = np.expm1(model_xgb.predict(X_test))\n",
        "lasso_preds_2014 = np.expm1(model_lasso.predict(X_test))\n",
        "ridge_preds_2014 = np.expm1(model_ridge.predict(X_test))\n",
        "\n",
        "xgb_rmse = rmse_cv(model_xgb, X = X_test, y = y_test).mean()\n",
        "lasso_rmse = rmse_cv(model_lasso, X = X_test, y = y_test).mean()\n",
        "ridge_rmse = rmse_cv(model_ridge, X = X_test, y = y_test).mean()\n",
        "\n",
        "rmses = {'xgb_rmse': xgb_rmse,\n",
        "         'lasso_rmse': lasso_rmse,\n",
        "         'ridge_rmse': ridge_rmse}\n",
        "\n",
        "\n"
      ],
      "metadata": {
        "colab": {
          "base_uri": "https://localhost:8080/"
        },
        "id": "BAKRGX3r_eOd",
        "outputId": "5cafc89a-63ba-4c4d-83b0-d39e4499a2dd"
      },
      "execution_count": 75,
      "outputs": [
        {
          "output_type": "stream",
          "name": "stdout",
          "text": [
            "[15:32:39] WARNING: /workspace/src/objective/regression_obj.cu:152: reg:linear is now deprecated in favor of reg:squarederror.\n",
            "[15:32:45] WARNING: /workspace/src/objective/regression_obj.cu:152: reg:linear is now deprecated in favor of reg:squarederror.\n",
            "[15:32:51] WARNING: /workspace/src/objective/regression_obj.cu:152: reg:linear is now deprecated in favor of reg:squarederror.\n",
            "[15:32:57] WARNING: /workspace/src/objective/regression_obj.cu:152: reg:linear is now deprecated in favor of reg:squarederror.\n",
            "[15:33:03] WARNING: /workspace/src/objective/regression_obj.cu:152: reg:linear is now deprecated in favor of reg:squarederror.\n"
          ]
        },
        {
          "output_type": "stream",
          "name": "stderr",
          "text": [
            "/usr/local/lib/python3.7/dist-packages/sklearn/linear_model/_coordinate_descent.py:644: ConvergenceWarning: Objective did not converge. You might want to increase the number of iterations. Duality gap: 262.46962683941274, tolerance: 2.1063906133511576\n",
            "  positive,\n",
            "/usr/local/lib/python3.7/dist-packages/sklearn/linear_model/_coordinate_descent.py:644: ConvergenceWarning: Objective did not converge. You might want to increase the number of iterations. Duality gap: 242.96883211504246, tolerance: 2.1063906133511576\n",
            "  positive,\n",
            "/usr/local/lib/python3.7/dist-packages/sklearn/linear_model/_coordinate_descent.py:644: ConvergenceWarning: Objective did not converge. You might want to increase the number of iterations. Duality gap: 496.75398485627557, tolerance: 2.0251878693271848\n",
            "  positive,\n",
            "/usr/local/lib/python3.7/dist-packages/sklearn/linear_model/_coordinate_descent.py:644: ConvergenceWarning: Objective did not converge. You might want to increase the number of iterations. Duality gap: 868.219631215753, tolerance: 2.0251878693271848\n",
            "  positive,\n",
            "/usr/local/lib/python3.7/dist-packages/sklearn/linear_model/_coordinate_descent.py:644: ConvergenceWarning: Objective did not converge. You might want to increase the number of iterations. Duality gap: 980.4625491737697, tolerance: 2.0530000941273694\n",
            "  positive,\n",
            "/usr/local/lib/python3.7/dist-packages/sklearn/linear_model/_coordinate_descent.py:644: ConvergenceWarning: Objective did not converge. You might want to increase the number of iterations. Duality gap: 1249.194596956363, tolerance: 2.0530000941273694\n",
            "  positive,\n",
            "/usr/local/lib/python3.7/dist-packages/sklearn/linear_model/_coordinate_descent.py:644: ConvergenceWarning: Objective did not converge. You might want to increase the number of iterations. Duality gap: 453.0300429010895, tolerance: 2.11757386407588\n",
            "  positive,\n",
            "/usr/local/lib/python3.7/dist-packages/sklearn/linear_model/_coordinate_descent.py:644: ConvergenceWarning: Objective did not converge. You might want to increase the number of iterations. Duality gap: 1241.9656192378525, tolerance: 2.11757386407588\n",
            "  positive,\n",
            "/usr/local/lib/python3.7/dist-packages/sklearn/linear_model/_coordinate_descent.py:644: ConvergenceWarning: Objective did not converge. You might want to increase the number of iterations. Duality gap: 789.4482515365062, tolerance: 2.037169841669219\n",
            "  positive,\n",
            "/usr/local/lib/python3.7/dist-packages/sklearn/linear_model/_coordinate_descent.py:644: ConvergenceWarning: Objective did not converge. You might want to increase the number of iterations. Duality gap: 1109.2829691927773, tolerance: 2.037169841669219\n",
            "  positive,\n",
            "/usr/local/lib/python3.7/dist-packages/sklearn/linear_model/_coordinate_descent.py:648: ConvergenceWarning: Objective did not converge. You might want to increase the number of iterations, check the scale of the features or consider increasing regularisation. Duality gap: 7.221e+02, tolerance: 2.587e+00\n",
            "  coef_, l1_reg, l2_reg, X, y, max_iter, tol, rng, random, positive\n",
            "/usr/local/lib/python3.7/dist-packages/sklearn/linear_model/_coordinate_descent.py:644: ConvergenceWarning: Objective did not converge. You might want to increase the number of iterations. Duality gap: 194.61648155351213, tolerance: 2.1195311574513362\n",
            "  positive,\n",
            "/usr/local/lib/python3.7/dist-packages/sklearn/linear_model/_coordinate_descent.py:644: ConvergenceWarning: Objective did not converge. You might want to increase the number of iterations. Duality gap: 168.8919557938043, tolerance: 2.1195311574513362\n",
            "  positive,\n",
            "/usr/local/lib/python3.7/dist-packages/sklearn/linear_model/_coordinate_descent.py:644: ConvergenceWarning: Objective did not converge. You might want to increase the number of iterations. Duality gap: 205.02081090065803, tolerance: 2.0412426026745054\n",
            "  positive,\n",
            "/usr/local/lib/python3.7/dist-packages/sklearn/linear_model/_coordinate_descent.py:644: ConvergenceWarning: Objective did not converge. You might want to increase the number of iterations. Duality gap: 290.77057516619334, tolerance: 2.0412426026745054\n",
            "  positive,\n",
            "/usr/local/lib/python3.7/dist-packages/sklearn/linear_model/_coordinate_descent.py:644: ConvergenceWarning: Objective did not converge. You might want to increase the number of iterations. Duality gap: 413.19037392740756, tolerance: 2.080323153834147\n",
            "  positive,\n",
            "/usr/local/lib/python3.7/dist-packages/sklearn/linear_model/_coordinate_descent.py:644: ConvergenceWarning: Objective did not converge. You might want to increase the number of iterations. Duality gap: 326.80561043712623, tolerance: 2.080323153834147\n",
            "  positive,\n",
            "/usr/local/lib/python3.7/dist-packages/sklearn/linear_model/_coordinate_descent.py:644: ConvergenceWarning: Objective did not converge. You might want to increase the number of iterations. Duality gap: 153.5546448636651, tolerance: 2.1463283545115353\n",
            "  positive,\n",
            "/usr/local/lib/python3.7/dist-packages/sklearn/linear_model/_coordinate_descent.py:644: ConvergenceWarning: Objective did not converge. You might want to increase the number of iterations. Duality gap: 596.2613756440305, tolerance: 2.1463283545115353\n",
            "  positive,\n",
            "/usr/local/lib/python3.7/dist-packages/sklearn/linear_model/_coordinate_descent.py:644: ConvergenceWarning: Objective did not converge. You might want to increase the number of iterations. Duality gap: 419.73166298529213, tolerance: 2.063201161534906\n",
            "  positive,\n",
            "/usr/local/lib/python3.7/dist-packages/sklearn/linear_model/_coordinate_descent.py:644: ConvergenceWarning: Objective did not converge. You might want to increase the number of iterations. Duality gap: 968.715132107588, tolerance: 2.063201161534906\n",
            "  positive,\n",
            "/usr/local/lib/python3.7/dist-packages/sklearn/linear_model/_coordinate_descent.py:648: ConvergenceWarning: Objective did not converge. You might want to increase the number of iterations, check the scale of the features or consider increasing regularisation. Duality gap: 2.786e+02, tolerance: 2.615e+00\n",
            "  coef_, l1_reg, l2_reg, X, y, max_iter, tol, rng, random, positive\n",
            "/usr/local/lib/python3.7/dist-packages/sklearn/linear_model/_coordinate_descent.py:644: ConvergenceWarning: Objective did not converge. You might want to increase the number of iterations. Duality gap: 567.5231633227668, tolerance: 2.024599797893537\n",
            "  positive,\n",
            "/usr/local/lib/python3.7/dist-packages/sklearn/linear_model/_coordinate_descent.py:644: ConvergenceWarning: Objective did not converge. You might want to increase the number of iterations. Duality gap: 741.0493207482295, tolerance: 2.024599797893537\n",
            "  positive,\n",
            "/usr/local/lib/python3.7/dist-packages/sklearn/linear_model/_coordinate_descent.py:644: ConvergenceWarning: Objective did not converge. You might want to increase the number of iterations. Duality gap: 220.98625639240163, tolerance: 1.987516888127035\n",
            "  positive,\n",
            "/usr/local/lib/python3.7/dist-packages/sklearn/linear_model/_coordinate_descent.py:644: ConvergenceWarning: Objective did not converge. You might want to increase the number of iterations. Duality gap: 147.20099767475767, tolerance: 1.987516888127035\n",
            "  positive,\n",
            "/usr/local/lib/python3.7/dist-packages/sklearn/linear_model/_coordinate_descent.py:644: ConvergenceWarning: Objective did not converge. You might want to increase the number of iterations. Duality gap: 338.02008990815284, tolerance: 2.037089026711137\n",
            "  positive,\n",
            "/usr/local/lib/python3.7/dist-packages/sklearn/linear_model/_coordinate_descent.py:644: ConvergenceWarning: Objective did not converge. You might want to increase the number of iterations. Duality gap: 475.4749497949633, tolerance: 2.037089026711137\n",
            "  positive,\n",
            "/usr/local/lib/python3.7/dist-packages/sklearn/linear_model/_coordinate_descent.py:644: ConvergenceWarning: Objective did not converge. You might want to increase the number of iterations. Duality gap: 533.5386620408817, tolerance: 2.0515848328546697\n",
            "  positive,\n",
            "/usr/local/lib/python3.7/dist-packages/sklearn/linear_model/_coordinate_descent.py:644: ConvergenceWarning: Objective did not converge. You might want to increase the number of iterations. Duality gap: 985.1162056620815, tolerance: 2.0515848328546697\n",
            "  positive,\n",
            "/usr/local/lib/python3.7/dist-packages/sklearn/linear_model/_coordinate_descent.py:644: ConvergenceWarning: Objective did not converge. You might want to increase the number of iterations. Duality gap: 838.4623673963824, tolerance: 1.9626481280815864\n",
            "  positive,\n",
            "/usr/local/lib/python3.7/dist-packages/sklearn/linear_model/_coordinate_descent.py:644: ConvergenceWarning: Objective did not converge. You might want to increase the number of iterations. Duality gap: 603.57801816762, tolerance: 1.9626481280815864\n",
            "  positive,\n",
            "/usr/local/lib/python3.7/dist-packages/sklearn/linear_model/_coordinate_descent.py:648: ConvergenceWarning: Objective did not converge. You might want to increase the number of iterations, check the scale of the features or consider increasing regularisation. Duality gap: 5.869e+02, tolerance: 2.518e+00\n",
            "  coef_, l1_reg, l2_reg, X, y, max_iter, tol, rng, random, positive\n",
            "/usr/local/lib/python3.7/dist-packages/sklearn/linear_model/_coordinate_descent.py:644: ConvergenceWarning: Objective did not converge. You might want to increase the number of iterations. Duality gap: 908.7192668088219, tolerance: 2.1306736028966697\n",
            "  positive,\n",
            "/usr/local/lib/python3.7/dist-packages/sklearn/linear_model/_coordinate_descent.py:644: ConvergenceWarning: Objective did not converge. You might want to increase the number of iterations. Duality gap: 1369.5739806023184, tolerance: 2.1306736028966697\n",
            "  positive,\n",
            "/usr/local/lib/python3.7/dist-packages/sklearn/linear_model/_coordinate_descent.py:644: ConvergenceWarning: Objective did not converge. You might want to increase the number of iterations. Duality gap: 605.4355210799313, tolerance: 2.093412556294779\n",
            "  positive,\n",
            "/usr/local/lib/python3.7/dist-packages/sklearn/linear_model/_coordinate_descent.py:644: ConvergenceWarning: Objective did not converge. You might want to increase the number of iterations. Duality gap: 764.7735104452795, tolerance: 2.093412556294779\n",
            "  positive,\n",
            "/usr/local/lib/python3.7/dist-packages/sklearn/linear_model/_coordinate_descent.py:644: ConvergenceWarning: Objective did not converge. You might want to increase the number of iterations. Duality gap: 417.6848317958711, tolerance: 2.1338950800209555\n",
            "  positive,\n",
            "/usr/local/lib/python3.7/dist-packages/sklearn/linear_model/_coordinate_descent.py:644: ConvergenceWarning: Objective did not converge. You might want to increase the number of iterations. Duality gap: 848.0310111851777, tolerance: 2.1338950800209555\n",
            "  positive,\n",
            "/usr/local/lib/python3.7/dist-packages/sklearn/linear_model/_coordinate_descent.py:644: ConvergenceWarning: Objective did not converge. You might want to increase the number of iterations. Duality gap: 974.8342762056864, tolerance: 2.061417261725527\n",
            "  positive,\n",
            "/usr/local/lib/python3.7/dist-packages/sklearn/linear_model/_coordinate_descent.py:644: ConvergenceWarning: Objective did not converge. You might want to increase the number of iterations. Duality gap: 1454.1697747879434, tolerance: 2.061417261725527\n",
            "  positive,\n",
            "/usr/local/lib/python3.7/dist-packages/sklearn/linear_model/_coordinate_descent.py:644: ConvergenceWarning: Objective did not converge. You might want to increase the number of iterations. Duality gap: 481.23869974878016, tolerance: 2.0699910586462806\n",
            "  positive,\n",
            "/usr/local/lib/python3.7/dist-packages/sklearn/linear_model/_coordinate_descent.py:644: ConvergenceWarning: Objective did not converge. You might want to increase the number of iterations. Duality gap: 1053.4008642223416, tolerance: 2.0699910586462806\n",
            "  positive,\n",
            "/usr/local/lib/python3.7/dist-packages/sklearn/linear_model/_coordinate_descent.py:644: ConvergenceWarning: Objective did not converge. You might want to increase the number of iterations. Duality gap: 437.7658742545673, tolerance: 2.057954215196382\n",
            "  positive,\n",
            "/usr/local/lib/python3.7/dist-packages/sklearn/linear_model/_coordinate_descent.py:644: ConvergenceWarning: Objective did not converge. You might want to increase the number of iterations. Duality gap: 1068.7601105394506, tolerance: 2.057954215196382\n",
            "  positive,\n",
            "/usr/local/lib/python3.7/dist-packages/sklearn/linear_model/_coordinate_descent.py:644: ConvergenceWarning: Objective did not converge. You might want to increase the number of iterations. Duality gap: 698.2378587257454, tolerance: 2.0223407540781597\n",
            "  positive,\n",
            "/usr/local/lib/python3.7/dist-packages/sklearn/linear_model/_coordinate_descent.py:644: ConvergenceWarning: Objective did not converge. You might want to increase the number of iterations. Duality gap: 955.4891553435127, tolerance: 2.0223407540781597\n",
            "  positive,\n",
            "/usr/local/lib/python3.7/dist-packages/sklearn/linear_model/_coordinate_descent.py:644: ConvergenceWarning: Objective did not converge. You might want to increase the number of iterations. Duality gap: 171.64688714854856, tolerance: 2.0610259040975576\n",
            "  positive,\n",
            "/usr/local/lib/python3.7/dist-packages/sklearn/linear_model/_coordinate_descent.py:644: ConvergenceWarning: Objective did not converge. You might want to increase the number of iterations. Duality gap: 1056.1584369508018, tolerance: 2.0610259040975576\n",
            "  positive,\n",
            "/usr/local/lib/python3.7/dist-packages/sklearn/linear_model/_coordinate_descent.py:644: ConvergenceWarning: Objective did not converge. You might want to increase the number of iterations. Duality gap: 773.3749929119185, tolerance: 1.9404320066695062\n",
            "  positive,\n",
            "/usr/local/lib/python3.7/dist-packages/sklearn/linear_model/_coordinate_descent.py:644: ConvergenceWarning: Objective did not converge. You might want to increase the number of iterations. Duality gap: 1069.6602231001157, tolerance: 1.9404320066695062\n",
            "  positive,\n",
            "/usr/local/lib/python3.7/dist-packages/sklearn/linear_model/_coordinate_descent.py:644: ConvergenceWarning: Objective did not converge. You might want to increase the number of iterations. Duality gap: 327.9651212297067, tolerance: 2.1037545741887835\n",
            "  positive,\n",
            "/usr/local/lib/python3.7/dist-packages/sklearn/linear_model/_coordinate_descent.py:644: ConvergenceWarning: Objective did not converge. You might want to increase the number of iterations. Duality gap: 1262.2224918547345, tolerance: 2.1037545741887835\n",
            "  positive,\n",
            "/usr/local/lib/python3.7/dist-packages/sklearn/linear_model/_coordinate_descent.py:648: ConvergenceWarning: Objective did not converge. You might want to increase the number of iterations, check the scale of the features or consider increasing regularisation. Duality gap: 4.118e+02, tolerance: 2.549e+00\n",
            "  coef_, l1_reg, l2_reg, X, y, max_iter, tol, rng, random, positive\n"
          ]
        }
      ]
    },
    {
      "cell_type": "code",
      "source": [
        "print('RMSE\\'s nos dados de teste para os melhores modelos:')\n",
        "print(rmses)"
      ],
      "metadata": {
        "colab": {
          "base_uri": "https://localhost:8080/"
        },
        "id": "ikxO-1981DhA",
        "outputId": "e8ef4c74-1add-43ed-e4b6-2a49f48b77e5"
      },
      "execution_count": 76,
      "outputs": [
        {
          "output_type": "stream",
          "name": "stdout",
          "text": [
            "RMSE's nos dados de teste para os melhores modelos:\n",
            "{'xgb_rmse': 1.6962033214259307, 'lasso_rmse': 1.7103405705335728, 'ridge_rmse': 1.6942599704962578}\n"
          ]
        }
      ]
    },
    {
      "cell_type": "markdown",
      "source": [
        "### Observamos assim que o modelo com Ridge regression e alpha = 15 foi o vencedor nos dados de teste."
      ],
      "metadata": {
        "id": "TQ_mXgvt0Ue4"
      }
    },
    {
      "cell_type": "code",
      "source": [],
      "metadata": {
        "id": "QGUhU9JK0c-4"
      },
      "execution_count": null,
      "outputs": []
    }
  ]
}